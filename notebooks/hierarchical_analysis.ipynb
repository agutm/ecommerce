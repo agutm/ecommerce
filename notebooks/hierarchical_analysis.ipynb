{
  "cells": [
    {
      "attachments": {},
      "cell_type": "markdown",
      "metadata": {},
      "source": [
        "#### Import libraries"
      ]
    },
    {
      "cell_type": "code",
      "execution_count": 141,
      "metadata": {
        "id": "WMs0YFeHrKET"
      },
      "outputs": [],
      "source": [
        "import pandas as pd\n",
        "import matplotlib.pyplot as plt"
      ]
    },
    {
      "attachments": {},
      "cell_type": "markdown",
      "metadata": {},
      "source": [
        "#### Load data"
      ]
    },
    {
      "cell_type": "code",
      "execution_count": 142,
      "metadata": {
        "id": "wUF6UGBmbPUT"
      },
      "outputs": [],
      "source": [
        "#Load datasets\n",
        "df_products = pd.read_json(\"https://raw.githubusercontent.com/anyoneai/e-commerce-open-data-set/master/products.json\")\n",
        "df_categories = pd.read_json(\"https://raw.githubusercontent.com/anyoneai/e-commerce-open-data-set/master/categories.json\")"
      ]
    },
    {
      "attachments": {},
      "cell_type": "markdown",
      "metadata": {},
      "source": [
        "#### Create count of hierarchical levels for each **category** and build an string showing the relationship  "
      ]
    },
    {
      "cell_type": "code",
      "execution_count": 143,
      "metadata": {
        "colab": {
          "base_uri": "https://localhost:8080/",
          "height": 1000
        },
        "id": "CJdo46N87o_C",
        "outputId": "19515226-714a-4aee-974c-4fc807e7a267"
      },
      "outputs": [
        {
          "data": {
            "text/html": [
              "<div>\n",
              "<style scoped>\n",
              "    .dataframe tbody tr th:only-of-type {\n",
              "        vertical-align: middle;\n",
              "    }\n",
              "\n",
              "    .dataframe tbody tr th {\n",
              "        vertical-align: top;\n",
              "    }\n",
              "\n",
              "    .dataframe thead th {\n",
              "        text-align: right;\n",
              "    }\n",
              "</style>\n",
              "<table border=\"1\" class=\"dataframe\">\n",
              "  <thead>\n",
              "    <tr style=\"text-align: right;\">\n",
              "      <th></th>\n",
              "      <th>id</th>\n",
              "      <th>name</th>\n",
              "      <th>path</th>\n",
              "      <th>subCategories</th>\n",
              "      <th>nivel_jerarquico</th>\n",
              "      <th>relacion_niveles</th>\n",
              "    </tr>\n",
              "  </thead>\n",
              "  <tbody>\n",
              "    <tr>\n",
              "      <th>0</th>\n",
              "      <td>abcat0010000</td>\n",
              "      <td>Gift Ideas</td>\n",
              "      <td>[{'id': 'abcat0010000', 'name': 'Gift Ideas'}]</td>\n",
              "      <td>[{'id': 'pcmcat140000050035', 'name': 'Capturing Photos &amp; Videos'}, {'id': 'pcmcat140000050036', 'name': 'Listening to Digital Music'}, {'id': 'pcmcat140000050037', 'name': 'Computing Made Easy'}, {'id': 'pcmcat140000050039', 'name': 'Simple GPS Navigation'}, {'id': 'pcmcat140000050040', 'name': 'Playing Video Games'}, {'id': 'pcmcat140000050041', 'name': 'Watching HDTV'}, {'id': 'pcmcat140000050042', 'name': 'Enjoying Favorite Movies'}, {'id': 'abcat0012000', 'name': 'Him'}, {'id': 'abcat0011000', 'name': 'Her'}, {'id': 'abcat0013000', 'name': 'Teens'}, {'id': 'abcat0014000', 'name': 'Kids'}, {'id': 'pcmcat84000050001', 'name': 'Anniversaries'}, {'id': 'pcmcat84000050004', 'name': 'Baby Showers'}, {'id': 'pcmcat94300050028', 'name': 'Birthdays'}, {'id': 'pcmcat84000050002', 'name': 'Business Gifts'}, {'id': 'pcmcat84000050003', 'name': 'Graduations'}, {'id': 'pcmcat84000050000', 'name': 'Weddings'}, {'id': 'abcat0020004', 'name': 'Unique Gifts'}, {'id': 'pcmcat111900050004', 'name': 'Pink and Red Gifts'}, {'id': 'abcat0020006', 'name': 'Prepaid Cards'}, {'id': 'pcmcat231900050003', 'name': 'eGift Cards'}, {'id': 'pcmcat253700050028', 'name': 'QP Test Category'}, {'id': 'pcmcat312700050000', 'name': 'Our Favorite Gift Ideas'}, {'id': 'pcmcat327600050005', 'name': 'Easter Made Easy'}, {'id': 'pcmcat327600050006', 'name': 'Brunches Made Easy'}, {'id': 'pcmcat332300050004', 'name': 'Grads Gifting'}, {'id': 'pcmcat748300579354', 'name': 'Family Gift Ideas'}, {'id': 'pcmcat748301108075', 'name': 'Stocking Stuffers'}]</td>\n",
              "      <td>1</td>\n",
              "      <td>Gift Ideas</td>\n",
              "    </tr>\n",
              "    <tr>\n",
              "      <th>1</th>\n",
              "      <td>abcat0020001</td>\n",
              "      <td>Learning Toys</td>\n",
              "      <td>[{'id': 'abcat0010000', 'name': 'Gift Ideas'}, {'id': 'abcat0014000', 'name': 'Kids'}, {'id': 'abcat0020000', 'name': 'Toys'}, {'id': 'abcat0020001', 'name': 'Learning Toys'}]</td>\n",
              "      <td>[]</td>\n",
              "      <td>4</td>\n",
              "      <td>Gift Ideas &gt; Kids &gt; Toys &gt; Learning Toys</td>\n",
              "    </tr>\n",
              "    <tr>\n",
              "      <th>2</th>\n",
              "      <td>abcat0020002</td>\n",
              "      <td>DVD Games</td>\n",
              "      <td>[{'id': 'abcat0010000', 'name': 'Gift Ideas'}, {'id': 'abcat0014000', 'name': 'Kids'}, {'id': 'abcat0020000', 'name': 'Toys'}, {'id': 'abcat0020002', 'name': 'DVD Games'}]</td>\n",
              "      <td>[]</td>\n",
              "      <td>4</td>\n",
              "      <td>Gift Ideas &gt; Kids &gt; Toys &gt; DVD Games</td>\n",
              "    </tr>\n",
              "  </tbody>\n",
              "</table>\n",
              "</div>"
            ],
            "text/plain": [
              "             id           name   \n",
              "0  abcat0010000     Gift Ideas  \\\n",
              "1  abcat0020001  Learning Toys   \n",
              "2  abcat0020002      DVD Games   \n",
              "\n",
              "                                                                                                                                                                              path   \n",
              "0                                                                                                                                   [{'id': 'abcat0010000', 'name': 'Gift Ideas'}]  \\\n",
              "1  [{'id': 'abcat0010000', 'name': 'Gift Ideas'}, {'id': 'abcat0014000', 'name': 'Kids'}, {'id': 'abcat0020000', 'name': 'Toys'}, {'id': 'abcat0020001', 'name': 'Learning Toys'}]   \n",
              "2      [{'id': 'abcat0010000', 'name': 'Gift Ideas'}, {'id': 'abcat0014000', 'name': 'Kids'}, {'id': 'abcat0020000', 'name': 'Toys'}, {'id': 'abcat0020002', 'name': 'DVD Games'}]   \n",
              "\n",
              "                                                                                                                                                                                                                                                                                                                                                                                                                                                                                                                                                                                                                                                                                                                                                                                                                                                                                                                                                                                                                                                                                                                                                                                                                                                                                                                                                                                                                                                                                                                                                                                       subCategories   \n",
              "0  [{'id': 'pcmcat140000050035', 'name': 'Capturing Photos & Videos'}, {'id': 'pcmcat140000050036', 'name': 'Listening to Digital Music'}, {'id': 'pcmcat140000050037', 'name': 'Computing Made Easy'}, {'id': 'pcmcat140000050039', 'name': 'Simple GPS Navigation'}, {'id': 'pcmcat140000050040', 'name': 'Playing Video Games'}, {'id': 'pcmcat140000050041', 'name': 'Watching HDTV'}, {'id': 'pcmcat140000050042', 'name': 'Enjoying Favorite Movies'}, {'id': 'abcat0012000', 'name': 'Him'}, {'id': 'abcat0011000', 'name': 'Her'}, {'id': 'abcat0013000', 'name': 'Teens'}, {'id': 'abcat0014000', 'name': 'Kids'}, {'id': 'pcmcat84000050001', 'name': 'Anniversaries'}, {'id': 'pcmcat84000050004', 'name': 'Baby Showers'}, {'id': 'pcmcat94300050028', 'name': 'Birthdays'}, {'id': 'pcmcat84000050002', 'name': 'Business Gifts'}, {'id': 'pcmcat84000050003', 'name': 'Graduations'}, {'id': 'pcmcat84000050000', 'name': 'Weddings'}, {'id': 'abcat0020004', 'name': 'Unique Gifts'}, {'id': 'pcmcat111900050004', 'name': 'Pink and Red Gifts'}, {'id': 'abcat0020006', 'name': 'Prepaid Cards'}, {'id': 'pcmcat231900050003', 'name': 'eGift Cards'}, {'id': 'pcmcat253700050028', 'name': 'QP Test Category'}, {'id': 'pcmcat312700050000', 'name': 'Our Favorite Gift Ideas'}, {'id': 'pcmcat327600050005', 'name': 'Easter Made Easy'}, {'id': 'pcmcat327600050006', 'name': 'Brunches Made Easy'}, {'id': 'pcmcat332300050004', 'name': 'Grads Gifting'}, {'id': 'pcmcat748300579354', 'name': 'Family Gift Ideas'}, {'id': 'pcmcat748301108075', 'name': 'Stocking Stuffers'}]  \\\n",
              "1                                                                                                                                                                                                                                                                                                                                                                                                                                                                                                                                                                                                                                                                                                                                                                                                                                                                                                                                                                                                                                                                                                                                                                                                                                                                                                                                                                                                                                                                                                                                                                                                 []   \n",
              "2                                                                                                                                                                                                                                                                                                                                                                                                                                                                                                                                                                                                                                                                                                                                                                                                                                                                                                                                                                                                                                                                                                                                                                                                                                                                                                                                                                                                                                                                                                                                                                                                 []   \n",
              "\n",
              "   nivel_jerarquico                          relacion_niveles  \n",
              "0                 1                                Gift Ideas  \n",
              "1                 4  Gift Ideas > Kids > Toys > Learning Toys  \n",
              "2                 4      Gift Ideas > Kids > Toys > DVD Games  "
            ]
          },
          "execution_count": 143,
          "metadata": {},
          "output_type": "execute_result"
        }
      ],
      "source": [
        "pd.set_option('display.max_colwidth', None)\n",
        "df_categories['nivel_jerarquico'] = df_categories['path'].apply(lambda x: len(x))\n",
        "#df_categories\n",
        "df_categories['relacion_niveles'] = df_categories['path'].apply(lambda x: ' > '.join(category['name'] for category in x if category['name'] is not None))\n",
        "df_categories.head(3)"
      ]
    },
    {
      "attachments": {},
      "cell_type": "markdown",
      "metadata": {},
      "source": [
        "#### Get categories with only one level in path, meaning they are the top level categories"
      ]
    },
    {
      "cell_type": "code",
      "execution_count": 144,
      "metadata": {
        "colab": {
          "base_uri": "https://localhost:8080/",
          "height": 1000
        },
        "id": "4oyiHBdqIdSb",
        "outputId": "84f4ea5c-cce5-4ac3-f69a-f3f20457acdc"
      },
      "outputs": [
        {
          "data": {
            "text/html": [
              "<div>\n",
              "<style scoped>\n",
              "    .dataframe tbody tr th:only-of-type {\n",
              "        vertical-align: middle;\n",
              "    }\n",
              "\n",
              "    .dataframe tbody tr th {\n",
              "        vertical-align: top;\n",
              "    }\n",
              "\n",
              "    .dataframe thead th {\n",
              "        text-align: right;\n",
              "    }\n",
              "</style>\n",
              "<table border=\"1\" class=\"dataframe\">\n",
              "  <thead>\n",
              "    <tr style=\"text-align: right;\">\n",
              "      <th></th>\n",
              "      <th>id</th>\n",
              "      <th>name</th>\n",
              "      <th>path</th>\n",
              "      <th>subCategories</th>\n",
              "      <th>nivel_jerarquico</th>\n",
              "      <th>relacion_niveles</th>\n",
              "    </tr>\n",
              "  </thead>\n",
              "  <tbody>\n",
              "    <tr>\n",
              "      <th>3717</th>\n",
              "      <td>pcmcat362400050004</td>\n",
              "      <td>Laptop &amp; Tablet Buying Guides</td>\n",
              "      <td>[{'id': 'pcmcat362400050004', 'name': 'Laptop &amp; Tablet Buying Guides'}]</td>\n",
              "      <td>[]</td>\n",
              "      <td>1</td>\n",
              "      <td>Laptop &amp; Tablet Buying Guides</td>\n",
              "    </tr>\n",
              "    <tr>\n",
              "      <th>2200</th>\n",
              "      <td>pcmcat230900050001</td>\n",
              "      <td>Best Buy For Business</td>\n",
              "      <td>[{'id': 'pcmcat230900050001', 'name': 'Best Buy For Business'}]</td>\n",
              "      <td>[{'id': 'pcmcat154200050035', 'name': 'Small Business &amp; Home Office Essentials'}, {'id': 'pcmcat356600050000', 'name': 'BBFB sub1'}, {'id': 'pcmcat356600050001', 'name': 'BBFB sub2'}, {'id': 'pcmcat356600050002', 'name': 'BBFB sub3'}]</td>\n",
              "      <td>1</td>\n",
              "      <td>Best Buy For Business</td>\n",
              "    </tr>\n",
              "    <tr>\n",
              "      <th>3473</th>\n",
              "      <td>pcmcat332000050000</td>\n",
              "      <td>Wearable Technology</td>\n",
              "      <td>[{'id': 'pcmcat332000050000', 'name': 'Wearable Technology'}]</td>\n",
              "      <td>[{'id': 'pcmcat210000050008', 'name': 'Activity Trackers &amp; Pedometers'}, {'id': 'pcmcat273800050002', 'name': 'Action Camcorders'}, {'id': 'abcat0204000', 'name': 'Headphones'}, {'id': 'pcmcat359400050017', 'name': 'Pet Tracking Devices'}, {'id': 'pcmcat321000050003', 'name': 'Smartwatches &amp; Accessories'}, {'id': 'abcat0301006', 'name': 'Fitness &amp; GPS Watches'}, {'id': 'pcmcat330100050000', 'name': 'Smart Sports Equipment'}, {'id': 'pcmcat748301221690', 'name': 'Smart Tracker Tags'}, {'id': 'pcmcat378200050018', 'name': 'Virtual Reality Headsets'}, {'id': 'pcmcat748300489081', 'name': 'Apple Watch'}, {'id': 'pcmcat356400050001', 'name': 'Health and Fitness Event'}]</td>\n",
              "      <td>1</td>\n",
              "      <td>Wearable Technology</td>\n",
              "    </tr>\n",
              "  </tbody>\n",
              "</table>\n",
              "</div>"
            ],
            "text/plain": [
              "                      id                           name   \n",
              "3717  pcmcat362400050004  Laptop & Tablet Buying Guides  \\\n",
              "2200  pcmcat230900050001          Best Buy For Business   \n",
              "3473  pcmcat332000050000            Wearable Technology   \n",
              "\n",
              "                                                                         path   \n",
              "3717  [{'id': 'pcmcat362400050004', 'name': 'Laptop & Tablet Buying Guides'}]  \\\n",
              "2200          [{'id': 'pcmcat230900050001', 'name': 'Best Buy For Business'}]   \n",
              "3473            [{'id': 'pcmcat332000050000', 'name': 'Wearable Technology'}]   \n",
              "\n",
              "                                                                                                                                                                                                                                                                                                                                                                                                                                                                                                                                                                                                                                                                                          subCategories   \n",
              "3717                                                                                                                                                                                                                                                                                                                                                                                                                                                                                                                                                                                                                                                                                                 []  \\\n",
              "2200                                                                                                                                                                                                                                                                                                                                                                                                                                                         [{'id': 'pcmcat154200050035', 'name': 'Small Business & Home Office Essentials'}, {'id': 'pcmcat356600050000', 'name': 'BBFB sub1'}, {'id': 'pcmcat356600050001', 'name': 'BBFB sub2'}, {'id': 'pcmcat356600050002', 'name': 'BBFB sub3'}]   \n",
              "3473  [{'id': 'pcmcat210000050008', 'name': 'Activity Trackers & Pedometers'}, {'id': 'pcmcat273800050002', 'name': 'Action Camcorders'}, {'id': 'abcat0204000', 'name': 'Headphones'}, {'id': 'pcmcat359400050017', 'name': 'Pet Tracking Devices'}, {'id': 'pcmcat321000050003', 'name': 'Smartwatches & Accessories'}, {'id': 'abcat0301006', 'name': 'Fitness & GPS Watches'}, {'id': 'pcmcat330100050000', 'name': 'Smart Sports Equipment'}, {'id': 'pcmcat748301221690', 'name': 'Smart Tracker Tags'}, {'id': 'pcmcat378200050018', 'name': 'Virtual Reality Headsets'}, {'id': 'pcmcat748300489081', 'name': 'Apple Watch'}, {'id': 'pcmcat356400050001', 'name': 'Health and Fitness Event'}]   \n",
              "\n",
              "      nivel_jerarquico               relacion_niveles  \n",
              "3717                 1  Laptop & Tablet Buying Guides  \n",
              "2200                 1          Best Buy For Business  \n",
              "3473                 1            Wearable Technology  "
            ]
          },
          "execution_count": 144,
          "metadata": {},
          "output_type": "execute_result"
        }
      ],
      "source": [
        "# Filter the records with only one element in the 'path' column dictionary (meaning they don't have a higher level than themselves)\n",
        "df_parents = df_categories[df_categories['path'].apply(lambda x: len(x) == 1)]\n",
        "df_parents.sample(3)"
      ]
    },
    {
      "attachments": {},
      "cell_type": "markdown",
      "metadata": {},
      "source": [
        "**Products dataframe**"
      ]
    },
    {
      "cell_type": "code",
      "execution_count": 145,
      "metadata": {},
      "outputs": [
        {
          "name": "stdout",
          "output_type": "stream",
          "text": [
            "El número máximo de categorías por producto es: 7\n"
          ]
        }
      ],
      "source": [
        "print('El número máximo de categorías por producto es:', df_products['category'].apply(lambda x: len(x)).max())"
      ]
    },
    {
      "attachments": {},
      "cell_type": "markdown",
      "metadata": {},
      "source": [
        "#### Select these categories as the ones to be used for the hierarchical multi-label classification model"
      ]
    },
    {
      "cell_type": "code",
      "execution_count": 146,
      "metadata": {
        "id": "G1tF9tlLJLPC"
      },
      "outputs": [],
      "source": [
        "# Lista de IDs identificados como posibles padres\n",
        "ids_filtrados = ['abcat0900000', 'abcat0100000', 'abcat0500000', 'abcat0800000', 'abcat0200000', 'abcat0700000',\n",
        "                 'abcat0400000', 'abcat0600000', 'pcmcat332000050000', 'pcmcat242800050021', 'pcmcat252700050006',\n",
        "                 'abcat0207000', 'abcat0300000', 'pcmcat311300050017']"
      ]
    },
    {
      "cell_type": "code",
      "execution_count": 147,
      "metadata": {
        "colab": {
          "base_uri": "https://localhost:8080/",
          "height": 1000
        },
        "id": "XYcgO-AOJR0y",
        "outputId": "e530e026-1538-4884-d71a-abc35ae29c76"
      },
      "outputs": [
        {
          "data": {
            "text/plain": [
              "(14, 6)"
            ]
          },
          "execution_count": 147,
          "metadata": {},
          "output_type": "execute_result"
        }
      ],
      "source": [
        "df_filtrado = df_padres[df_padres['id'].isin(ids_filtrados)]\n",
        "df_filtrado.shape"
      ]
    },
    {
      "cell_type": "code",
      "execution_count": 148,
      "metadata": {},
      "outputs": [
        {
          "data": {
            "text/html": [
              "<div>\n",
              "<style scoped>\n",
              "    .dataframe tbody tr th:only-of-type {\n",
              "        vertical-align: middle;\n",
              "    }\n",
              "\n",
              "    .dataframe tbody tr th {\n",
              "        vertical-align: top;\n",
              "    }\n",
              "\n",
              "    .dataframe thead th {\n",
              "        text-align: right;\n",
              "    }\n",
              "</style>\n",
              "<table border=\"1\" class=\"dataframe\">\n",
              "  <thead>\n",
              "    <tr style=\"text-align: right;\">\n",
              "      <th></th>\n",
              "      <th>id</th>\n",
              "      <th>name</th>\n",
              "      <th>path</th>\n",
              "      <th>subCategories</th>\n",
              "      <th>nivel_jerarquico</th>\n",
              "      <th>relacion_niveles</th>\n",
              "    </tr>\n",
              "  </thead>\n",
              "  <tbody>\n",
              "    <tr>\n",
              "      <th>2336</th>\n",
              "      <td>pcmcat242800050021</td>\n",
              "      <td>Health, Fitness &amp; Beauty</td>\n",
              "      <td>[{'id': 'pcmcat242800050021', 'name': 'Health, Fitness &amp; Beauty'}]</td>\n",
              "      <td>[{'id': 'pcmcat243800050004', 'name': 'Fitness &amp; Exercise'}, {'id': 'pcmcat326900050000', 'name': 'Health'}, {'id': 'pcmcat326500050010', 'name': 'Health'}, {'id': 'abcat0915000', 'name': 'Personal Care &amp; Beauty'}, {'id': 'pcmcat159400050012', 'name': 'Strength &amp; Weight Training'}, {'id': 'pcmcat159400050013', 'name': 'Yoga, Pilates &amp; Core Training'}, {'id': 'pcmcat208400050005', 'name': 'Portable Fitness Electronics'}, {'id': 'pcmcat246900050017', 'name': 'Portable Fitness fake'}, {'id': 'pcmcat246900050018', 'name': 'Personal Care fake'}, {'id': 'pcmcat159400050014', 'name': 'Fitness Accessories'}, {'id': 'pcmcat352500050007', 'name': 'Health &amp; Fitness Accessories'}, {'id': 'pcmcat210000050008', 'name': 'Activity Trackers &amp; Pedometers'}, {'id': 'pcmcat325200050005', 'name': 'Assistive Technology'}, {'id': 'pcmcat243800050005', 'name': 'Exercise Equipment'}, {'id': 'abcat0301006', 'name': 'Fitness &amp; GPS Watches'}, {'id': 'pcmcat333300050027', 'name': 'Health Monitoring &amp; Testing'}, {'id': 'pcmcat330100050000', 'name': 'Smart Sports Equipment'}, {'id': 'pcmcat273800050017', 'name': 'Sports &amp; Outdoor Recreation'}, {'id': 'pcmcat230600050006', 'name': 'Sports Fan Shop'}]</td>\n",
              "      <td>1</td>\n",
              "      <td>Health, Fitness &amp; Beauty</td>\n",
              "    </tr>\n",
              "  </tbody>\n",
              "</table>\n",
              "</div>"
            ],
            "text/plain": [
              "                      id                      name   \n",
              "2336  pcmcat242800050021  Health, Fitness & Beauty  \\\n",
              "\n",
              "                                                                    path   \n",
              "2336  [{'id': 'pcmcat242800050021', 'name': 'Health, Fitness & Beauty'}]  \\\n",
              "\n",
              "                                                                                                                                                                                                                                                                                                                                                                                                                                                                                                                                                                                                                                                                                                                                                                                                                                                                                                                                                                                                                                                                                                                                                                                                                            subCategories   \n",
              "2336  [{'id': 'pcmcat243800050004', 'name': 'Fitness & Exercise'}, {'id': 'pcmcat326900050000', 'name': 'Health'}, {'id': 'pcmcat326500050010', 'name': 'Health'}, {'id': 'abcat0915000', 'name': 'Personal Care & Beauty'}, {'id': 'pcmcat159400050012', 'name': 'Strength & Weight Training'}, {'id': 'pcmcat159400050013', 'name': 'Yoga, Pilates & Core Training'}, {'id': 'pcmcat208400050005', 'name': 'Portable Fitness Electronics'}, {'id': 'pcmcat246900050017', 'name': 'Portable Fitness fake'}, {'id': 'pcmcat246900050018', 'name': 'Personal Care fake'}, {'id': 'pcmcat159400050014', 'name': 'Fitness Accessories'}, {'id': 'pcmcat352500050007', 'name': 'Health & Fitness Accessories'}, {'id': 'pcmcat210000050008', 'name': 'Activity Trackers & Pedometers'}, {'id': 'pcmcat325200050005', 'name': 'Assistive Technology'}, {'id': 'pcmcat243800050005', 'name': 'Exercise Equipment'}, {'id': 'abcat0301006', 'name': 'Fitness & GPS Watches'}, {'id': 'pcmcat333300050027', 'name': 'Health Monitoring & Testing'}, {'id': 'pcmcat330100050000', 'name': 'Smart Sports Equipment'}, {'id': 'pcmcat273800050017', 'name': 'Sports & Outdoor Recreation'}, {'id': 'pcmcat230600050006', 'name': 'Sports Fan Shop'}]  \\\n",
              "\n",
              "      nivel_jerarquico          relacion_niveles  \n",
              "2336                 1  Health, Fitness & Beauty  "
            ]
          },
          "execution_count": 148,
          "metadata": {},
          "output_type": "execute_result"
        }
      ],
      "source": [
        "df_filtrado.sample(1)"
      ]
    },
    {
      "attachments": {},
      "cell_type": "markdown",
      "metadata": {},
      "source": [
        "#### Now, let's get create a dataframe of products with all categories of each level \n",
        "\n",
        "Note that the maximum level of hierarchy is 7"
      ]
    },
    {
      "cell_type": "code",
      "execution_count": 149,
      "metadata": {
        "colab": {
          "base_uri": "https://localhost:8080/",
          "height": 1000
        },
        "id": "2oUn8YSoO_C7",
        "outputId": "3e90e65b-f0a8-4d87-a653-60bdb1460a94"
      },
      "outputs": [
        {
          "data": {
            "text/html": [
              "<div>\n",
              "<style scoped>\n",
              "    .dataframe tbody tr th:only-of-type {\n",
              "        vertical-align: middle;\n",
              "    }\n",
              "\n",
              "    .dataframe tbody tr th {\n",
              "        vertical-align: top;\n",
              "    }\n",
              "\n",
              "    .dataframe thead th {\n",
              "        text-align: right;\n",
              "    }\n",
              "</style>\n",
              "<table border=\"1\" class=\"dataframe\">\n",
              "  <thead>\n",
              "    <tr style=\"text-align: right;\">\n",
              "      <th></th>\n",
              "      <th>sku</th>\n",
              "      <th>name</th>\n",
              "      <th>category</th>\n",
              "      <th>level_1</th>\n",
              "      <th>level_2</th>\n",
              "      <th>level_3</th>\n",
              "      <th>level_4</th>\n",
              "      <th>level_5</th>\n",
              "      <th>level_6</th>\n",
              "      <th>level_7</th>\n",
              "    </tr>\n",
              "  </thead>\n",
              "  <tbody>\n",
              "    <tr>\n",
              "      <th>46295</th>\n",
              "      <td>9082600</td>\n",
              "      <td>Incipio - DualPro Hard Shell Case for Motorola Moto X (2nd Generation) Cell Phones - Cyan</td>\n",
              "      <td>[{'id': 'abcat0800000', 'name': 'Cell Phones'}, {'id': 'abcat0811002', 'name': 'Cell Phone Accessories'}, {'id': 'abcat0811006', 'name': 'Cell Phone Cases &amp; Clips'}]</td>\n",
              "      <td>Cell Phones</td>\n",
              "      <td>Cell Phone Accessories</td>\n",
              "      <td>Cell Phone Cases &amp; Clips</td>\n",
              "      <td>None</td>\n",
              "      <td>None</td>\n",
              "      <td>None</td>\n",
              "      <td>None</td>\n",
              "    </tr>\n",
              "    <tr>\n",
              "      <th>5218</th>\n",
              "      <td>2017086</td>\n",
              "      <td>Diva Girls: Divas on Ice - PRE-OWNED - Nintendo DS</td>\n",
              "      <td>[{'id': 'abcat0700000', 'name': 'Video Games'}, {'id': 'pcmcat232900050017', 'name': 'Pre-Owned Games'}]</td>\n",
              "      <td>Video Games</td>\n",
              "      <td>Pre-Owned Games</td>\n",
              "      <td>None</td>\n",
              "      <td>None</td>\n",
              "      <td>None</td>\n",
              "      <td>None</td>\n",
              "      <td>None</td>\n",
              "    </tr>\n",
              "    <tr>\n",
              "      <th>34214</th>\n",
              "      <td>6012005</td>\n",
              "      <td>Lenovo - IdeaCentre Desktop - 12GB Memory - 1TB Hard Drive - Black</td>\n",
              "      <td>[{'id': 'abcat0500000', 'name': 'Computers &amp; Tablets'}, {'id': 'abcat0501000', 'name': 'Desktop &amp; All-in-One Computers'}, {'id': 'pcmcat143400050013', 'name': 'All Desktops'}]</td>\n",
              "      <td>Computers &amp; Tablets</td>\n",
              "      <td>Desktop &amp; All-in-One Computers</td>\n",
              "      <td>All Desktops</td>\n",
              "      <td>None</td>\n",
              "      <td>None</td>\n",
              "      <td>None</td>\n",
              "      <td>None</td>\n",
              "    </tr>\n",
              "  </tbody>\n",
              "</table>\n",
              "</div>"
            ],
            "text/plain": [
              "           sku   \n",
              "46295  9082600  \\\n",
              "5218   2017086   \n",
              "34214  6012005   \n",
              "\n",
              "                                                                                            name   \n",
              "46295  Incipio - DualPro Hard Shell Case for Motorola Moto X (2nd Generation) Cell Phones - Cyan  \\\n",
              "5218                                          Diva Girls: Divas on Ice - PRE-OWNED - Nintendo DS   \n",
              "34214                         Lenovo - IdeaCentre Desktop - 12GB Memory - 1TB Hard Drive - Black   \n",
              "\n",
              "                                                                                                                                                                              category   \n",
              "46295            [{'id': 'abcat0800000', 'name': 'Cell Phones'}, {'id': 'abcat0811002', 'name': 'Cell Phone Accessories'}, {'id': 'abcat0811006', 'name': 'Cell Phone Cases & Clips'}]  \\\n",
              "5218                                                                          [{'id': 'abcat0700000', 'name': 'Video Games'}, {'id': 'pcmcat232900050017', 'name': 'Pre-Owned Games'}]   \n",
              "34214  [{'id': 'abcat0500000', 'name': 'Computers & Tablets'}, {'id': 'abcat0501000', 'name': 'Desktop & All-in-One Computers'}, {'id': 'pcmcat143400050013', 'name': 'All Desktops'}]   \n",
              "\n",
              "                   level_1                         level_2   \n",
              "46295          Cell Phones          Cell Phone Accessories  \\\n",
              "5218           Video Games                 Pre-Owned Games   \n",
              "34214  Computers & Tablets  Desktop & All-in-One Computers   \n",
              "\n",
              "                        level_3 level_4 level_5 level_6 level_7  \n",
              "46295  Cell Phone Cases & Clips    None    None    None    None  \n",
              "5218                       None    None    None    None    None  \n",
              "34214              All Desktops    None    None    None    None  "
            ]
          },
          "execution_count": 149,
          "metadata": {},
          "output_type": "execute_result"
        }
      ],
      "source": [
        "def get_hierarchy_level(category):\n",
        "    levels = []\n",
        "    for cat in category:\n",
        "        levels.append(cat['name'])\n",
        "    return levels\n",
        "\n",
        "hierarchical_levels = pd.DataFrame(df_products['category'].apply(get_hierarchy_level).tolist(),\n",
        "                                     columns=['level_1', 'level_2', 'level_3', 'level_4', 'level_5', 'level_6', 'level_7'])\n",
        "\n",
        "df_products_w_levels = pd.concat([df_products, hierarchical_levels], axis=1)\n",
        "df_products_w_levels.sample(3)[['sku','name','category','level_1', 'level_2', 'level_3', 'level_4', 'level_5', 'level_6', 'level_7']]"
      ]
    },
    {
      "attachments": {},
      "cell_type": "markdown",
      "metadata": {},
      "source": [
        "Also create a new column with the ID of the first category (Parent category) of each product"
      ]
    },
    {
      "cell_type": "code",
      "execution_count": 150,
      "metadata": {
        "colab": {
          "base_uri": "https://localhost:8080/",
          "height": 1000
        },
        "id": "UOin4qrzQ8C6",
        "outputId": "e1895501-5b81-47ba-c4e0-cf706442d4f8"
      },
      "outputs": [
        {
          "data": {
            "text/html": [
              "<div>\n",
              "<style scoped>\n",
              "    .dataframe tbody tr th:only-of-type {\n",
              "        vertical-align: middle;\n",
              "    }\n",
              "\n",
              "    .dataframe tbody tr th {\n",
              "        vertical-align: top;\n",
              "    }\n",
              "\n",
              "    .dataframe thead th {\n",
              "        text-align: right;\n",
              "    }\n",
              "</style>\n",
              "<table border=\"1\" class=\"dataframe\">\n",
              "  <thead>\n",
              "    <tr style=\"text-align: right;\">\n",
              "      <th></th>\n",
              "      <th>name</th>\n",
              "      <th>category</th>\n",
              "      <th>level_1</th>\n",
              "      <th>level_1_id</th>\n",
              "    </tr>\n",
              "  </thead>\n",
              "  <tbody>\n",
              "    <tr>\n",
              "      <th>40868</th>\n",
              "      <td>Metra - Wiring Harness for Most Chrysler and Dodge Vehicles - Multicolored</td>\n",
              "      <td>[{'id': 'abcat0300000', 'name': 'Car Electronics &amp; GPS'}, {'id': 'pcmcat165900050023', 'name': 'Car Installation Parts &amp; Accessories'}, {'id': 'pcmcat331600050007', 'name': 'Car Audio Installation Parts'}, {'id': 'pcmcat165900050037', 'name': 'Speaker &amp; Subwoofer Installation Parts'}, {'id': 'pcmcat165900050041', 'name': 'Speaker Harnesses'}]</td>\n",
              "      <td>Car Electronics &amp; GPS</td>\n",
              "      <td>abcat0300000</td>\n",
              "    </tr>\n",
              "    <tr>\n",
              "      <th>2924</th>\n",
              "      <td>Turbo: Super Stunt Squad - PRE-OWNED - Nintendo Wii</td>\n",
              "      <td>[{'id': 'abcat0700000', 'name': 'Video Games'}, {'id': 'pcmcat232900050017', 'name': 'Pre-Owned Games'}]</td>\n",
              "      <td>Video Games</td>\n",
              "      <td>abcat0700000</td>\n",
              "    </tr>\n",
              "    <tr>\n",
              "      <th>40260</th>\n",
              "      <td>Rachael Ray - Cucina Oven-To-Table 5-Quart Oval Sautéuse - Pumpkin Orange</td>\n",
              "      <td>[{'id': 'abcat0900000', 'name': 'Appliances'}, {'id': 'abcat0912000', 'name': 'Small Kitchen Appliances'}, {'id': 'pcmcat748301695371', 'name': 'Cookware, Bakeware &amp; Cutlery'}, {'id': 'pcmcat748301695443', 'name': 'Bakeware'}]</td>\n",
              "      <td>Appliances</td>\n",
              "      <td>abcat0900000</td>\n",
              "    </tr>\n",
              "    <tr>\n",
              "      <th>6307</th>\n",
              "      <td>Tosa - Cylinder Bluetooth Speaker - Red</td>\n",
              "      <td>[{'id': 'abcat0200000', 'name': 'Audio'}, {'id': 'pcmcat310200050004', 'name': 'Bluetooth &amp; Wireless Speakers'}]</td>\n",
              "      <td>Audio</td>\n",
              "      <td>abcat0200000</td>\n",
              "    </tr>\n",
              "    <tr>\n",
              "      <th>19472</th>\n",
              "      <td>Nintendo - amiibo Figure (Super Smash Bros. Greninja)</td>\n",
              "      <td>[{'id': 'abcat0700000', 'name': 'Video Games'}, {'id': 'pcmcat306400050032', 'name': 'Toys to Life'}, {'id': 'pcmcat385200050004', 'name': 'Amiibo'}]</td>\n",
              "      <td>Video Games</td>\n",
              "      <td>abcat0700000</td>\n",
              "    </tr>\n",
              "  </tbody>\n",
              "</table>\n",
              "</div>"
            ],
            "text/plain": [
              "                                                                             name   \n",
              "40868  Metra - Wiring Harness for Most Chrysler and Dodge Vehicles - Multicolored  \\\n",
              "2924                          Turbo: Super Stunt Squad - PRE-OWNED - Nintendo Wii   \n",
              "40260   Rachael Ray - Cucina Oven-To-Table 5-Quart Oval Sautéuse - Pumpkin Orange   \n",
              "6307                                      Tosa - Cylinder Bluetooth Speaker - Red   \n",
              "19472                       Nintendo - amiibo Figure (Super Smash Bros. Greninja)   \n",
              "\n",
              "                                                                                                                                                                                                                                                                                                                                                       category   \n",
              "40868  [{'id': 'abcat0300000', 'name': 'Car Electronics & GPS'}, {'id': 'pcmcat165900050023', 'name': 'Car Installation Parts & Accessories'}, {'id': 'pcmcat331600050007', 'name': 'Car Audio Installation Parts'}, {'id': 'pcmcat165900050037', 'name': 'Speaker & Subwoofer Installation Parts'}, {'id': 'pcmcat165900050041', 'name': 'Speaker Harnesses'}]  \\\n",
              "2924                                                                                                                                                                                                                                                   [{'id': 'abcat0700000', 'name': 'Video Games'}, {'id': 'pcmcat232900050017', 'name': 'Pre-Owned Games'}]   \n",
              "40260                                                                                                                        [{'id': 'abcat0900000', 'name': 'Appliances'}, {'id': 'abcat0912000', 'name': 'Small Kitchen Appliances'}, {'id': 'pcmcat748301695371', 'name': 'Cookware, Bakeware & Cutlery'}, {'id': 'pcmcat748301695443', 'name': 'Bakeware'}]   \n",
              "6307                                                                                                                                                                                                                                           [{'id': 'abcat0200000', 'name': 'Audio'}, {'id': 'pcmcat310200050004', 'name': 'Bluetooth & Wireless Speakers'}]   \n",
              "19472                                                                                                                                                                                                     [{'id': 'abcat0700000', 'name': 'Video Games'}, {'id': 'pcmcat306400050032', 'name': 'Toys to Life'}, {'id': 'pcmcat385200050004', 'name': 'Amiibo'}]   \n",
              "\n",
              "                     level_1    level_1_id  \n",
              "40868  Car Electronics & GPS  abcat0300000  \n",
              "2924             Video Games  abcat0700000  \n",
              "40260             Appliances  abcat0900000  \n",
              "6307                   Audio  abcat0200000  \n",
              "19472            Video Games  abcat0700000  "
            ]
          },
          "execution_count": 150,
          "metadata": {},
          "output_type": "execute_result"
        }
      ],
      "source": [
        "def get_id_of_categoryLevel_1(category):\n",
        "    return category[0]['id']\n",
        "\n",
        "# Apply the function to the 'category' column and create a new column 'level_1_id'\n",
        "df_products_w_levels['level_1_id'] = df_products_w_levels['category'].apply(get_id_of_categoryLevel_1)\n",
        "df_products_w_levels.sample(5)[['name','category','level_1', 'level_1_id']]"
      ]
    },
    {
      "attachments": {},
      "cell_type": "markdown",
      "metadata": {},
      "source": [
        "#### **Histrogram of parent categories**"
      ]
    },
    {
      "cell_type": "code",
      "execution_count": 151,
      "metadata": {
        "colab": {
          "base_uri": "https://localhost:8080/",
          "height": 424
        },
        "id": "kfAgobNbRs6r",
        "outputId": "88115317-51da-4e8e-d34f-1d12f31d2b13"
      },
      "outputs": [
        {
          "data": {
            "image/png": "[encoded data removed]",
            "text/plain": [
              "<Figure size 1100x700 with 1 Axes>"
            ]
          },
          "metadata": {},
          "output_type": "display_data"
        }
      ],
      "source": [
        "conteo_por_categoria = df_productos_con_niveles.groupby(['level_1_id', 'level_1']).size().reset_index(name='count')\n",
        "\n",
        "# Filtrar los registros que coinciden con los IDs en la lista\n",
        "parents_count = conteo_por_categoria[conteo_por_categoria['level_1_id'].isin(ids_filtrados)].sort_values(by='count', ascending=False)\n",
        "\n",
        "# plot a bar plot of parents_count use show specific value of each bar\n",
        "plt.figure(figsize=(11, 7))\n",
        "plt.bar(parents_count['level_1'], parents_count['count'])\n",
        "plt.title('Number of products per parent category')\n",
        "plt.xticks(rotation=90)\n",
        "for index, value in enumerate(parents_count['count']):\n",
        "    plt.text(index, value, str(value))\n",
        "plt.show()\n"
      ]
    }
  ],
  "metadata": {
    "colab": {
      "provenance": []
    },
    "kernelspec": {
      "display_name": "Python 3",
      "name": "python3"
    },
    "language_info": {
      "codemirror_mode": {
        "name": "ipython",
        "version": 3
      },
      "file_extension": ".py",
      "mimetype": "text/x-python",
      "name": "python",
      "nbconvert_exporter": "python",
      "pygments_lexer": "ipython3",
      "version": "3.8.16"
    }
  },
  "nbformat": 4,
  "nbformat_minor": 0
}
