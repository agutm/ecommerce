{
  "nbformat": 4,
  "nbformat_minor": 0,
  "metadata": {
    "colab": {
      "provenance": [],
      "gpuType": "T4",
      "collapsed_sections": [
        "4Qx9O2SIW_Ee",
        "_sNuK4hzW1cg",
        "b80W7Efp8Bdf"
      ]
    },
    "kernelspec": {
      "name": "python3",
      "display_name": "Python 3"
    },
    "language_info": {
      "name": "python"
    },
    "accelerator": "GPU",
    "widgets": {
      "application/vnd.jupyter.widget-state+json": {
        "05a73bf674e24add84b4f6f1d3febc58": {
          "model_module": "@jupyter-widgets/controls",
          "model_name": "HBoxModel",
          "model_module_version": "1.5.0",
          "state": {
            "_dom_classes": [],
            "_model_module": "@jupyter-widgets/controls",
            "_model_module_version": "1.5.0",
            "_model_name": "HBoxModel",
            "_view_count": null,
            "_view_module": "@jupyter-widgets/controls",
            "_view_module_version": "1.5.0",
            "_view_name": "HBoxView",
            "box_style": "",
            "children": [
              "IPY_MODEL_3367a838907e407e89cbb70b9ea6423c",
              "IPY_MODEL_7f7fa400940e4c6f8cbf9c1729a983fd",
              "IPY_MODEL_5fa353795ab8414cb8b4169c35e03ace"
            ],
            "layout": "IPY_MODEL_465d675a85344ff1b1de76dc0210dda2"
          }
        },
        "3367a838907e407e89cbb70b9ea6423c": {
          "model_module": "@jupyter-widgets/controls",
          "model_name": "HTMLModel",
          "model_module_version": "1.5.0",
          "state": {
            "_dom_classes": [],
            "_model_module": "@jupyter-widgets/controls",
            "_model_module_version": "1.5.0",
            "_model_name": "HTMLModel",
            "_view_count": null,
            "_view_module": "@jupyter-widgets/controls",
            "_view_module_version": "1.5.0",
            "_view_name": "HTMLView",
            "description": "",
            "description_tooltip": null,
            "layout": "IPY_MODEL_3df6001951284b70ad87864d36adb214",
            "placeholder": "​",
            "style": "IPY_MODEL_4f960155d99945fc9831ea17d62c2410",
            "value": "Downloading (…)okenizer_config.json: 100%"
          }
        },
        "7f7fa400940e4c6f8cbf9c1729a983fd": {
          "model_module": "@jupyter-widgets/controls",
          "model_name": "FloatProgressModel",
          "model_module_version": "1.5.0",
          "state": {
            "_dom_classes": [],
            "_model_module": "@jupyter-widgets/controls",
            "_model_module_version": "1.5.0",
            "_model_name": "FloatProgressModel",
            "_view_count": null,
            "_view_module": "@jupyter-widgets/controls",
            "_view_module_version": "1.5.0",
            "_view_name": "ProgressView",
            "bar_style": "success",
            "description": "",
            "description_tooltip": null,
            "layout": "IPY_MODEL_518e625c8ea74d1fa9d4622fe10ff0de",
            "max": 29,
            "min": 0,
            "orientation": "horizontal",
            "style": "IPY_MODEL_15098442477942d8bdd98d616adf7d76",
            "value": 29
          }
        },
        "5fa353795ab8414cb8b4169c35e03ace": {
          "model_module": "@jupyter-widgets/controls",
          "model_name": "HTMLModel",
          "model_module_version": "1.5.0",
          "state": {
            "_dom_classes": [],
            "_model_module": "@jupyter-widgets/controls",
            "_model_module_version": "1.5.0",
            "_model_name": "HTMLModel",
            "_view_count": null,
            "_view_module": "@jupyter-widgets/controls",
            "_view_module_version": "1.5.0",
            "_view_name": "HTMLView",
            "description": "",
            "description_tooltip": null,
            "layout": "IPY_MODEL_8a88433d4e13424283ef520c8cb9d2b7",
            "placeholder": "​",
            "style": "IPY_MODEL_18038a8ad7d14e5cadfaa1c074a2ce88",
            "value": " 29.0/29.0 [00:00&lt;00:00, 685B/s]"
          }
        },
        "465d675a85344ff1b1de76dc0210dda2": {
          "model_module": "@jupyter-widgets/base",
          "model_name": "LayoutModel",
          "model_module_version": "1.2.0",
          "state": {
            "_model_module": "@jupyter-widgets/base",
            "_model_module_version": "1.2.0",
            "_model_name": "LayoutModel",
            "_view_count": null,
            "_view_module": "@jupyter-widgets/base",
            "_view_module_version": "1.2.0",
            "_view_name": "LayoutView",
            "align_content": null,
            "align_items": null,
            "align_self": null,
            "border": null,
            "bottom": null,
            "display": null,
            "flex": null,
            "flex_flow": null,
            "grid_area": null,
            "grid_auto_columns": null,
            "grid_auto_flow": null,
            "grid_auto_rows": null,
            "grid_column": null,
            "grid_gap": null,
            "grid_row": null,
            "grid_template_areas": null,
            "grid_template_columns": null,
            "grid_template_rows": null,
            "height": null,
            "justify_content": null,
            "justify_items": null,
            "left": null,
            "margin": null,
            "max_height": null,
            "max_width": null,
            "min_height": null,
            "min_width": null,
            "object_fit": null,
            "object_position": null,
            "order": null,
            "overflow": null,
            "overflow_x": null,
            "overflow_y": null,
            "padding": null,
            "right": null,
            "top": null,
            "visibility": null,
            "width": null
          }
        },
        "3df6001951284b70ad87864d36adb214": {
          "model_module": "@jupyter-widgets/base",
          "model_name": "LayoutModel",
          "model_module_version": "1.2.0",
          "state": {
            "_model_module": "@jupyter-widgets/base",
            "_model_module_version": "1.2.0",
            "_model_name": "LayoutModel",
            "_view_count": null,
            "_view_module": "@jupyter-widgets/base",
            "_view_module_version": "1.2.0",
            "_view_name": "LayoutView",
            "align_content": null,
            "align_items": null,
            "align_self": null,
            "border": null,
            "bottom": null,
            "display": null,
            "flex": null,
            "flex_flow": null,
            "grid_area": null,
            "grid_auto_columns": null,
            "grid_auto_flow": null,
            "grid_auto_rows": null,
            "grid_column": null,
            "grid_gap": null,
            "grid_row": null,
            "grid_template_areas": null,
            "grid_template_columns": null,
            "grid_template_rows": null,
            "height": null,
            "justify_content": null,
            "justify_items": null,
            "left": null,
            "margin": null,
            "max_height": null,
            "max_width": null,
            "min_height": null,
            "min_width": null,
            "object_fit": null,
            "object_position": null,
            "order": null,
            "overflow": null,
            "overflow_x": null,
            "overflow_y": null,
            "padding": null,
            "right": null,
            "top": null,
            "visibility": null,
            "width": null
          }
        },
        "4f960155d99945fc9831ea17d62c2410": {
          "model_module": "@jupyter-widgets/controls",
          "model_name": "DescriptionStyleModel",
          "model_module_version": "1.5.0",
          "state": {
            "_model_module": "@jupyter-widgets/controls",
            "_model_module_version": "1.5.0",
            "_model_name": "DescriptionStyleModel",
            "_view_count": null,
            "_view_module": "@jupyter-widgets/base",
            "_view_module_version": "1.2.0",
            "_view_name": "StyleView",
            "description_width": ""
          }
        },
        "518e625c8ea74d1fa9d4622fe10ff0de": {
          "model_module": "@jupyter-widgets/base",
          "model_name": "LayoutModel",
          "model_module_version": "1.2.0",
          "state": {
            "_model_module": "@jupyter-widgets/base",
            "_model_module_version": "1.2.0",
            "_model_name": "LayoutModel",
            "_view_count": null,
            "_view_module": "@jupyter-widgets/base",
            "_view_module_version": "1.2.0",
            "_view_name": "LayoutView",
            "align_content": null,
            "align_items": null,
            "align_self": null,
            "border": null,
            "bottom": null,
            "display": null,
            "flex": null,
            "flex_flow": null,
            "grid_area": null,
            "grid_auto_columns": null,
            "grid_auto_flow": null,
            "grid_auto_rows": null,
            "grid_column": null,
            "grid_gap": null,
            "grid_row": null,
            "grid_template_areas": null,
            "grid_template_columns": null,
            "grid_template_rows": null,
            "height": null,
            "justify_content": null,
            "justify_items": null,
            "left": null,
            "margin": null,
            "max_height": null,
            "max_width": null,
            "min_height": null,
            "min_width": null,
            "object_fit": null,
            "object_position": null,
            "order": null,
            "overflow": null,
            "overflow_x": null,
            "overflow_y": null,
            "padding": null,
            "right": null,
            "top": null,
            "visibility": null,
            "width": null
          }
        },
        "15098442477942d8bdd98d616adf7d76": {
          "model_module": "@jupyter-widgets/controls",
          "model_name": "ProgressStyleModel",
          "model_module_version": "1.5.0",
          "state": {
            "_model_module": "@jupyter-widgets/controls",
            "_model_module_version": "1.5.0",
            "_model_name": "ProgressStyleModel",
            "_view_count": null,
            "_view_module": "@jupyter-widgets/base",
            "_view_module_version": "1.2.0",
            "_view_name": "StyleView",
            "bar_color": null,
            "description_width": ""
          }
        },
        "8a88433d4e13424283ef520c8cb9d2b7": {
          "model_module": "@jupyter-widgets/base",
          "model_name": "LayoutModel",
          "model_module_version": "1.2.0",
          "state": {
            "_model_module": "@jupyter-widgets/base",
            "_model_module_version": "1.2.0",
            "_model_name": "LayoutModel",
            "_view_count": null,
            "_view_module": "@jupyter-widgets/base",
            "_view_module_version": "1.2.0",
            "_view_name": "LayoutView",
            "align_content": null,
            "align_items": null,
            "align_self": null,
            "border": null,
            "bottom": null,
            "display": null,
            "flex": null,
            "flex_flow": null,
            "grid_area": null,
            "grid_auto_columns": null,
            "grid_auto_flow": null,
            "grid_auto_rows": null,
            "grid_column": null,
            "grid_gap": null,
            "grid_row": null,
            "grid_template_areas": null,
            "grid_template_columns": null,
            "grid_template_rows": null,
            "height": null,
            "justify_content": null,
            "justify_items": null,
            "left": null,
            "margin": null,
            "max_height": null,
            "max_width": null,
            "min_height": null,
            "min_width": null,
            "object_fit": null,
            "object_position": null,
            "order": null,
            "overflow": null,
            "overflow_x": null,
            "overflow_y": null,
            "padding": null,
            "right": null,
            "top": null,
            "visibility": null,
            "width": null
          }
        },
        "18038a8ad7d14e5cadfaa1c074a2ce88": {
          "model_module": "@jupyter-widgets/controls",
          "model_name": "DescriptionStyleModel",
          "model_module_version": "1.5.0",
          "state": {
            "_model_module": "@jupyter-widgets/controls",
            "_model_module_version": "1.5.0",
            "_model_name": "DescriptionStyleModel",
            "_view_count": null,
            "_view_module": "@jupyter-widgets/base",
            "_view_module_version": "1.2.0",
            "_view_name": "StyleView",
            "description_width": ""
          }
        },
        "67f63aa1c2b24b83927d9b8138203c18": {
          "model_module": "@jupyter-widgets/controls",
          "model_name": "HBoxModel",
          "model_module_version": "1.5.0",
          "state": {
            "_dom_classes": [],
            "_model_module": "@jupyter-widgets/controls",
            "_model_module_version": "1.5.0",
            "_model_name": "HBoxModel",
            "_view_count": null,
            "_view_module": "@jupyter-widgets/controls",
            "_view_module_version": "1.5.0",
            "_view_name": "HBoxView",
            "box_style": "",
            "children": [
              "IPY_MODEL_de64b89ab6084cf8acda2d0b30c3547a",
              "IPY_MODEL_cb1e84c3badb4747bca5d37612d85c34",
              "IPY_MODEL_a29fda722ac04e8fa3dbbafa6660dda1"
            ],
            "layout": "IPY_MODEL_3ab278ed422a4d8e86c33a5f4363b839"
          }
        },
        "de64b89ab6084cf8acda2d0b30c3547a": {
          "model_module": "@jupyter-widgets/controls",
          "model_name": "HTMLModel",
          "model_module_version": "1.5.0",
          "state": {
            "_dom_classes": [],
            "_model_module": "@jupyter-widgets/controls",
            "_model_module_version": "1.5.0",
            "_model_name": "HTMLModel",
            "_view_count": null,
            "_view_module": "@jupyter-widgets/controls",
            "_view_module_version": "1.5.0",
            "_view_name": "HTMLView",
            "description": "",
            "description_tooltip": null,
            "layout": "IPY_MODEL_2de42d8445a2467d9f10f2ae32dbbb49",
            "placeholder": "​",
            "style": "IPY_MODEL_1b866182ef2e4e8aa760bc7cb8d14597",
            "value": "Downloading (…)lve/main/config.json: 100%"
          }
        },
        "cb1e84c3badb4747bca5d37612d85c34": {
          "model_module": "@jupyter-widgets/controls",
          "model_name": "FloatProgressModel",
          "model_module_version": "1.5.0",
          "state": {
            "_dom_classes": [],
            "_model_module": "@jupyter-widgets/controls",
            "_model_module_version": "1.5.0",
            "_model_name": "FloatProgressModel",
            "_view_count": null,
            "_view_module": "@jupyter-widgets/controls",
            "_view_module_version": "1.5.0",
            "_view_name": "ProgressView",
            "bar_style": "success",
            "description": "",
            "description_tooltip": null,
            "layout": "IPY_MODEL_ed7ecb4abcf34721893f7b113a465663",
            "max": 570,
            "min": 0,
            "orientation": "horizontal",
            "style": "IPY_MODEL_d9e53b6823d64ae5b1343f5427a3d16f",
            "value": 570
          }
        },
        "a29fda722ac04e8fa3dbbafa6660dda1": {
          "model_module": "@jupyter-widgets/controls",
          "model_name": "HTMLModel",
          "model_module_version": "1.5.0",
          "state": {
            "_dom_classes": [],
            "_model_module": "@jupyter-widgets/controls",
            "_model_module_version": "1.5.0",
            "_model_name": "HTMLModel",
            "_view_count": null,
            "_view_module": "@jupyter-widgets/controls",
            "_view_module_version": "1.5.0",
            "_view_name": "HTMLView",
            "description": "",
            "description_tooltip": null,
            "layout": "IPY_MODEL_5cf88713adeb4744a46db3f196a21975",
            "placeholder": "​",
            "style": "IPY_MODEL_6ddabd474f054927bf8f9d2fd67e90f9",
            "value": " 570/570 [00:00&lt;00:00, 8.63kB/s]"
          }
        },
        "3ab278ed422a4d8e86c33a5f4363b839": {
          "model_module": "@jupyter-widgets/base",
          "model_name": "LayoutModel",
          "model_module_version": "1.2.0",
          "state": {
            "_model_module": "@jupyter-widgets/base",
            "_model_module_version": "1.2.0",
            "_model_name": "LayoutModel",
            "_view_count": null,
            "_view_module": "@jupyter-widgets/base",
            "_view_module_version": "1.2.0",
            "_view_name": "LayoutView",
            "align_content": null,
            "align_items": null,
            "align_self": null,
            "border": null,
            "bottom": null,
            "display": null,
            "flex": null,
            "flex_flow": null,
            "grid_area": null,
            "grid_auto_columns": null,
            "grid_auto_flow": null,
            "grid_auto_rows": null,
            "grid_column": null,
            "grid_gap": null,
            "grid_row": null,
            "grid_template_areas": null,
            "grid_template_columns": null,
            "grid_template_rows": null,
            "height": null,
            "justify_content": null,
            "justify_items": null,
            "left": null,
            "margin": null,
            "max_height": null,
            "max_width": null,
            "min_height": null,
            "min_width": null,
            "object_fit": null,
            "object_position": null,
            "order": null,
            "overflow": null,
            "overflow_x": null,
            "overflow_y": null,
            "padding": null,
            "right": null,
            "top": null,
            "visibility": null,
            "width": null
          }
        },
        "2de42d8445a2467d9f10f2ae32dbbb49": {
          "model_module": "@jupyter-widgets/base",
          "model_name": "LayoutModel",
          "model_module_version": "1.2.0",
          "state": {
            "_model_module": "@jupyter-widgets/base",
            "_model_module_version": "1.2.0",
            "_model_name": "LayoutModel",
            "_view_count": null,
            "_view_module": "@jupyter-widgets/base",
            "_view_module_version": "1.2.0",
            "_view_name": "LayoutView",
            "align_content": null,
            "align_items": null,
            "align_self": null,
            "border": null,
            "bottom": null,
            "display": null,
            "flex": null,
            "flex_flow": null,
            "grid_area": null,
            "grid_auto_columns": null,
            "grid_auto_flow": null,
            "grid_auto_rows": null,
            "grid_column": null,
            "grid_gap": null,
            "grid_row": null,
            "grid_template_areas": null,
            "grid_template_columns": null,
            "grid_template_rows": null,
            "height": null,
            "justify_content": null,
            "justify_items": null,
            "left": null,
            "margin": null,
            "max_height": null,
            "max_width": null,
            "min_height": null,
            "min_width": null,
            "object_fit": null,
            "object_position": null,
            "order": null,
            "overflow": null,
            "overflow_x": null,
            "overflow_y": null,
            "padding": null,
            "right": null,
            "top": null,
            "visibility": null,
            "width": null
          }
        },
        "1b866182ef2e4e8aa760bc7cb8d14597": {
          "model_module": "@jupyter-widgets/controls",
          "model_name": "DescriptionStyleModel",
          "model_module_version": "1.5.0",
          "state": {
            "_model_module": "@jupyter-widgets/controls",
            "_model_module_version": "1.5.0",
            "_model_name": "DescriptionStyleModel",
            "_view_count": null,
            "_view_module": "@jupyter-widgets/base",
            "_view_module_version": "1.2.0",
            "_view_name": "StyleView",
            "description_width": ""
          }
        },
        "ed7ecb4abcf34721893f7b113a465663": {
          "model_module": "@jupyter-widgets/base",
          "model_name": "LayoutModel",
          "model_module_version": "1.2.0",
          "state": {
            "_model_module": "@jupyter-widgets/base",
            "_model_module_version": "1.2.0",
            "_model_name": "LayoutModel",
            "_view_count": null,
            "_view_module": "@jupyter-widgets/base",
            "_view_module_version": "1.2.0",
            "_view_name": "LayoutView",
            "align_content": null,
            "align_items": null,
            "align_self": null,
            "border": null,
            "bottom": null,
            "display": null,
            "flex": null,
            "flex_flow": null,
            "grid_area": null,
            "grid_auto_columns": null,
            "grid_auto_flow": null,
            "grid_auto_rows": null,
            "grid_column": null,
            "grid_gap": null,
            "grid_row": null,
            "grid_template_areas": null,
            "grid_template_columns": null,
            "grid_template_rows": null,
            "height": null,
            "justify_content": null,
            "justify_items": null,
            "left": null,
            "margin": null,
            "max_height": null,
            "max_width": null,
            "min_height": null,
            "min_width": null,
            "object_fit": null,
            "object_position": null,
            "order": null,
            "overflow": null,
            "overflow_x": null,
            "overflow_y": null,
            "padding": null,
            "right": null,
            "top": null,
            "visibility": null,
            "width": null
          }
        },
        "d9e53b6823d64ae5b1343f5427a3d16f": {
          "model_module": "@jupyter-widgets/controls",
          "model_name": "ProgressStyleModel",
          "model_module_version": "1.5.0",
          "state": {
            "_model_module": "@jupyter-widgets/controls",
            "_model_module_version": "1.5.0",
            "_model_name": "ProgressStyleModel",
            "_view_count": null,
            "_view_module": "@jupyter-widgets/base",
            "_view_module_version": "1.2.0",
            "_view_name": "StyleView",
            "bar_color": null,
            "description_width": ""
          }
        },
        "5cf88713adeb4744a46db3f196a21975": {
          "model_module": "@jupyter-widgets/base",
          "model_name": "LayoutModel",
          "model_module_version": "1.2.0",
          "state": {
            "_model_module": "@jupyter-widgets/base",
            "_model_module_version": "1.2.0",
            "_model_name": "LayoutModel",
            "_view_count": null,
            "_view_module": "@jupyter-widgets/base",
            "_view_module_version": "1.2.0",
            "_view_name": "LayoutView",
            "align_content": null,
            "align_items": null,
            "align_self": null,
            "border": null,
            "bottom": null,
            "display": null,
            "flex": null,
            "flex_flow": null,
            "grid_area": null,
            "grid_auto_columns": null,
            "grid_auto_flow": null,
            "grid_auto_rows": null,
            "grid_column": null,
            "grid_gap": null,
            "grid_row": null,
            "grid_template_areas": null,
            "grid_template_columns": null,
            "grid_template_rows": null,
            "height": null,
            "justify_content": null,
            "justify_items": null,
            "left": null,
            "margin": null,
            "max_height": null,
            "max_width": null,
            "min_height": null,
            "min_width": null,
            "object_fit": null,
            "object_position": null,
            "order": null,
            "overflow": null,
            "overflow_x": null,
            "overflow_y": null,
            "padding": null,
            "right": null,
            "top": null,
            "visibility": null,
            "width": null
          }
        },
        "6ddabd474f054927bf8f9d2fd67e90f9": {
          "model_module": "@jupyter-widgets/controls",
          "model_name": "DescriptionStyleModel",
          "model_module_version": "1.5.0",
          "state": {
            "_model_module": "@jupyter-widgets/controls",
            "_model_module_version": "1.5.0",
            "_model_name": "DescriptionStyleModel",
            "_view_count": null,
            "_view_module": "@jupyter-widgets/base",
            "_view_module_version": "1.2.0",
            "_view_name": "StyleView",
            "description_width": ""
          }
        },
        "1c633c2e71b646c5bb8417f830b4461a": {
          "model_module": "@jupyter-widgets/controls",
          "model_name": "HBoxModel",
          "model_module_version": "1.5.0",
          "state": {
            "_dom_classes": [],
            "_model_module": "@jupyter-widgets/controls",
            "_model_module_version": "1.5.0",
            "_model_name": "HBoxModel",
            "_view_count": null,
            "_view_module": "@jupyter-widgets/controls",
            "_view_module_version": "1.5.0",
            "_view_name": "HBoxView",
            "box_style": "",
            "children": [
              "IPY_MODEL_48c8de383e844966badf654f77581442",
              "IPY_MODEL_2281d26a9ed64c82b0aae2260044a3c7",
              "IPY_MODEL_62e810beee44487d9a9653ec8035fee7"
            ],
            "layout": "IPY_MODEL_eae719da9bb941d6b250424ee2db9ee4"
          }
        },
        "48c8de383e844966badf654f77581442": {
          "model_module": "@jupyter-widgets/controls",
          "model_name": "HTMLModel",
          "model_module_version": "1.5.0",
          "state": {
            "_dom_classes": [],
            "_model_module": "@jupyter-widgets/controls",
            "_model_module_version": "1.5.0",
            "_model_name": "HTMLModel",
            "_view_count": null,
            "_view_module": "@jupyter-widgets/controls",
            "_view_module_version": "1.5.0",
            "_view_name": "HTMLView",
            "description": "",
            "description_tooltip": null,
            "layout": "IPY_MODEL_541ae5e38c1c4da8925f392e6121aa6d",
            "placeholder": "​",
            "style": "IPY_MODEL_6892a635d276497d8b7bf422c541bba1",
            "value": "Downloading (…)solve/main/vocab.txt: 100%"
          }
        },
        "2281d26a9ed64c82b0aae2260044a3c7": {
          "model_module": "@jupyter-widgets/controls",
          "model_name": "FloatProgressModel",
          "model_module_version": "1.5.0",
          "state": {
            "_dom_classes": [],
            "_model_module": "@jupyter-widgets/controls",
            "_model_module_version": "1.5.0",
            "_model_name": "FloatProgressModel",
            "_view_count": null,
            "_view_module": "@jupyter-widgets/controls",
            "_view_module_version": "1.5.0",
            "_view_name": "ProgressView",
            "bar_style": "success",
            "description": "",
            "description_tooltip": null,
            "layout": "IPY_MODEL_46f1d8652a0f42748202bfe835c18ef4",
            "max": 213450,
            "min": 0,
            "orientation": "horizontal",
            "style": "IPY_MODEL_8437813696bb4e4cbdb84e4b1cc6416d",
            "value": 213450
          }
        },
        "62e810beee44487d9a9653ec8035fee7": {
          "model_module": "@jupyter-widgets/controls",
          "model_name": "HTMLModel",
          "model_module_version": "1.5.0",
          "state": {
            "_dom_classes": [],
            "_model_module": "@jupyter-widgets/controls",
            "_model_module_version": "1.5.0",
            "_model_name": "HTMLModel",
            "_view_count": null,
            "_view_module": "@jupyter-widgets/controls",
            "_view_module_version": "1.5.0",
            "_view_name": "HTMLView",
            "description": "",
            "description_tooltip": null,
            "layout": "IPY_MODEL_712cf0767c2b4ee994c262eb8edeb2cd",
            "placeholder": "​",
            "style": "IPY_MODEL_4e5b140525d54dd9bba925ad41a4f65e",
            "value": " 213k/213k [00:00&lt;00:00, 1.32MB/s]"
          }
        },
        "eae719da9bb941d6b250424ee2db9ee4": {
          "model_module": "@jupyter-widgets/base",
          "model_name": "LayoutModel",
          "model_module_version": "1.2.0",
          "state": {
            "_model_module": "@jupyter-widgets/base",
            "_model_module_version": "1.2.0",
            "_model_name": "LayoutModel",
            "_view_count": null,
            "_view_module": "@jupyter-widgets/base",
            "_view_module_version": "1.2.0",
            "_view_name": "LayoutView",
            "align_content": null,
            "align_items": null,
            "align_self": null,
            "border": null,
            "bottom": null,
            "display": null,
            "flex": null,
            "flex_flow": null,
            "grid_area": null,
            "grid_auto_columns": null,
            "grid_auto_flow": null,
            "grid_auto_rows": null,
            "grid_column": null,
            "grid_gap": null,
            "grid_row": null,
            "grid_template_areas": null,
            "grid_template_columns": null,
            "grid_template_rows": null,
            "height": null,
            "justify_content": null,
            "justify_items": null,
            "left": null,
            "margin": null,
            "max_height": null,
            "max_width": null,
            "min_height": null,
            "min_width": null,
            "object_fit": null,
            "object_position": null,
            "order": null,
            "overflow": null,
            "overflow_x": null,
            "overflow_y": null,
            "padding": null,
            "right": null,
            "top": null,
            "visibility": null,
            "width": null
          }
        },
        "541ae5e38c1c4da8925f392e6121aa6d": {
          "model_module": "@jupyter-widgets/base",
          "model_name": "LayoutModel",
          "model_module_version": "1.2.0",
          "state": {
            "_model_module": "@jupyter-widgets/base",
            "_model_module_version": "1.2.0",
            "_model_name": "LayoutModel",
            "_view_count": null,
            "_view_module": "@jupyter-widgets/base",
            "_view_module_version": "1.2.0",
            "_view_name": "LayoutView",
            "align_content": null,
            "align_items": null,
            "align_self": null,
            "border": null,
            "bottom": null,
            "display": null,
            "flex": null,
            "flex_flow": null,
            "grid_area": null,
            "grid_auto_columns": null,
            "grid_auto_flow": null,
            "grid_auto_rows": null,
            "grid_column": null,
            "grid_gap": null,
            "grid_row": null,
            "grid_template_areas": null,
            "grid_template_columns": null,
            "grid_template_rows": null,
            "height": null,
            "justify_content": null,
            "justify_items": null,
            "left": null,
            "margin": null,
            "max_height": null,
            "max_width": null,
            "min_height": null,
            "min_width": null,
            "object_fit": null,
            "object_position": null,
            "order": null,
            "overflow": null,
            "overflow_x": null,
            "overflow_y": null,
            "padding": null,
            "right": null,
            "top": null,
            "visibility": null,
            "width": null
          }
        },
        "6892a635d276497d8b7bf422c541bba1": {
          "model_module": "@jupyter-widgets/controls",
          "model_name": "DescriptionStyleModel",
          "model_module_version": "1.5.0",
          "state": {
            "_model_module": "@jupyter-widgets/controls",
            "_model_module_version": "1.5.0",
            "_model_name": "DescriptionStyleModel",
            "_view_count": null,
            "_view_module": "@jupyter-widgets/base",
            "_view_module_version": "1.2.0",
            "_view_name": "StyleView",
            "description_width": ""
          }
        },
        "46f1d8652a0f42748202bfe835c18ef4": {
          "model_module": "@jupyter-widgets/base",
          "model_name": "LayoutModel",
          "model_module_version": "1.2.0",
          "state": {
            "_model_module": "@jupyter-widgets/base",
            "_model_module_version": "1.2.0",
            "_model_name": "LayoutModel",
            "_view_count": null,
            "_view_module": "@jupyter-widgets/base",
            "_view_module_version": "1.2.0",
            "_view_name": "LayoutView",
            "align_content": null,
            "align_items": null,
            "align_self": null,
            "border": null,
            "bottom": null,
            "display": null,
            "flex": null,
            "flex_flow": null,
            "grid_area": null,
            "grid_auto_columns": null,
            "grid_auto_flow": null,
            "grid_auto_rows": null,
            "grid_column": null,
            "grid_gap": null,
            "grid_row": null,
            "grid_template_areas": null,
            "grid_template_columns": null,
            "grid_template_rows": null,
            "height": null,
            "justify_content": null,
            "justify_items": null,
            "left": null,
            "margin": null,
            "max_height": null,
            "max_width": null,
            "min_height": null,
            "min_width": null,
            "object_fit": null,
            "object_position": null,
            "order": null,
            "overflow": null,
            "overflow_x": null,
            "overflow_y": null,
            "padding": null,
            "right": null,
            "top": null,
            "visibility": null,
            "width": null
          }
        },
        "8437813696bb4e4cbdb84e4b1cc6416d": {
          "model_module": "@jupyter-widgets/controls",
          "model_name": "ProgressStyleModel",
          "model_module_version": "1.5.0",
          "state": {
            "_model_module": "@jupyter-widgets/controls",
            "_model_module_version": "1.5.0",
            "_model_name": "ProgressStyleModel",
            "_view_count": null,
            "_view_module": "@jupyter-widgets/base",
            "_view_module_version": "1.2.0",
            "_view_name": "StyleView",
            "bar_color": null,
            "description_width": ""
          }
        },
        "712cf0767c2b4ee994c262eb8edeb2cd": {
          "model_module": "@jupyter-widgets/base",
          "model_name": "LayoutModel",
          "model_module_version": "1.2.0",
          "state": {
            "_model_module": "@jupyter-widgets/base",
            "_model_module_version": "1.2.0",
            "_model_name": "LayoutModel",
            "_view_count": null,
            "_view_module": "@jupyter-widgets/base",
            "_view_module_version": "1.2.0",
            "_view_name": "LayoutView",
            "align_content": null,
            "align_items": null,
            "align_self": null,
            "border": null,
            "bottom": null,
            "display": null,
            "flex": null,
            "flex_flow": null,
            "grid_area": null,
            "grid_auto_columns": null,
            "grid_auto_flow": null,
            "grid_auto_rows": null,
            "grid_column": null,
            "grid_gap": null,
            "grid_row": null,
            "grid_template_areas": null,
            "grid_template_columns": null,
            "grid_template_rows": null,
            "height": null,
            "justify_content": null,
            "justify_items": null,
            "left": null,
            "margin": null,
            "max_height": null,
            "max_width": null,
            "min_height": null,
            "min_width": null,
            "object_fit": null,
            "object_position": null,
            "order": null,
            "overflow": null,
            "overflow_x": null,
            "overflow_y": null,
            "padding": null,
            "right": null,
            "top": null,
            "visibility": null,
            "width": null
          }
        },
        "4e5b140525d54dd9bba925ad41a4f65e": {
          "model_module": "@jupyter-widgets/controls",
          "model_name": "DescriptionStyleModel",
          "model_module_version": "1.5.0",
          "state": {
            "_model_module": "@jupyter-widgets/controls",
            "_model_module_version": "1.5.0",
            "_model_name": "DescriptionStyleModel",
            "_view_count": null,
            "_view_module": "@jupyter-widgets/base",
            "_view_module_version": "1.2.0",
            "_view_name": "StyleView",
            "description_width": ""
          }
        },
        "6c6972197ebc4168a65baea40cc09b75": {
          "model_module": "@jupyter-widgets/controls",
          "model_name": "HBoxModel",
          "model_module_version": "1.5.0",
          "state": {
            "_dom_classes": [],
            "_model_module": "@jupyter-widgets/controls",
            "_model_module_version": "1.5.0",
            "_model_name": "HBoxModel",
            "_view_count": null,
            "_view_module": "@jupyter-widgets/controls",
            "_view_module_version": "1.5.0",
            "_view_name": "HBoxView",
            "box_style": "",
            "children": [
              "IPY_MODEL_2135a02325f04d28a24ff94e7c48d2f7",
              "IPY_MODEL_ec8f22f13eef40dd889fb58c81b79bfc",
              "IPY_MODEL_0379025840f647cb8e4d18be9be44519"
            ],
            "layout": "IPY_MODEL_86d47c8d5c5b4d83b6cb7821ca89fec7"
          }
        },
        "2135a02325f04d28a24ff94e7c48d2f7": {
          "model_module": "@jupyter-widgets/controls",
          "model_name": "HTMLModel",
          "model_module_version": "1.5.0",
          "state": {
            "_dom_classes": [],
            "_model_module": "@jupyter-widgets/controls",
            "_model_module_version": "1.5.0",
            "_model_name": "HTMLModel",
            "_view_count": null,
            "_view_module": "@jupyter-widgets/controls",
            "_view_module_version": "1.5.0",
            "_view_name": "HTMLView",
            "description": "",
            "description_tooltip": null,
            "layout": "IPY_MODEL_e640bdf3349d478eae0ef01af1fa3213",
            "placeholder": "​",
            "style": "IPY_MODEL_11426927b2e94efcbfa1b538dc0f44cd",
            "value": "Downloading (…)/main/tokenizer.json: 100%"
          }
        },
        "ec8f22f13eef40dd889fb58c81b79bfc": {
          "model_module": "@jupyter-widgets/controls",
          "model_name": "FloatProgressModel",
          "model_module_version": "1.5.0",
          "state": {
            "_dom_classes": [],
            "_model_module": "@jupyter-widgets/controls",
            "_model_module_version": "1.5.0",
            "_model_name": "FloatProgressModel",
            "_view_count": null,
            "_view_module": "@jupyter-widgets/controls",
            "_view_module_version": "1.5.0",
            "_view_name": "ProgressView",
            "bar_style": "success",
            "description": "",
            "description_tooltip": null,
            "layout": "IPY_MODEL_f1bebef3aebe476eb7654c6930acc153",
            "max": 435797,
            "min": 0,
            "orientation": "horizontal",
            "style": "IPY_MODEL_5eafb0c0dbf64a6eb25163c973ef0b02",
            "value": 435797
          }
        },
        "0379025840f647cb8e4d18be9be44519": {
          "model_module": "@jupyter-widgets/controls",
          "model_name": "HTMLModel",
          "model_module_version": "1.5.0",
          "state": {
            "_dom_classes": [],
            "_model_module": "@jupyter-widgets/controls",
            "_model_module_version": "1.5.0",
            "_model_name": "HTMLModel",
            "_view_count": null,
            "_view_module": "@jupyter-widgets/controls",
            "_view_module_version": "1.5.0",
            "_view_name": "HTMLView",
            "description": "",
            "description_tooltip": null,
            "layout": "IPY_MODEL_9b243f702c0947dfa58611228ad185bb",
            "placeholder": "​",
            "style": "IPY_MODEL_7f8c5aacdd494a76b9e872594356fb64",
            "value": " 436k/436k [00:00&lt;00:00, 1.78MB/s]"
          }
        },
        "86d47c8d5c5b4d83b6cb7821ca89fec7": {
          "model_module": "@jupyter-widgets/base",
          "model_name": "LayoutModel",
          "model_module_version": "1.2.0",
          "state": {
            "_model_module": "@jupyter-widgets/base",
            "_model_module_version": "1.2.0",
            "_model_name": "LayoutModel",
            "_view_count": null,
            "_view_module": "@jupyter-widgets/base",
            "_view_module_version": "1.2.0",
            "_view_name": "LayoutView",
            "align_content": null,
            "align_items": null,
            "align_self": null,
            "border": null,
            "bottom": null,
            "display": null,
            "flex": null,
            "flex_flow": null,
            "grid_area": null,
            "grid_auto_columns": null,
            "grid_auto_flow": null,
            "grid_auto_rows": null,
            "grid_column": null,
            "grid_gap": null,
            "grid_row": null,
            "grid_template_areas": null,
            "grid_template_columns": null,
            "grid_template_rows": null,
            "height": null,
            "justify_content": null,
            "justify_items": null,
            "left": null,
            "margin": null,
            "max_height": null,
            "max_width": null,
            "min_height": null,
            "min_width": null,
            "object_fit": null,
            "object_position": null,
            "order": null,
            "overflow": null,
            "overflow_x": null,
            "overflow_y": null,
            "padding": null,
            "right": null,
            "top": null,
            "visibility": null,
            "width": null
          }
        },
        "e640bdf3349d478eae0ef01af1fa3213": {
          "model_module": "@jupyter-widgets/base",
          "model_name": "LayoutModel",
          "model_module_version": "1.2.0",
          "state": {
            "_model_module": "@jupyter-widgets/base",
            "_model_module_version": "1.2.0",
            "_model_name": "LayoutModel",
            "_view_count": null,
            "_view_module": "@jupyter-widgets/base",
            "_view_module_version": "1.2.0",
            "_view_name": "LayoutView",
            "align_content": null,
            "align_items": null,
            "align_self": null,
            "border": null,
            "bottom": null,
            "display": null,
            "flex": null,
            "flex_flow": null,
            "grid_area": null,
            "grid_auto_columns": null,
            "grid_auto_flow": null,
            "grid_auto_rows": null,
            "grid_column": null,
            "grid_gap": null,
            "grid_row": null,
            "grid_template_areas": null,
            "grid_template_columns": null,
            "grid_template_rows": null,
            "height": null,
            "justify_content": null,
            "justify_items": null,
            "left": null,
            "margin": null,
            "max_height": null,
            "max_width": null,
            "min_height": null,
            "min_width": null,
            "object_fit": null,
            "object_position": null,
            "order": null,
            "overflow": null,
            "overflow_x": null,
            "overflow_y": null,
            "padding": null,
            "right": null,
            "top": null,
            "visibility": null,
            "width": null
          }
        },
        "11426927b2e94efcbfa1b538dc0f44cd": {
          "model_module": "@jupyter-widgets/controls",
          "model_name": "DescriptionStyleModel",
          "model_module_version": "1.5.0",
          "state": {
            "_model_module": "@jupyter-widgets/controls",
            "_model_module_version": "1.5.0",
            "_model_name": "DescriptionStyleModel",
            "_view_count": null,
            "_view_module": "@jupyter-widgets/base",
            "_view_module_version": "1.2.0",
            "_view_name": "StyleView",
            "description_width": ""
          }
        },
        "f1bebef3aebe476eb7654c6930acc153": {
          "model_module": "@jupyter-widgets/base",
          "model_name": "LayoutModel",
          "model_module_version": "1.2.0",
          "state": {
            "_model_module": "@jupyter-widgets/base",
            "_model_module_version": "1.2.0",
            "_model_name": "LayoutModel",
            "_view_count": null,
            "_view_module": "@jupyter-widgets/base",
            "_view_module_version": "1.2.0",
            "_view_name": "LayoutView",
            "align_content": null,
            "align_items": null,
            "align_self": null,
            "border": null,
            "bottom": null,
            "display": null,
            "flex": null,
            "flex_flow": null,
            "grid_area": null,
            "grid_auto_columns": null,
            "grid_auto_flow": null,
            "grid_auto_rows": null,
            "grid_column": null,
            "grid_gap": null,
            "grid_row": null,
            "grid_template_areas": null,
            "grid_template_columns": null,
            "grid_template_rows": null,
            "height": null,
            "justify_content": null,
            "justify_items": null,
            "left": null,
            "margin": null,
            "max_height": null,
            "max_width": null,
            "min_height": null,
            "min_width": null,
            "object_fit": null,
            "object_position": null,
            "order": null,
            "overflow": null,
            "overflow_x": null,
            "overflow_y": null,
            "padding": null,
            "right": null,
            "top": null,
            "visibility": null,
            "width": null
          }
        },
        "5eafb0c0dbf64a6eb25163c973ef0b02": {
          "model_module": "@jupyter-widgets/controls",
          "model_name": "ProgressStyleModel",
          "model_module_version": "1.5.0",
          "state": {
            "_model_module": "@jupyter-widgets/controls",
            "_model_module_version": "1.5.0",
            "_model_name": "ProgressStyleModel",
            "_view_count": null,
            "_view_module": "@jupyter-widgets/base",
            "_view_module_version": "1.2.0",
            "_view_name": "StyleView",
            "bar_color": null,
            "description_width": ""
          }
        },
        "9b243f702c0947dfa58611228ad185bb": {
          "model_module": "@jupyter-widgets/base",
          "model_name": "LayoutModel",
          "model_module_version": "1.2.0",
          "state": {
            "_model_module": "@jupyter-widgets/base",
            "_model_module_version": "1.2.0",
            "_model_name": "LayoutModel",
            "_view_count": null,
            "_view_module": "@jupyter-widgets/base",
            "_view_module_version": "1.2.0",
            "_view_name": "LayoutView",
            "align_content": null,
            "align_items": null,
            "align_self": null,
            "border": null,
            "bottom": null,
            "display": null,
            "flex": null,
            "flex_flow": null,
            "grid_area": null,
            "grid_auto_columns": null,
            "grid_auto_flow": null,
            "grid_auto_rows": null,
            "grid_column": null,
            "grid_gap": null,
            "grid_row": null,
            "grid_template_areas": null,
            "grid_template_columns": null,
            "grid_template_rows": null,
            "height": null,
            "justify_content": null,
            "justify_items": null,
            "left": null,
            "margin": null,
            "max_height": null,
            "max_width": null,
            "min_height": null,
            "min_width": null,
            "object_fit": null,
            "object_position": null,
            "order": null,
            "overflow": null,
            "overflow_x": null,
            "overflow_y": null,
            "padding": null,
            "right": null,
            "top": null,
            "visibility": null,
            "width": null
          }
        },
        "7f8c5aacdd494a76b9e872594356fb64": {
          "model_module": "@jupyter-widgets/controls",
          "model_name": "DescriptionStyleModel",
          "model_module_version": "1.5.0",
          "state": {
            "_model_module": "@jupyter-widgets/controls",
            "_model_module_version": "1.5.0",
            "_model_name": "DescriptionStyleModel",
            "_view_count": null,
            "_view_module": "@jupyter-widgets/base",
            "_view_module_version": "1.2.0",
            "_view_name": "StyleView",
            "description_width": ""
          }
        },
        "cdb67455aad841869a0c9049b0088bc7": {
          "model_module": "@jupyter-widgets/controls",
          "model_name": "HBoxModel",
          "model_module_version": "1.5.0",
          "state": {
            "_dom_classes": [],
            "_model_module": "@jupyter-widgets/controls",
            "_model_module_version": "1.5.0",
            "_model_name": "HBoxModel",
            "_view_count": null,
            "_view_module": "@jupyter-widgets/controls",
            "_view_module_version": "1.5.0",
            "_view_name": "HBoxView",
            "box_style": "",
            "children": [
              "IPY_MODEL_1617e16c52f0408e9dc1e3c63acc3ff7",
              "IPY_MODEL_bf6734e45ba848a781702bd6ac9a1916",
              "IPY_MODEL_00d8d9da14f84b4087cff0b7ebdd8c9f"
            ],
            "layout": "IPY_MODEL_a7de41af626349aa94b0749d84345358"
          }
        },
        "1617e16c52f0408e9dc1e3c63acc3ff7": {
          "model_module": "@jupyter-widgets/controls",
          "model_name": "HTMLModel",
          "model_module_version": "1.5.0",
          "state": {
            "_dom_classes": [],
            "_model_module": "@jupyter-widgets/controls",
            "_model_module_version": "1.5.0",
            "_model_name": "HTMLModel",
            "_view_count": null,
            "_view_module": "@jupyter-widgets/controls",
            "_view_module_version": "1.5.0",
            "_view_name": "HTMLView",
            "description": "",
            "description_tooltip": null,
            "layout": "IPY_MODEL_98922306f7144e66899e84339cde194c",
            "placeholder": "​",
            "style": "IPY_MODEL_9ce96c2157954046b9654520d0dccd14",
            "value": "Downloading pytorch_model.bin: 100%"
          }
        },
        "bf6734e45ba848a781702bd6ac9a1916": {
          "model_module": "@jupyter-widgets/controls",
          "model_name": "FloatProgressModel",
          "model_module_version": "1.5.0",
          "state": {
            "_dom_classes": [],
            "_model_module": "@jupyter-widgets/controls",
            "_model_module_version": "1.5.0",
            "_model_name": "FloatProgressModel",
            "_view_count": null,
            "_view_module": "@jupyter-widgets/controls",
            "_view_module_version": "1.5.0",
            "_view_name": "ProgressView",
            "bar_style": "success",
            "description": "",
            "description_tooltip": null,
            "layout": "IPY_MODEL_e14e749581eb4254ba2e7124f2354c6f",
            "max": 435779157,
            "min": 0,
            "orientation": "horizontal",
            "style": "IPY_MODEL_b0327fafaf294bf0a3886bf323628957",
            "value": 435779157
          }
        },
        "00d8d9da14f84b4087cff0b7ebdd8c9f": {
          "model_module": "@jupyter-widgets/controls",
          "model_name": "HTMLModel",
          "model_module_version": "1.5.0",
          "state": {
            "_dom_classes": [],
            "_model_module": "@jupyter-widgets/controls",
            "_model_module_version": "1.5.0",
            "_model_name": "HTMLModel",
            "_view_count": null,
            "_view_module": "@jupyter-widgets/controls",
            "_view_module_version": "1.5.0",
            "_view_name": "HTMLView",
            "description": "",
            "description_tooltip": null,
            "layout": "IPY_MODEL_254ed41016df4bfb942030d297f7946c",
            "placeholder": "​",
            "style": "IPY_MODEL_8b0eeef4703a40c19c75cf2cc07ec786",
            "value": " 436M/436M [00:02&lt;00:00, 207MB/s]"
          }
        },
        "a7de41af626349aa94b0749d84345358": {
          "model_module": "@jupyter-widgets/base",
          "model_name": "LayoutModel",
          "model_module_version": "1.2.0",
          "state": {
            "_model_module": "@jupyter-widgets/base",
            "_model_module_version": "1.2.0",
            "_model_name": "LayoutModel",
            "_view_count": null,
            "_view_module": "@jupyter-widgets/base",
            "_view_module_version": "1.2.0",
            "_view_name": "LayoutView",
            "align_content": null,
            "align_items": null,
            "align_self": null,
            "border": null,
            "bottom": null,
            "display": null,
            "flex": null,
            "flex_flow": null,
            "grid_area": null,
            "grid_auto_columns": null,
            "grid_auto_flow": null,
            "grid_auto_rows": null,
            "grid_column": null,
            "grid_gap": null,
            "grid_row": null,
            "grid_template_areas": null,
            "grid_template_columns": null,
            "grid_template_rows": null,
            "height": null,
            "justify_content": null,
            "justify_items": null,
            "left": null,
            "margin": null,
            "max_height": null,
            "max_width": null,
            "min_height": null,
            "min_width": null,
            "object_fit": null,
            "object_position": null,
            "order": null,
            "overflow": null,
            "overflow_x": null,
            "overflow_y": null,
            "padding": null,
            "right": null,
            "top": null,
            "visibility": null,
            "width": null
          }
        },
        "98922306f7144e66899e84339cde194c": {
          "model_module": "@jupyter-widgets/base",
          "model_name": "LayoutModel",
          "model_module_version": "1.2.0",
          "state": {
            "_model_module": "@jupyter-widgets/base",
            "_model_module_version": "1.2.0",
            "_model_name": "LayoutModel",
            "_view_count": null,
            "_view_module": "@jupyter-widgets/base",
            "_view_module_version": "1.2.0",
            "_view_name": "LayoutView",
            "align_content": null,
            "align_items": null,
            "align_self": null,
            "border": null,
            "bottom": null,
            "display": null,
            "flex": null,
            "flex_flow": null,
            "grid_area": null,
            "grid_auto_columns": null,
            "grid_auto_flow": null,
            "grid_auto_rows": null,
            "grid_column": null,
            "grid_gap": null,
            "grid_row": null,
            "grid_template_areas": null,
            "grid_template_columns": null,
            "grid_template_rows": null,
            "height": null,
            "justify_content": null,
            "justify_items": null,
            "left": null,
            "margin": null,
            "max_height": null,
            "max_width": null,
            "min_height": null,
            "min_width": null,
            "object_fit": null,
            "object_position": null,
            "order": null,
            "overflow": null,
            "overflow_x": null,
            "overflow_y": null,
            "padding": null,
            "right": null,
            "top": null,
            "visibility": null,
            "width": null
          }
        },
        "9ce96c2157954046b9654520d0dccd14": {
          "model_module": "@jupyter-widgets/controls",
          "model_name": "DescriptionStyleModel",
          "model_module_version": "1.5.0",
          "state": {
            "_model_module": "@jupyter-widgets/controls",
            "_model_module_version": "1.5.0",
            "_model_name": "DescriptionStyleModel",
            "_view_count": null,
            "_view_module": "@jupyter-widgets/base",
            "_view_module_version": "1.2.0",
            "_view_name": "StyleView",
            "description_width": ""
          }
        },
        "e14e749581eb4254ba2e7124f2354c6f": {
          "model_module": "@jupyter-widgets/base",
          "model_name": "LayoutModel",
          "model_module_version": "1.2.0",
          "state": {
            "_model_module": "@jupyter-widgets/base",
            "_model_module_version": "1.2.0",
            "_model_name": "LayoutModel",
            "_view_count": null,
            "_view_module": "@jupyter-widgets/base",
            "_view_module_version": "1.2.0",
            "_view_name": "LayoutView",
            "align_content": null,
            "align_items": null,
            "align_self": null,
            "border": null,
            "bottom": null,
            "display": null,
            "flex": null,
            "flex_flow": null,
            "grid_area": null,
            "grid_auto_columns": null,
            "grid_auto_flow": null,
            "grid_auto_rows": null,
            "grid_column": null,
            "grid_gap": null,
            "grid_row": null,
            "grid_template_areas": null,
            "grid_template_columns": null,
            "grid_template_rows": null,
            "height": null,
            "justify_content": null,
            "justify_items": null,
            "left": null,
            "margin": null,
            "max_height": null,
            "max_width": null,
            "min_height": null,
            "min_width": null,
            "object_fit": null,
            "object_position": null,
            "order": null,
            "overflow": null,
            "overflow_x": null,
            "overflow_y": null,
            "padding": null,
            "right": null,
            "top": null,
            "visibility": null,
            "width": null
          }
        },
        "b0327fafaf294bf0a3886bf323628957": {
          "model_module": "@jupyter-widgets/controls",
          "model_name": "ProgressStyleModel",
          "model_module_version": "1.5.0",
          "state": {
            "_model_module": "@jupyter-widgets/controls",
            "_model_module_version": "1.5.0",
            "_model_name": "ProgressStyleModel",
            "_view_count": null,
            "_view_module": "@jupyter-widgets/base",
            "_view_module_version": "1.2.0",
            "_view_name": "StyleView",
            "bar_color": null,
            "description_width": ""
          }
        },
        "254ed41016df4bfb942030d297f7946c": {
          "model_module": "@jupyter-widgets/base",
          "model_name": "LayoutModel",
          "model_module_version": "1.2.0",
          "state": {
            "_model_module": "@jupyter-widgets/base",
            "_model_module_version": "1.2.0",
            "_model_name": "LayoutModel",
            "_view_count": null,
            "_view_module": "@jupyter-widgets/base",
            "_view_module_version": "1.2.0",
            "_view_name": "LayoutView",
            "align_content": null,
            "align_items": null,
            "align_self": null,
            "border": null,
            "bottom": null,
            "display": null,
            "flex": null,
            "flex_flow": null,
            "grid_area": null,
            "grid_auto_columns": null,
            "grid_auto_flow": null,
            "grid_auto_rows": null,
            "grid_column": null,
            "grid_gap": null,
            "grid_row": null,
            "grid_template_areas": null,
            "grid_template_columns": null,
            "grid_template_rows": null,
            "height": null,
            "justify_content": null,
            "justify_items": null,
            "left": null,
            "margin": null,
            "max_height": null,
            "max_width": null,
            "min_height": null,
            "min_width": null,
            "object_fit": null,
            "object_position": null,
            "order": null,
            "overflow": null,
            "overflow_x": null,
            "overflow_y": null,
            "padding": null,
            "right": null,
            "top": null,
            "visibility": null,
            "width": null
          }
        },
        "8b0eeef4703a40c19c75cf2cc07ec786": {
          "model_module": "@jupyter-widgets/controls",
          "model_name": "DescriptionStyleModel",
          "model_module_version": "1.5.0",
          "state": {
            "_model_module": "@jupyter-widgets/controls",
            "_model_module_version": "1.5.0",
            "_model_name": "DescriptionStyleModel",
            "_view_count": null,
            "_view_module": "@jupyter-widgets/base",
            "_view_module_version": "1.2.0",
            "_view_name": "StyleView",
            "description_width": ""
          }
        }
      }
    }
  },
  "cells": [
    {
      "cell_type": "code",
      "execution_count": null,
      "metadata": {
        "id": "FwXCNQHkRcsx",
        "colab": {
          "base_uri": "https://localhost:8080/"
        },
        "outputId": "987704a6-1e74-43ba-b6cd-8815a1bc3b6c"
      },
      "outputs": [
        {
          "output_type": "stream",
          "name": "stdout",
          "text": [
            "\u001b[2K     \u001b[90m━━━━━━━━━━━━━━━━━━━━━━━━━━━━━━━━━━━━━━━━\u001b[0m \u001b[32m1.8/1.8 MB\u001b[0m \u001b[31m49.9 MB/s\u001b[0m eta \u001b[36m0:00:00\u001b[0m\n",
            "\u001b[2K     \u001b[90m━━━━━━━━━━━━━━━━━━━━━━━━━━━━━━━━━━━━━━━━\u001b[0m \u001b[32m7.1/7.1 MB\u001b[0m \u001b[31m99.1 MB/s\u001b[0m eta \u001b[36m0:00:00\u001b[0m\n",
            "\u001b[2K     \u001b[90m━━━━━━━━━━━━━━━━━━━━━━━━━━━━━━━━━━━━━━━━\u001b[0m \u001b[32m66.4/66.4 kB\u001b[0m \u001b[31m7.6 MB/s\u001b[0m eta \u001b[36m0:00:00\u001b[0m\n",
            "\u001b[2K     \u001b[90m━━━━━━━━━━━━━━━━━━━━━━━━━━━━━━━━━━━━━━━━\u001b[0m \u001b[32m69.7/69.7 kB\u001b[0m \u001b[31m8.8 MB/s\u001b[0m eta \u001b[36m0:00:00\u001b[0m\n",
            "\u001b[2K     \u001b[90m━━━━━━━━━━━━━━━━━━━━━━━━━━━━━━━━━━━━━━━━\u001b[0m \u001b[32m55.5/55.5 kB\u001b[0m \u001b[31m7.0 MB/s\u001b[0m eta \u001b[36m0:00:00\u001b[0m\n",
            "\u001b[2K     \u001b[90m━━━━━━━━━━━━━━━━━━━━━━━━━━━━━━━━━━━━━━\u001b[0m \u001b[32m562.4/562.4 kB\u001b[0m \u001b[31m49.5 MB/s\u001b[0m eta \u001b[36m0:00:00\u001b[0m\n",
            "\u001b[2K     \u001b[90m━━━━━━━━━━━━━━━━━━━━━━━━━━━━━━━━━━━━━━━━\u001b[0m \u001b[32m67.0/67.0 kB\u001b[0m \u001b[31m8.9 MB/s\u001b[0m eta \u001b[36m0:00:00\u001b[0m\n",
            "\u001b[2K     \u001b[90m━━━━━━━━━━━━━━━━━━━━━━━━━━━━━━━━━━━━━━\u001b[0m \u001b[32m519.2/519.2 kB\u001b[0m \u001b[31m49.6 MB/s\u001b[0m eta \u001b[36m0:00:00\u001b[0m\n",
            "\u001b[2K     \u001b[90m━━━━━━━━━━━━━━━━━━━━━━━━━━━━━━━━━━━━━━━━\u001b[0m \u001b[32m58.3/58.3 kB\u001b[0m \u001b[31m6.2 MB/s\u001b[0m eta \u001b[36m0:00:00\u001b[0m\n",
            "\u001b[2K     \u001b[90m━━━━━━━━━━━━━━━━━━━━━━━━━━━━━━━━━━━━━━\u001b[0m \u001b[32m129.9/129.9 kB\u001b[0m \u001b[31m11.2 MB/s\u001b[0m eta \u001b[36m0:00:00\u001b[0m\n",
            "\u001b[2K     \u001b[90m━━━━━━━━━━━━━━━━━━━━━━━━━━━━━━━━━━━━━━\u001b[0m \u001b[32m719.0/719.0 kB\u001b[0m \u001b[31m45.7 MB/s\u001b[0m eta \u001b[36m0:00:00\u001b[0m\n",
            "\u001b[2K     \u001b[90m━━━━━━━━━━━━━━━━━━━━━━━━━━━━━━━━━━━━━━\u001b[0m \u001b[32m236.8/236.8 kB\u001b[0m \u001b[31m15.2 MB/s\u001b[0m eta \u001b[36m0:00:00\u001b[0m\n",
            "\u001b[2K     \u001b[90m━━━━━━━━━━━━━━━━━━━━━━━━━━━━━━━━━━━━━━━━\u001b[0m \u001b[32m7.8/7.8 MB\u001b[0m \u001b[31m73.5 MB/s\u001b[0m eta \u001b[36m0:00:00\u001b[0m\n",
            "\u001b[2K     \u001b[90m━━━━━━━━━━━━━━━━━━━━━━━━━━━━━━━━━━━━━━━━\u001b[0m \u001b[32m64.3/64.3 kB\u001b[0m \u001b[31m7.6 MB/s\u001b[0m eta \u001b[36m0:00:00\u001b[0m\n",
            "\u001b[2K     \u001b[90m━━━━━━━━━━━━━━━━━━━━━━━━━━━━━━━━━━━━━━━━\u001b[0m \u001b[32m1.0/1.0 MB\u001b[0m \u001b[31m36.4 MB/s\u001b[0m eta \u001b[36m0:00:00\u001b[0m\n",
            "\u001b[2K     \u001b[90m━━━━━━━━━━━━━━━━━━━━━━━━━━━━━━━━━━━━━━━━\u001b[0m \u001b[32m58.4/58.4 kB\u001b[0m \u001b[31m6.5 MB/s\u001b[0m eta \u001b[36m0:00:00\u001b[0m\n",
            "\u001b[2K     \u001b[90m━━━━━━━━━━━━━━━━━━━━━━━━━━━━━━━━━━━━━━━━\u001b[0m \u001b[32m45.7/45.7 kB\u001b[0m \u001b[31m5.2 MB/s\u001b[0m eta \u001b[36m0:00:00\u001b[0m\n",
            "\u001b[2K     \u001b[90m━━━━━━━━━━━━━━━━━━━━━━━━━━━━━━━━━━━━━━━━\u001b[0m \u001b[32m58.3/58.3 kB\u001b[0m \u001b[31m6.2 MB/s\u001b[0m eta \u001b[36m0:00:00\u001b[0m\n",
            "\u001b[2K     \u001b[90m━━━━━━━━━━━━━━━━━━━━━━━━━━━━━━━━━━━━━━\u001b[0m \u001b[32m114.5/114.5 kB\u001b[0m \u001b[31m11.9 MB/s\u001b[0m eta \u001b[36m0:00:00\u001b[0m\n",
            "\u001b[2K     \u001b[90m━━━━━━━━━━━━━━━━━━━━━━━━━━━━━━━━━━━━━━\u001b[0m \u001b[32m268.8/268.8 kB\u001b[0m \u001b[31m20.4 MB/s\u001b[0m eta \u001b[36m0:00:00\u001b[0m\n",
            "\u001b[2K     \u001b[90m━━━━━━━━━━━━━━━━━━━━━━━━━━━━━━━━━━━━━━\u001b[0m \u001b[32m149.6/149.6 kB\u001b[0m \u001b[31m15.4 MB/s\u001b[0m eta \u001b[36m0:00:00\u001b[0m\n",
            "\u001b[?25h"
          ]
        }
      ],
      "source": [
        "!pip -q install lightning transformers"
      ]
    },
    {
      "cell_type": "code",
      "source": [
        "from google.colab import drive\n",
        "drive.mount('/content/gdrive')"
      ],
      "metadata": {
        "colab": {
          "base_uri": "https://localhost:8080/"
        },
        "id": "w_vqNUk5i5to",
        "outputId": "a8bbce55-ffd4-4fb9-849d-6bd10a6acba0"
      },
      "execution_count": null,
      "outputs": [
        {
          "output_type": "stream",
          "name": "stdout",
          "text": [
            "Mounted at /content/gdrive\n"
          ]
        }
      ]
    },
    {
      "cell_type": "code",
      "source": [
        "import transformers\n",
        "import lightning as pl\n",
        "import torch\n",
        "import pandas as pd\n",
        "import torch.nn.functional as F\n",
        "import itertools\n",
        "from torch.utils.data import DataLoader\n",
        "from typing import List\n",
        "from torch import nn\n",
        "from multiprocessing import Pool\n",
        "from tqdm import tqdm\n"
      ],
      "metadata": {
        "id": "myTWG5h9Vri3"
      },
      "execution_count": null,
      "outputs": []
    },
    {
      "cell_type": "markdown",
      "source": [
        "#DATA"
      ],
      "metadata": {
        "id": "g6M7nJezvBKO"
      }
    },
    {
      "cell_type": "code",
      "source": [
        "df_products = pd.read_json(\"https://raw.githubusercontent.com/anyoneai/e-commerce-open-data-set/master/products.json\")\n",
        "df_categories = pd.read_json(\"https://raw.githubusercontent.com/anyoneai/e-commerce-open-data-set/master/categories.json\")"
      ],
      "metadata": {
        "id": "KMf2EdjF4av2"
      },
      "execution_count": null,
      "outputs": []
    },
    {
      "cell_type": "code",
      "source": [
        "df_products = df_products[['name', 'category', 'description']]\n",
        "\n",
        "# Crear un histograma de categorías\n",
        "category_counts = df_products['category'].explode().apply(lambda x: x['name']).value_counts()\n",
        "\n",
        "# Filtrar categorías con menos de 100 productos y asignarles la categoría \"other\"\n",
        "threshold = 100\n",
        "filtered_category_counts = category_counts[category_counts >= threshold]\n",
        "filtered_categories = filtered_category_counts.index.tolist()\n",
        "df_products['category'] = df_products['category'].apply(\n",
        "    lambda x: [cat['name'] if cat['name'] in filtered_categories else 'Other' for cat in x]\n",
        ")\n"
      ],
      "metadata": {
        "id": "8sLVd76R4b5v"
      },
      "execution_count": null,
      "outputs": []
    },
    {
      "cell_type": "code",
      "source": [
        "# Define the number of levels/columns you want to create\n",
        "num_levels = 7\n",
        "\n",
        "# Create the new columns\n",
        "for i in range(1, num_levels + 1):\n",
        "    level_name = 'level_' + str(i)\n",
        "    df_products[level_name] = df_products['category'].apply(lambda x: x[i - 1] if len(x) >= i else 'NA')\n",
        "df_products.drop('category', axis=1, inplace=True)"
      ],
      "metadata": {
        "id": "oXpLmr4gHpFs"
      },
      "execution_count": null,
      "outputs": []
    },
    {
      "cell_type": "code",
      "source": [
        "categories = dict()\n",
        "for i in range(1,8):\n",
        "  cat = df_products[\"level_\"+str(i)].unique().tolist()  \n",
        "  categories[\"level_\"+str(i)] = dict(list(zip(cat, list(range(len(cat))))))"
      ],
      "metadata": {
        "id": "lVLeTzsELrew"
      },
      "execution_count": null,
      "outputs": []
    },
    {
      "cell_type": "code",
      "source": [
        "df_products[\"text\"]= df_products[\"name\"]+\" \"+df_products[\"description\"] "
      ],
      "metadata": {
        "id": "ZOEMjUNzNCvf"
      },
      "execution_count": null,
      "outputs": []
    },
    {
      "cell_type": "markdown",
      "source": [
        "#MODEL\n",
        "\n"
      ],
      "metadata": {
        "id": "9pWfstz-vDND"
      }
    },
    {
      "cell_type": "markdown",
      "source": [
        "##Definition"
      ],
      "metadata": {
        "id": "5e0u2Tj2XCrA"
      }
    },
    {
      "cell_type": "code",
      "source": [
        "BERT_EMBEDDING_SIZE= 768\n",
        "WORKERS=8\n",
        "NLP_MODEL_NAME = \"bert-base-cased\"\n",
        "TOKENIZER=TOKENIZER = transformers.AutoTokenizer.from_pretrained(NLP_MODEL_NAME)\n"
      ],
      "metadata": {
        "id": "jvNkQEoBZppP",
        "colab": {
          "base_uri": "https://localhost:8080/",
          "height": 145,
          "referenced_widgets": [
            "05a73bf674e24add84b4f6f1d3febc58",
            "3367a838907e407e89cbb70b9ea6423c",
            "7f7fa400940e4c6f8cbf9c1729a983fd",
            "5fa353795ab8414cb8b4169c35e03ace",
            "465d675a85344ff1b1de76dc0210dda2",
            "3df6001951284b70ad87864d36adb214",
            "4f960155d99945fc9831ea17d62c2410",
            "518e625c8ea74d1fa9d4622fe10ff0de",
            "15098442477942d8bdd98d616adf7d76",
            "8a88433d4e13424283ef520c8cb9d2b7",
            "18038a8ad7d14e5cadfaa1c074a2ce88",
            "67f63aa1c2b24b83927d9b8138203c18",
            "de64b89ab6084cf8acda2d0b30c3547a",
            "cb1e84c3badb4747bca5d37612d85c34",
            "a29fda722ac04e8fa3dbbafa6660dda1",
            "3ab278ed422a4d8e86c33a5f4363b839",
            "2de42d8445a2467d9f10f2ae32dbbb49",
            "1b866182ef2e4e8aa760bc7cb8d14597",
            "ed7ecb4abcf34721893f7b113a465663",
            "d9e53b6823d64ae5b1343f5427a3d16f",
            "5cf88713adeb4744a46db3f196a21975",
            "6ddabd474f054927bf8f9d2fd67e90f9",
            "1c633c2e71b646c5bb8417f830b4461a",
            "48c8de383e844966badf654f77581442",
            "2281d26a9ed64c82b0aae2260044a3c7",
            "62e810beee44487d9a9653ec8035fee7",
            "eae719da9bb941d6b250424ee2db9ee4",
            "541ae5e38c1c4da8925f392e6121aa6d",
            "6892a635d276497d8b7bf422c541bba1",
            "46f1d8652a0f42748202bfe835c18ef4",
            "8437813696bb4e4cbdb84e4b1cc6416d",
            "712cf0767c2b4ee994c262eb8edeb2cd",
            "4e5b140525d54dd9bba925ad41a4f65e",
            "6c6972197ebc4168a65baea40cc09b75",
            "2135a02325f04d28a24ff94e7c48d2f7",
            "ec8f22f13eef40dd889fb58c81b79bfc",
            "0379025840f647cb8e4d18be9be44519",
            "86d47c8d5c5b4d83b6cb7821ca89fec7",
            "e640bdf3349d478eae0ef01af1fa3213",
            "11426927b2e94efcbfa1b538dc0f44cd",
            "f1bebef3aebe476eb7654c6930acc153",
            "5eafb0c0dbf64a6eb25163c973ef0b02",
            "9b243f702c0947dfa58611228ad185bb",
            "7f8c5aacdd494a76b9e872594356fb64"
          ]
        },
        "outputId": "88092433-fd74-43ec-9ed5-7f047ceaff04"
      },
      "execution_count": null,
      "outputs": [
        {
          "output_type": "display_data",
          "data": {
            "text/plain": [
              "Downloading (…)okenizer_config.json:   0%|          | 0.00/29.0 [00:00<?, ?B/s]"
            ],
            "application/vnd.jupyter.widget-view+json": {
              "version_major": 2,
              "version_minor": 0,
              "model_id": "05a73bf674e24add84b4f6f1d3febc58"
            }
          },
          "metadata": {}
        },
        {
          "output_type": "display_data",
          "data": {
            "text/plain": [
              "Downloading (…)lve/main/config.json:   0%|          | 0.00/570 [00:00<?, ?B/s]"
            ],
            "application/vnd.jupyter.widget-view+json": {
              "version_major": 2,
              "version_minor": 0,
              "model_id": "67f63aa1c2b24b83927d9b8138203c18"
            }
          },
          "metadata": {}
        },
        {
          "output_type": "display_data",
          "data": {
            "text/plain": [
              "Downloading (…)solve/main/vocab.txt:   0%|          | 0.00/213k [00:00<?, ?B/s]"
            ],
            "application/vnd.jupyter.widget-view+json": {
              "version_major": 2,
              "version_minor": 0,
              "model_id": "1c633c2e71b646c5bb8417f830b4461a"
            }
          },
          "metadata": {}
        },
        {
          "output_type": "display_data",
          "data": {
            "text/plain": [
              "Downloading (…)/main/tokenizer.json:   0%|          | 0.00/436k [00:00<?, ?B/s]"
            ],
            "application/vnd.jupyter.widget-view+json": {
              "version_major": 2,
              "version_minor": 0,
              "model_id": "6c6972197ebc4168a65baea40cc09b75"
            }
          },
          "metadata": {}
        }
      ]
    },
    {
      "cell_type": "code",
      "source": [
        "class BertModel(pl.LightningModule):\n",
        "    \"\"\"This model uses a BERT model for the text encoding.\n",
        "    And it has 3 classifiers for the 3 levels of the hierarchy.\n",
        "\n",
        "    Args:\n",
        "        pl (LightningModule): Base class for all Lightning modules.\n",
        "    \"\"\"\n",
        "\n",
        "    def __init__(\n",
        "        self,\n",
        "        nlp_model: str,\n",
        "        level_1_labels: int,\n",
        "        level_2_labels: int,\n",
        "        level_3_labels: int,\n",
        "        level_4_labels: int,\n",
        "        level_5_labels: int,\n",
        "        level_6_labels: int,\n",
        "        level_7_labels: int,\n",
        "    ):\n",
        "        super().__init__()\n",
        "\n",
        "        self.text_encoder = transformers.BertModel.from_pretrained(nlp_model)\n",
        "\n",
        "        self.level_1_classifier = nn.Sequential(\n",
        "            nn.Linear(BERT_EMBEDDING_SIZE, level_1_labels),\n",
        "        )\n",
        "        self.level_2_classifier = nn.Sequential(\n",
        "            nn.Linear(\n",
        "                BERT_EMBEDDING_SIZE + level_1_labels,\n",
        "                level_2_labels,\n",
        "            ),\n",
        "        )\n",
        "        self.level_3_classifier = nn.Sequential(\n",
        "            nn.Linear(\n",
        "                BERT_EMBEDDING_SIZE + level_2_labels,\n",
        "                level_3_labels,\n",
        "            ),\n",
        "        )\n",
        "\n",
        "        self.level_4_classifier = nn.Sequential(\n",
        "            nn.Linear(\n",
        "                BERT_EMBEDDING_SIZE + level_3_labels,\n",
        "                level_4_labels,\n",
        "            ),\n",
        "        )\n",
        "\n",
        "        self.level_5_classifier = nn.Sequential(\n",
        "            nn.Linear(\n",
        "                BERT_EMBEDDING_SIZE + level_4_labels,\n",
        "                level_5_labels,\n",
        "            ),\n",
        "        )\n",
        "\n",
        "        self.level_6_classifier = nn.Sequential(\n",
        "            nn.Linear(\n",
        "                BERT_EMBEDDING_SIZE + level_5_labels,\n",
        "                level_6_labels,\n",
        "            ),\n",
        "        )\n",
        "\n",
        "        self.level_7_classifier = nn.Sequential(\n",
        "            nn.Linear(\n",
        "                BERT_EMBEDDING_SIZE + level_6_labels,\n",
        "                level_7_labels,\n",
        "            ),\n",
        "        )\n",
        "\n",
        "        self.loss = nn.CrossEntropyLoss()\n",
        "\n",
        "    def forward(self, input_ids, attention_mask):\n",
        "        x = self.text_encoder(\n",
        "            input_ids=input_ids, attention_mask=attention_mask, return_dict=False\n",
        "        )[1]\n",
        "        level_1 = self.level_1_classifier(x)\n",
        "        x2 = torch.cat([x, F.softmax(level_1, dim=1)], dim=1)\n",
        "        level_2 = self.level_2_classifier(x2)\n",
        "        x3 = torch.cat([x, F.softmax(level_2, dim=1)], dim=1)\n",
        "        level_3 = self.level_3_classifier(x3)\n",
        "        x4 = torch.cat([x, F.softmax(level_3, dim=1)], dim=1)\n",
        "        level_4 = self.level_4_classifier(x4)\n",
        "        x5 = torch.cat([x, F.softmax(level_4, dim=1)], dim=1)\n",
        "        level_5 = self.level_5_classifier(x5)\n",
        "        x6 = torch.cat([x, F.softmax(level_5, dim=1)], dim=1)\n",
        "        level_6 = self.level_6_classifier(x6)\n",
        "        x7 = torch.cat([x, F.softmax(level_6, dim=1)], dim=1)\n",
        "        level_7 = self.level_7_classifier(x7)\n",
        "        return level_1, level_2, level_3, level_4, level_5, level_6, level_7\n",
        "\n",
        "    def training_step(self, batch, batch_idx):\n",
        "        (\n",
        "            input_ids,\n",
        "            attention_mask,\n",
        "            level_1_labels,\n",
        "            level_2_labels,\n",
        "            level_3_labels,\n",
        "            level_4_labels,\n",
        "            level_5_labels,\n",
        "            level_6_labels,\n",
        "            level_7_labels,\n",
        "        ) = batch\n",
        "        level_1, level_2, level_3, level_4, level_5, level_6, level_7 = self(input_ids, attention_mask)\n",
        "        loss = (\n",
        "            self.loss(level_1, level_1_labels)\n",
        "            + self.loss(level_2, level_2_labels)\n",
        "            + self.loss(level_3, level_3_labels)\n",
        "            + self.loss(level_4, level_4_labels)\n",
        "            + self.loss(level_5, level_5_labels)\n",
        "            + self.loss(level_6, level_6_labels)\n",
        "            + self.loss(level_7, level_7_labels)\n",
        "        )\n",
        "\n",
        "        # Calculate accuracy\n",
        "        level_1_pred = F.softmax(level_1, dim=1).argmax(dim=1)\n",
        "        level_2_pred = F.softmax(level_2, dim=1).argmax(dim=1)\n",
        "        level_3_pred = F.softmax(level_3, dim=1).argmax(dim=1)\n",
        "        level_4_pred = F.softmax(level_4, dim=1).argmax(dim=1)\n",
        "        level_5_pred = F.softmax(level_5, dim=1).argmax(dim=1)\n",
        "        level_6_pred = F.softmax(level_6, dim=1).argmax(dim=1)\n",
        "        level_7_pred = F.softmax(level_7, dim=1).argmax(dim=1)\n",
        "        level_1_acc = (level_1_pred == level_1_labels).float().mean()\n",
        "        level_2_acc = (level_2_pred == level_2_labels).float().mean()\n",
        "        level_3_acc = (level_3_pred == level_3_labels).float().mean()\n",
        "        level_4_acc = (level_4_pred == level_4_labels).float().mean()\n",
        "        level_5_acc = (level_5_pred == level_5_labels).float().mean()\n",
        "        level_6_acc = (level_6_pred == level_6_labels).float().mean()\n",
        "        level_7_acc = (level_7_pred == level_7_labels).float().mean()\n",
        "\n",
        "        # Log loss and accuracy\n",
        "        self.log(\"train_loss\", loss)\n",
        "        self.log(\n",
        "            \"l1_acc\",\n",
        "            level_1_acc,\n",
        "            prog_bar=True,\n",
        "            on_step=True,\n",
        "            on_epoch=False,\n",
        "        )\n",
        "        self.log(\n",
        "            \"l2_acc\",\n",
        "            level_2_acc,\n",
        "            prog_bar=True,\n",
        "            on_step=True,\n",
        "            on_epoch=False,\n",
        "        )\n",
        "        self.log(\n",
        "            \"l3_acc\",\n",
        "            level_3_acc,\n",
        "            prog_bar=True,\n",
        "            on_step=True,\n",
        "            on_epoch=False,\n",
        "        )\n",
        "\n",
        "        self.log(\n",
        "            \"l4_acc\",\n",
        "            level_4_acc,\n",
        "            prog_bar=True,\n",
        "            on_step=True,\n",
        "            on_epoch=False,\n",
        "        )\n",
        "\n",
        "        self.log(\n",
        "            \"l5_acc\",\n",
        "            level_5_acc,\n",
        "            prog_bar=True,\n",
        "            on_step=True,\n",
        "            on_epoch=False,\n",
        "        )\n",
        "\n",
        "        self.log(\n",
        "            \"l6_acc\",\n",
        "            level_6_acc,\n",
        "            prog_bar=True,\n",
        "            on_step=True,\n",
        "            on_epoch=False,\n",
        "        )\n",
        "\n",
        "        self.log(\n",
        "            \"l7_acc\",\n",
        "            level_7_acc,\n",
        "            prog_bar=True,\n",
        "            on_step=True,\n",
        "            on_epoch=False,\n",
        "        )\n",
        "\n",
        "        return loss\n",
        "\n",
        "    def configure_optimizers(self):\n",
        "        optimizer = torch.optim.AdamW(\n",
        "            self.parameters(),\n",
        "            lr=2e-5,\n",
        "            weight_decay=0.01,\n",
        "            eps=1e-8,\n",
        "        )\n",
        "\n",
        "        return optimizer"
      ],
      "metadata": {
        "id": "BPSqXlFYReYh"
      },
      "execution_count": null,
      "outputs": []
    },
    {
      "cell_type": "code",
      "source": [
        "class Dataset(torch.utils.data.Dataset):\n",
        "    \"\"\"Dataset for training the model.\"\"\"\n",
        "\n",
        "    def __init__(\n",
        "        self,\n",
        "        dataset,\n",
        "        categories_level_1,\n",
        "        categories_level_2,\n",
        "        categories_level_3,\n",
        "        categories_level_4,\n",
        "        categories_level_5,\n",
        "        categories_level_6,\n",
        "        categories_level_7\n",
        "    ):\n",
        "        self.dataset = dataset\n",
        "\n",
        "        self.categories_level_1 = categories_level_1\n",
        "        self.categories_level_2 = categories_level_2\n",
        "        self.categories_level_3 = categories_level_3\n",
        "        self.categories_level_4 = categories_level_4\n",
        "        self.categories_level_5 = categories_level_5\n",
        "        self.categories_level_6 = categories_level_6\n",
        "        self.categories_level_7 = categories_level_7\n",
        "\n",
        "    def __len__(self):\n",
        "        return len(self.dataset)\n",
        "\n",
        "    def __getitem__(self, idx):\n",
        "        row = self.dataset.iloc[idx]\n",
        "        input_ids = torch.tensor(row[\"input_ids\"])\n",
        "        attention_mask = torch.tensor(row[\"attention_mask\"])\n",
        "\n",
        "        level_1 = self.categories_level_1[row[\"level_1\"]]\n",
        "        level_2 = self.categories_level_2[row[\"level_2\"]]\n",
        "        level_3 = self.categories_level_3[row[\"level_3\"]]\n",
        "        level_4 = self.categories_level_4[row[\"level_4\"]]\n",
        "        level_5 = self.categories_level_5[row[\"level_5\"]]\n",
        "        level_6 = self.categories_level_6[row[\"level_6\"]]\n",
        "        level_7 = self.categories_level_7[row[\"level_7\"]]\n",
        "\n",
        "        return input_ids, attention_mask, level_1, level_2, level_3, level_4, level_5, level_6, level_7"
      ],
      "metadata": {
        "id": "ZRJf1AlER30o"
      },
      "execution_count": null,
      "outputs": []
    },
    {
      "cell_type": "code",
      "source": [
        "def tokenize_dataset(dataset: pd.DataFrame) -> pd.DataFrame:\n",
        "    \"\"\"Tokenize dataset. Add new column with encoded text.\n",
        "    text is a concatenation of name and description.\n",
        "\n",
        "    Args:\n",
        "        dataset (pd.DataFrame): dataset to tokenize\n",
        "\n",
        "    Returns:\n",
        "        pd.DataFrame: tokenized dataset with a new column \"encoded\"\n",
        "    \"\"\"\n",
        "    dataset = dataset[dataset.text.notna()]\n",
        "    with Pool(WORKERS) as p:\n",
        "        tokens_pairs = p.map(encode, dataset[\"text\"].to_list())\n",
        "\n",
        "    dataset[\"input_ids\"] = [x[0] for x in tokens_pairs]\n",
        "    dataset[\"attention_mask\"] = [x[1] for x in tokens_pairs] \n",
        "\n",
        "    return dataset"
      ],
      "metadata": {
        "id": "4EpO3k4aR7Bp"
      },
      "execution_count": null,
      "outputs": []
    },
    {
      "cell_type": "code",
      "source": [
        "def encode(text: str) -> List[int]:\n",
        "    \"\"\"Encode text using BERT tokenizer.\n",
        "\n",
        "    Args:\n",
        "        text (str): text to encode\n",
        "\n",
        "    Returns:\n",
        "        List[int]: encoded text\n",
        "    \"\"\"\n",
        "    tokens = TOKENIZER(\n",
        "        text, padding=\"max_length\", max_length=512, truncation=True, return_tensors=\"pt\"\n",
        "    )\n",
        "    del tokens[\"token_type_ids\"]\n",
        "\n",
        "    return tokens[\"input_ids\"][0].tolist(), tokens[\"attention_mask\"][0].tolist()"
      ],
      "metadata": {
        "id": "_l2Bmr3uSCzX"
      },
      "execution_count": null,
      "outputs": []
    },
    {
      "cell_type": "markdown",
      "source": [
        "##Train and load"
      ],
      "metadata": {
        "id": "4Qx9O2SIW_Ee"
      }
    },
    {
      "cell_type": "code",
      "source": [
        "df_products=tokenize_dataset(df_products)"
      ],
      "metadata": {
        "id": "-TRIZkik2-BP",
        "colab": {
          "base_uri": "https://localhost:8080/"
        },
        "outputId": "ac6b888e-071c-4096-d908-101af362dd58"
      },
      "execution_count": null,
      "outputs": [
        {
          "output_type": "stream",
          "name": "stderr",
          "text": [
            "<ipython-input-12-f71a95214855>:15: SettingWithCopyWarning: \n",
            "A value is trying to be set on a copy of a slice from a DataFrame.\n",
            "Try using .loc[row_indexer,col_indexer] = value instead\n",
            "\n",
            "See the caveats in the documentation: https://pandas.pydata.org/pandas-docs/stable/user_guide/indexing.html#returning-a-view-versus-a-copy\n",
            "  dataset[\"input_ids\"] = [x[0] for x in tokens_pairs]\n",
            "<ipython-input-12-f71a95214855>:16: SettingWithCopyWarning: \n",
            "A value is trying to be set on a copy of a slice from a DataFrame.\n",
            "Try using .loc[row_indexer,col_indexer] = value instead\n",
            "\n",
            "See the caveats in the documentation: https://pandas.pydata.org/pandas-docs/stable/user_guide/indexing.html#returning-a-view-versus-a-copy\n",
            "  dataset[\"attention_mask\"] = [x[1] for x in tokens_pairs]\n"
          ]
        }
      ]
    },
    {
      "cell_type": "code",
      "source": [
        "model = BertModel(NLP_MODEL_NAME, len(categories[\"level_1\"]),len(categories[\"level_2\"]),len(categories[\"level_3\"]),len(categories[\"level_4\"]),\n",
        "                   len(categories[\"level_5\"]),len(categories[\"level_6\"]),len(categories[\"level_7\"])).cuda()"
      ],
      "metadata": {
        "colab": {
          "base_uri": "https://localhost:8080/",
          "height": 121,
          "referenced_widgets": [
            "cdb67455aad841869a0c9049b0088bc7",
            "1617e16c52f0408e9dc1e3c63acc3ff7",
            "bf6734e45ba848a781702bd6ac9a1916",
            "00d8d9da14f84b4087cff0b7ebdd8c9f",
            "a7de41af626349aa94b0749d84345358",
            "98922306f7144e66899e84339cde194c",
            "9ce96c2157954046b9654520d0dccd14",
            "e14e749581eb4254ba2e7124f2354c6f",
            "b0327fafaf294bf0a3886bf323628957",
            "254ed41016df4bfb942030d297f7946c",
            "8b0eeef4703a40c19c75cf2cc07ec786"
          ]
        },
        "id": "b_qaqyi-QiIF",
        "outputId": "3c8024a7-d329-4048-9a8e-f7a9ea087edf"
      },
      "execution_count": null,
      "outputs": [
        {
          "output_type": "display_data",
          "data": {
            "text/plain": [
              "Downloading pytorch_model.bin:   0%|          | 0.00/436M [00:00<?, ?B/s]"
            ],
            "application/vnd.jupyter.widget-view+json": {
              "version_major": 2,
              "version_minor": 0,
              "model_id": "cdb67455aad841869a0c9049b0088bc7"
            }
          },
          "metadata": {}
        },
        {
          "output_type": "stream",
          "name": "stderr",
          "text": [
            "Some weights of the model checkpoint at bert-base-cased were not used when initializing BertModel: ['cls.predictions.transform.dense.bias', 'cls.predictions.decoder.weight', 'cls.predictions.transform.LayerNorm.bias', 'cls.predictions.bias', 'cls.predictions.transform.LayerNorm.weight', 'cls.seq_relationship.bias', 'cls.predictions.transform.dense.weight', 'cls.seq_relationship.weight']\n",
            "- This IS expected if you are initializing BertModel from the checkpoint of a model trained on another task or with another architecture (e.g. initializing a BertForSequenceClassification model from a BertForPreTraining model).\n",
            "- This IS NOT expected if you are initializing BertModel from the checkpoint of a model that you expect to be exactly identical (initializing a BertForSequenceClassification model from a BertForSequenceClassification model).\n"
          ]
        }
      ]
    },
    {
      "cell_type": "code",
      "source": [
        "df_train= df_products.iloc[:48000]\n",
        "df_test= df_products.iloc[48000:]"
      ],
      "metadata": {
        "id": "KFGD5H4DTAXd"
      },
      "execution_count": null,
      "outputs": []
    },
    {
      "cell_type": "code",
      "source": [
        "dataset_train = Dataset(df_train, categories[\"level_1\"],categories[\"level_2\"],categories[\"level_3\"],categories[\"level_4\"],categories[\"level_5\"]\n",
        "                  ,categories[\"level_6\"],categories[\"level_7\"])\n",
        "dataset_test = Dataset(df_test, categories[\"level_1\"],categories[\"level_2\"],categories[\"level_3\"],categories[\"level_4\"],categories[\"level_5\"]\n",
        "                  ,categories[\"level_6\"],categories[\"level_7\"])"
      ],
      "metadata": {
        "id": "SEMu1gjGUzDi"
      },
      "execution_count": null,
      "outputs": []
    },
    {
      "cell_type": "code",
      "source": [
        "dataloader_train = DataLoader(dataset_train, batch_size=8, shuffle=True)\n",
        "dataloader_test = DataLoader(dataset_test, batch_size=8, shuffle=False)"
      ],
      "metadata": {
        "id": "65R_ep6QVXXn"
      },
      "execution_count": null,
      "outputs": []
    },
    {
      "cell_type": "code",
      "source": [
        "%%script false --no-raise-error\n",
        "trainer = pl.Trainer(\n",
        "        max_epochs=3,  # Train for 3 epochs\n",
        "    )\n",
        "\n",
        "# Train the model\n",
        "trainer.fit(model, dataloader_train)"
      ],
      "metadata": {
        "id": "v0qcf0yaVfuJ"
      },
      "execution_count": null,
      "outputs": []
    },
    {
      "cell_type": "code",
      "source": [
        "model_path=\"/content/gdrive/MyDrive/AnyoneAI/Proyecto final grupo 1/bert_model_v1.pt\""
      ],
      "metadata": {
        "id": "fd9LM_GOVS4P"
      },
      "execution_count": null,
      "outputs": []
    },
    {
      "cell_type": "code",
      "source": [
        "%%script false --no-raise-error\n",
        "torch.save(model.state_dict(), model_path)"
      ],
      "metadata": {
        "id": "FAVI1jcYWH2r"
      },
      "execution_count": null,
      "outputs": []
    },
    {
      "cell_type": "code",
      "source": [
        "model.load_state_dict(torch.load(model_path))"
      ],
      "metadata": {
        "colab": {
          "base_uri": "https://localhost:8080/"
        },
        "id": "ObUd9L4GU6QP",
        "outputId": "060a0ec8-ea4e-4c95-92d9-ef546717619b"
      },
      "execution_count": null,
      "outputs": [
        {
          "output_type": "execute_result",
          "data": {
            "text/plain": [
              "<All keys matched successfully>"
            ]
          },
          "metadata": {},
          "execution_count": 22
        }
      ]
    },
    {
      "cell_type": "code",
      "source": [
        "DEVICE=\"cuda:0\""
      ],
      "metadata": {
        "id": "lMJvObBAwKRi"
      },
      "execution_count": null,
      "outputs": []
    },
    {
      "cell_type": "code",
      "source": [
        "def eval_model(model, dataloader):\n",
        "    size = len(dataloader.dataset)\n",
        "    model.eval()\n",
        "\n",
        "    level_1_predictions = []\n",
        "    level_2_predictions = []\n",
        "    level_3_predictions = []\n",
        "    level_4_predictions = []\n",
        "    level_5_predictions = []\n",
        "    level_6_predictions = []\n",
        "    level_7_predictions = []\n",
        "\n",
        "    level_1_probas = []\n",
        "    level_2_probas = []\n",
        "    level_3_probas = []\n",
        "    level_4_probas = []\n",
        "    level_5_probas = []\n",
        "    level_6_probas = []\n",
        "    level_7_probas = []\n",
        "\n",
        "    with torch.no_grad():        \n",
        "        for input_ids, attention_mask, level_1, level_2, level_3, level_4, level_5, level_6, level_7 in tqdm(dataloader):\n",
        "            input_ids, attention_mask, level_1, level_2, level_3, level_4, level_5, level_6, level_7 = (\n",
        "            input_ids.to(DEVICE),\n",
        "            attention_mask.to(DEVICE),\n",
        "            level_1.to(DEVICE),\n",
        "            level_2.to(DEVICE),\n",
        "            level_3.to(DEVICE),\n",
        "            level_4.to(DEVICE),\n",
        "            level_5.to(DEVICE),\n",
        "            level_6.to(DEVICE),\n",
        "            level_7.to(DEVICE),\n",
        "            )\n",
        "            level_1_linear_output, level_2_linear_output, level_3_linear_output, level_4_linear_output, level_5_linear_output, level_6_linear_output,level_7_linear_output = model(\n",
        "                input_ids, attention_mask\n",
        "            )\n",
        "\n",
        "            level_1_pred = level_1_linear_output.argmax(1)\n",
        "            level_2_pred = level_2_linear_output.argmax(1)\n",
        "            level_3_pred = level_3_linear_output.argmax(1)\n",
        "            level_4_pred = level_4_linear_output.argmax(1)\n",
        "            level_5_pred = level_5_linear_output.argmax(1)\n",
        "            level_6_pred = level_6_linear_output.argmax(1)\n",
        "            level_7_pred = level_7_linear_output.argmax(1)\n",
        "\n",
        "            level_1_predictions.extend(level_1_pred.tolist())\n",
        "            level_2_predictions.extend(level_2_pred.tolist())\n",
        "            level_3_predictions.extend(level_3_pred.tolist())\n",
        "            level_4_predictions.extend(level_4_pred.tolist())\n",
        "            level_5_predictions.extend(level_5_pred.tolist())\n",
        "            level_6_predictions.extend(level_6_pred.tolist())\n",
        "            level_7_predictions.extend(level_7_pred.tolist())\n",
        "\n",
        "            # Use softmax to get probabilities\n",
        "            level_1_probas.extend(torch.softmax(level_1_linear_output, dim=1).tolist())\n",
        "            level_2_probas.extend(torch.softmax(level_2_linear_output, dim=1).tolist())\n",
        "            level_3_probas.extend(torch.softmax(level_3_linear_output, dim=1).tolist())\n",
        "            level_4_probas.extend(torch.softmax(level_4_linear_output, dim=1).tolist())\n",
        "            level_5_probas.extend(torch.softmax(level_5_linear_output, dim=1).tolist())\n",
        "            level_6_probas.extend(torch.softmax(level_6_linear_output, dim=1).tolist())\n",
        "            level_7_probas.extend(torch.softmax(level_7_linear_output, dim=1).tolist())\n",
        "\n",
        "    return (\n",
        "        level_1_predictions,\n",
        "        level_2_predictions,\n",
        "        level_3_predictions,\n",
        "        level_4_predictions,\n",
        "        level_5_predictions,\n",
        "        level_6_predictions,\n",
        "        level_7_predictions,\n",
        "        level_1_probas,\n",
        "        level_2_probas,\n",
        "        level_3_probas,\n",
        "        level_4_probas,\n",
        "        level_5_probas,\n",
        "        level_6_probas,\n",
        "        level_7_probas,\n",
        "    )"
      ],
      "metadata": {
        "id": "8wgtlt8luG08"
      },
      "execution_count": null,
      "outputs": []
    },
    {
      "cell_type": "code",
      "source": [
        "evaluation= eval_model(model, dataloader_test)"
      ],
      "metadata": {
        "id": "6EjTBZDLx1Jw"
      },
      "execution_count": null,
      "outputs": []
    },
    {
      "cell_type": "code",
      "source": [
        "(level_1_predictions,\n",
        "level_2_predictions,\n",
        "level_3_predictions,\n",
        "level_4_predictions,\n",
        "level_5_predictions,\n",
        "level_6_predictions,\n",
        "level_7_predictions,\n",
        "level_1_probas,\n",
        "level_2_probas,\n",
        "level_3_probas,\n",
        "level_4_probas,\n",
        "level_5_probas,\n",
        "level_6_probas,\n",
        "level_7_probas)= evaluation"
      ],
      "metadata": {
        "id": "QisI5bjPx_cM"
      },
      "execution_count": null,
      "outputs": []
    },
    {
      "cell_type": "code",
      "source": [
        "# iterate rows of the dataframe\n",
        "labels_level_1 = []\n",
        "labels_level_2 = []\n",
        "labels_level_3 = []\n",
        "labels_level_4 = []\n",
        "labels_level_5 = []\n",
        "labels_level_6 = []\n",
        "labels_level_7 = []\n",
        "for index, row in dataset_test.dataset.iterrows():\n",
        "    labels_level_1.append(categories[\"level_1\"][row[\"level_1\"]])\n",
        "    labels_level_2.append(categories[\"level_2\"][row[\"level_2\"]])\n",
        "    labels_level_3.append(categories[\"level_3\"][row[\"level_3\"]])\n",
        "    labels_level_4.append(categories[\"level_4\"][row[\"level_4\"]])\n",
        "    labels_level_5.append(categories[\"level_5\"][row[\"level_5\"]])\n",
        "    labels_level_6.append(categories[\"level_6\"][row[\"level_6\"]])\n",
        "    labels_level_7.append(categories[\"level_7\"][row[\"level_7\"]])"
      ],
      "metadata": {
        "id": "a9BhbjChytlW"
      },
      "execution_count": null,
      "outputs": []
    },
    {
      "cell_type": "code",
      "source": [
        "def invert_dict(dictionary):\n",
        "    inverted_dict = {}\n",
        "    for key, value in dictionary.items():\n",
        "        for sub_key, sub_value in value.items():\n",
        "            if sub_value not in inverted_dict:\n",
        "                inverted_dict[sub_value] = {}\n",
        "            inverted_dict[sub_value][key] = sub_key\n",
        "    return inverted_dict"
      ],
      "metadata": {
        "id": "pfDjfvx-M_5R"
      },
      "execution_count": null,
      "outputs": []
    },
    {
      "cell_type": "code",
      "source": [
        "search_categories=invert_dict(categories)"
      ],
      "metadata": {
        "id": "TocGNkstOLJ4"
      },
      "execution_count": null,
      "outputs": []
    },
    {
      "cell_type": "code",
      "source": [
        "result = []\n",
        "i=450\n",
        "result.append(search_categories[labels_level_1[i]][\"level_1\"])\n",
        "result.append(search_categories[labels_level_2[i]][\"level_2\"])\n",
        "result.append(search_categories[labels_level_3[i]][\"level_3\"])\n",
        "result.append(search_categories[labels_level_4[i]][\"level_4\"])\n",
        "result.append(search_categories[labels_level_5[i]][\"level_5\"])\n",
        "result.append(search_categories[labels_level_6[i]][\"level_6\"])\n",
        "result.append(search_categories[labels_level_7[i]][\"level_7\"])\n",
        "result = list(filter(lambda x: x != 'NA', result))\n",
        "result"
      ],
      "metadata": {
        "id": "jjAnb9ZXMzBV"
      },
      "execution_count": null,
      "outputs": []
    },
    {
      "cell_type": "markdown",
      "source": [
        "#METRICS"
      ],
      "metadata": {
        "id": "_sNuK4hzW1cg"
      }
    },
    {
      "cell_type": "code",
      "source": [
        "from sklearn.metrics import accuracy_score, f1_score, recall_score"
      ],
      "metadata": {
        "id": "okqGS-32zvwp"
      },
      "execution_count": null,
      "outputs": []
    },
    {
      "cell_type": "code",
      "source": [
        "print(\"Model 1 Level 1 Accuracy: {:.2f}\".format(accuracy_score(labels_level_1, level_1_predictions)))\n",
        "print(\"Model 1 Level 2 Accuracy: {:.2f}\".format(accuracy_score(labels_level_2, level_2_predictions)))\n",
        "print(\"Model 1 Level 3 Accuracy: {:.2f}\".format(accuracy_score(labels_level_3, level_3_predictions)))\n",
        "print(\"Model 1 Level 4 Accuracy: {:.2f}\".format(accuracy_score(labels_level_4, level_4_predictions)))\n",
        "print(\"Model 1 Level 5 Accuracy: {:.2f}\".format(accuracy_score(labels_level_5, level_5_predictions)))\n",
        "print(\"Model 1 Level 6 Accuracy: {:.2f}\".format(accuracy_score(labels_level_6, level_6_predictions)))\n",
        "print(\"Model 1 Level 7 Accuracy: {:.2f}\".format(accuracy_score(labels_level_7, level_7_predictions)))"
      ],
      "metadata": {
        "id": "lYj5UT1Mz5UU"
      },
      "execution_count": null,
      "outputs": []
    },
    {
      "cell_type": "code",
      "source": [
        "print(\"Model 1 Level 1 Accuracy: {:.2f}\".format(f1_score(labels_level_1, level_1_predictions, average=\"weighted\")))\n",
        "print(\"Model 1 Level 2 Accuracy: {:.2f}\".format(f1_score(labels_level_2, level_2_predictions, average=\"weighted\")))\n",
        "print(\"Model 1 Level 3 Accuracy: {:.2f}\".format(f1_score(labels_level_3, level_3_predictions, average=\"weighted\")))\n",
        "print(\"Model 1 Level 4 Accuracy: {:.2f}\".format(f1_score(labels_level_4, level_4_predictions, average=\"weighted\")))\n",
        "print(\"Model 1 Level 5 Accuracy: {:.2f}\".format(f1_score(labels_level_5, level_5_predictions, average=\"weighted\")))\n",
        "print(\"Model 1 Level 6 Accuracy: {:.2f}\".format(f1_score(labels_level_6, level_6_predictions, average=\"weighted\")))\n",
        "print(\"Model 1 Level 7 Accuracy: {:.2f}\".format(f1_score(labels_level_7, level_7_predictions, average=\"weighted\")))"
      ],
      "metadata": {
        "id": "755cmecZ0M8a"
      },
      "execution_count": null,
      "outputs": []
    },
    {
      "cell_type": "code",
      "source": [
        "print(\"Model 1 Level 1 Accuracy: {:.2f}\".format(recall_score(labels_level_1, level_1_predictions, average=\"micro\")))\n",
        "print(\"Model 1 Level 2 Accuracy: {:.2f}\".format(recall_score(labels_level_2, level_2_predictions, average=\"micro\")))\n",
        "print(\"Model 1 Level 3 Accuracy: {:.2f}\".format(recall_score(labels_level_3, level_3_predictions, average=\"micro\")))\n",
        "print(\"Model 1 Level 4 Accuracy: {:.2f}\".format(recall_score(labels_level_4, level_4_predictions, average=\"micro\")))\n",
        "print(\"Model 1 Level 5 Accuracy: {:.2f}\".format(recall_score(labels_level_5, level_5_predictions, average=\"micro\")))\n",
        "print(\"Model 1 Level 6 Accuracy: {:.2f}\".format(recall_score(labels_level_6, level_6_predictions, average=\"micro\")))\n",
        "print(\"Model 1 Level 7 Accuracy: {:.2f}\".format(recall_score(labels_level_7, level_7_predictions, average=\"micro\")))"
      ],
      "metadata": {
        "id": "h_dXKuyBFFon"
      },
      "execution_count": null,
      "outputs": []
    },
    {
      "cell_type": "markdown",
      "source": [
        "#Predict"
      ],
      "metadata": {
        "id": "b80W7Efp8Bdf"
      }
    },
    {
      "cell_type": "code",
      "source": [
        "def predict(input):\n",
        "  model.eval()\n",
        "  data_pred = pd.DataFrame.from_dict({\"text\":[input]})\n",
        "  data=tokenize_dataset(data_pred)\n",
        "  input_ids=torch.tensor(data.iloc[0][\"input_ids\"])\n",
        "  attention_mask=torch.tensor(data.iloc[0][\"attention_mask\"])\n",
        "  l1,l2,l3,l4,l5,l6,l7 = model(input_ids.unsqueeze(0).cuda(), attention_mask.unsqueeze(0).cuda())\n",
        "  return l1.argmax(1).item(),l2.argmax(1).item(),l3.argmax(1).item(),l4.argmax(1).item(),l5.argmax(1).item(),l6.argmax(1).item(),l7.argmax(1).item()"
      ],
      "metadata": {
        "id": "bit5L6YL_BWk"
      },
      "execution_count": null,
      "outputs": []
    },
    {
      "cell_type": "code",
      "source": [
        "def parse(l1,l2,l3,l4,l5,l6,l7):\n",
        "  search_categories=invert_dict(categories)\n",
        "  result = []\n",
        "  result.append(search_categories[l1][\"level_1\"])\n",
        "  result.append(search_categories[l2][\"level_2\"])\n",
        "  result.append(search_categories[l3][\"level_3\"])\n",
        "  result.append(search_categories[l4][\"level_4\"])\n",
        "  result.append(search_categories[l5][\"level_5\"])\n",
        "  result.append(search_categories[l6][\"level_6\"])\n",
        "  result.append(search_categories[l7][\"level_7\"])\n",
        "  result = set(filter(lambda x: x != 'NA', result))\n",
        "  return result"
      ],
      "metadata": {
        "id": "gv0mz0YuLhsM"
      },
      "execution_count": null,
      "outputs": []
    },
    {
      "cell_type": "code",
      "source": [
        "input=\"home theatre sound system for tv\" \n"
      ],
      "metadata": {
        "id": "11ALK_X_7SCh"
      },
      "execution_count": null,
      "outputs": []
    },
    {
      "cell_type": "code",
      "source": [
        "l1,l2,l3,l4,l5,l6,l7=predict(input)"
      ],
      "metadata": {
        "id": "pvCpoHzqOADt"
      },
      "execution_count": null,
      "outputs": []
    },
    {
      "cell_type": "code",
      "source": [
        "parse(l1,l2,l3,l4,l5,l6,l7)"
      ],
      "metadata": {
        "colab": {
          "base_uri": "https://localhost:8080/"
        },
        "id": "6eLOzc_GKb0m",
        "outputId": "5476a9b9-b879-42ca-9daf-74bbab56a570"
      },
      "execution_count": null,
      "outputs": [
        {
          "output_type": "execute_result",
          "data": {
            "text/plain": [
              "{'Audio', 'Home Audio', 'Other'}"
            ]
          },
          "metadata": {},
          "execution_count": 35
        }
      ]
    },
    {
      "cell_type": "code",
      "source": [],
      "metadata": {
        "id": "pM9D8SuoD_5P"
      },
      "execution_count": null,
      "outputs": []
    }
  ]
}