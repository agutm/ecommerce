{
  "nbformat": 4,
  "nbformat_minor": 0,
  "metadata": {
    "colab": {
      "provenance": [],
      "gpuType": "T4",
      "collapsed_sections": [
        "_sNuK4hzW1cg"
      ]
    },
    "kernelspec": {
      "name": "python3",
      "display_name": "Python 3"
    },
    "language_info": {
      "name": "python"
    },
    "accelerator": "GPU",
    "widgets": {
      "application/vnd.jupyter.widget-state+json": {
        "37869a6e7b064e99a8cb3f606f563487": {
          "model_module": "@jupyter-widgets/controls",
          "model_name": "HBoxModel",
          "model_module_version": "1.5.0",
          "state": {
            "_dom_classes": [],
            "_model_module": "@jupyter-widgets/controls",
            "_model_module_version": "1.5.0",
            "_model_name": "HBoxModel",
            "_view_count": null,
            "_view_module": "@jupyter-widgets/controls",
            "_view_module_version": "1.5.0",
            "_view_name": "HBoxView",
            "box_style": "",
            "children": [
              "IPY_MODEL_556004af57b540c3a88591dda591dbc3",
              "IPY_MODEL_25b35050caea46e4a3f62c6de7526cf9",
              "IPY_MODEL_3b6e855a820f49ab92f275fcf3128663"
            ],
            "layout": "IPY_MODEL_79fd6e0e046944c0982b36cf3928e447"
          }
        },
        "556004af57b540c3a88591dda591dbc3": {
          "model_module": "@jupyter-widgets/controls",
          "model_name": "HTMLModel",
          "model_module_version": "1.5.0",
          "state": {
            "_dom_classes": [],
            "_model_module": "@jupyter-widgets/controls",
            "_model_module_version": "1.5.0",
            "_model_name": "HTMLModel",
            "_view_count": null,
            "_view_module": "@jupyter-widgets/controls",
            "_view_module_version": "1.5.0",
            "_view_name": "HTMLView",
            "description": "",
            "description_tooltip": null,
            "layout": "IPY_MODEL_f6b2848bbd4942c69c27ead32b22a4f5",
            "placeholder": "​",
            "style": "IPY_MODEL_9a8b634d531343f49c134393e15a705b",
            "value": "Downloading (…)okenizer_config.json: 100%"
          }
        },
        "25b35050caea46e4a3f62c6de7526cf9": {
          "model_module": "@jupyter-widgets/controls",
          "model_name": "FloatProgressModel",
          "model_module_version": "1.5.0",
          "state": {
            "_dom_classes": [],
            "_model_module": "@jupyter-widgets/controls",
            "_model_module_version": "1.5.0",
            "_model_name": "FloatProgressModel",
            "_view_count": null,
            "_view_module": "@jupyter-widgets/controls",
            "_view_module_version": "1.5.0",
            "_view_name": "ProgressView",
            "bar_style": "success",
            "description": "",
            "description_tooltip": null,
            "layout": "IPY_MODEL_f956fd0fea724c278203ab3301866d2e",
            "max": 29,
            "min": 0,
            "orientation": "horizontal",
            "style": "IPY_MODEL_7edea9efdfb944859d339e23d4a15528",
            "value": 29
          }
        },
        "3b6e855a820f49ab92f275fcf3128663": {
          "model_module": "@jupyter-widgets/controls",
          "model_name": "HTMLModel",
          "model_module_version": "1.5.0",
          "state": {
            "_dom_classes": [],
            "_model_module": "@jupyter-widgets/controls",
            "_model_module_version": "1.5.0",
            "_model_name": "HTMLModel",
            "_view_count": null,
            "_view_module": "@jupyter-widgets/controls",
            "_view_module_version": "1.5.0",
            "_view_name": "HTMLView",
            "description": "",
            "description_tooltip": null,
            "layout": "IPY_MODEL_6093d07f9c2a47ceb5b245a7b6fbd7f4",
            "placeholder": "​",
            "style": "IPY_MODEL_6502953bfe7a4a679e8588dc0ebe8e2e",
            "value": " 29.0/29.0 [00:00&lt;00:00, 1.03kB/s]"
          }
        },
        "79fd6e0e046944c0982b36cf3928e447": {
          "model_module": "@jupyter-widgets/base",
          "model_name": "LayoutModel",
          "model_module_version": "1.2.0",
          "state": {
            "_model_module": "@jupyter-widgets/base",
            "_model_module_version": "1.2.0",
            "_model_name": "LayoutModel",
            "_view_count": null,
            "_view_module": "@jupyter-widgets/base",
            "_view_module_version": "1.2.0",
            "_view_name": "LayoutView",
            "align_content": null,
            "align_items": null,
            "align_self": null,
            "border": null,
            "bottom": null,
            "display": null,
            "flex": null,
            "flex_flow": null,
            "grid_area": null,
            "grid_auto_columns": null,
            "grid_auto_flow": null,
            "grid_auto_rows": null,
            "grid_column": null,
            "grid_gap": null,
            "grid_row": null,
            "grid_template_areas": null,
            "grid_template_columns": null,
            "grid_template_rows": null,
            "height": null,
            "justify_content": null,
            "justify_items": null,
            "left": null,
            "margin": null,
            "max_height": null,
            "max_width": null,
            "min_height": null,
            "min_width": null,
            "object_fit": null,
            "object_position": null,
            "order": null,
            "overflow": null,
            "overflow_x": null,
            "overflow_y": null,
            "padding": null,
            "right": null,
            "top": null,
            "visibility": null,
            "width": null
          }
        },
        "f6b2848bbd4942c69c27ead32b22a4f5": {
          "model_module": "@jupyter-widgets/base",
          "model_name": "LayoutModel",
          "model_module_version": "1.2.0",
          "state": {
            "_model_module": "@jupyter-widgets/base",
            "_model_module_version": "1.2.0",
            "_model_name": "LayoutModel",
            "_view_count": null,
            "_view_module": "@jupyter-widgets/base",
            "_view_module_version": "1.2.0",
            "_view_name": "LayoutView",
            "align_content": null,
            "align_items": null,
            "align_self": null,
            "border": null,
            "bottom": null,
            "display": null,
            "flex": null,
            "flex_flow": null,
            "grid_area": null,
            "grid_auto_columns": null,
            "grid_auto_flow": null,
            "grid_auto_rows": null,
            "grid_column": null,
            "grid_gap": null,
            "grid_row": null,
            "grid_template_areas": null,
            "grid_template_columns": null,
            "grid_template_rows": null,
            "height": null,
            "justify_content": null,
            "justify_items": null,
            "left": null,
            "margin": null,
            "max_height": null,
            "max_width": null,
            "min_height": null,
            "min_width": null,
            "object_fit": null,
            "object_position": null,
            "order": null,
            "overflow": null,
            "overflow_x": null,
            "overflow_y": null,
            "padding": null,
            "right": null,
            "top": null,
            "visibility": null,
            "width": null
          }
        },
        "9a8b634d531343f49c134393e15a705b": {
          "model_module": "@jupyter-widgets/controls",
          "model_name": "DescriptionStyleModel",
          "model_module_version": "1.5.0",
          "state": {
            "_model_module": "@jupyter-widgets/controls",
            "_model_module_version": "1.5.0",
            "_model_name": "DescriptionStyleModel",
            "_view_count": null,
            "_view_module": "@jupyter-widgets/base",
            "_view_module_version": "1.2.0",
            "_view_name": "StyleView",
            "description_width": ""
          }
        },
        "f956fd0fea724c278203ab3301866d2e": {
          "model_module": "@jupyter-widgets/base",
          "model_name": "LayoutModel",
          "model_module_version": "1.2.0",
          "state": {
            "_model_module": "@jupyter-widgets/base",
            "_model_module_version": "1.2.0",
            "_model_name": "LayoutModel",
            "_view_count": null,
            "_view_module": "@jupyter-widgets/base",
            "_view_module_version": "1.2.0",
            "_view_name": "LayoutView",
            "align_content": null,
            "align_items": null,
            "align_self": null,
            "border": null,
            "bottom": null,
            "display": null,
            "flex": null,
            "flex_flow": null,
            "grid_area": null,
            "grid_auto_columns": null,
            "grid_auto_flow": null,
            "grid_auto_rows": null,
            "grid_column": null,
            "grid_gap": null,
            "grid_row": null,
            "grid_template_areas": null,
            "grid_template_columns": null,
            "grid_template_rows": null,
            "height": null,
            "justify_content": null,
            "justify_items": null,
            "left": null,
            "margin": null,
            "max_height": null,
            "max_width": null,
            "min_height": null,
            "min_width": null,
            "object_fit": null,
            "object_position": null,
            "order": null,
            "overflow": null,
            "overflow_x": null,
            "overflow_y": null,
            "padding": null,
            "right": null,
            "top": null,
            "visibility": null,
            "width": null
          }
        },
        "7edea9efdfb944859d339e23d4a15528": {
          "model_module": "@jupyter-widgets/controls",
          "model_name": "ProgressStyleModel",
          "model_module_version": "1.5.0",
          "state": {
            "_model_module": "@jupyter-widgets/controls",
            "_model_module_version": "1.5.0",
            "_model_name": "ProgressStyleModel",
            "_view_count": null,
            "_view_module": "@jupyter-widgets/base",
            "_view_module_version": "1.2.0",
            "_view_name": "StyleView",
            "bar_color": null,
            "description_width": ""
          }
        },
        "6093d07f9c2a47ceb5b245a7b6fbd7f4": {
          "model_module": "@jupyter-widgets/base",
          "model_name": "LayoutModel",
          "model_module_version": "1.2.0",
          "state": {
            "_model_module": "@jupyter-widgets/base",
            "_model_module_version": "1.2.0",
            "_model_name": "LayoutModel",
            "_view_count": null,
            "_view_module": "@jupyter-widgets/base",
            "_view_module_version": "1.2.0",
            "_view_name": "LayoutView",
            "align_content": null,
            "align_items": null,
            "align_self": null,
            "border": null,
            "bottom": null,
            "display": null,
            "flex": null,
            "flex_flow": null,
            "grid_area": null,
            "grid_auto_columns": null,
            "grid_auto_flow": null,
            "grid_auto_rows": null,
            "grid_column": null,
            "grid_gap": null,
            "grid_row": null,
            "grid_template_areas": null,
            "grid_template_columns": null,
            "grid_template_rows": null,
            "height": null,
            "justify_content": null,
            "justify_items": null,
            "left": null,
            "margin": null,
            "max_height": null,
            "max_width": null,
            "min_height": null,
            "min_width": null,
            "object_fit": null,
            "object_position": null,
            "order": null,
            "overflow": null,
            "overflow_x": null,
            "overflow_y": null,
            "padding": null,
            "right": null,
            "top": null,
            "visibility": null,
            "width": null
          }
        },
        "6502953bfe7a4a679e8588dc0ebe8e2e": {
          "model_module": "@jupyter-widgets/controls",
          "model_name": "DescriptionStyleModel",
          "model_module_version": "1.5.0",
          "state": {
            "_model_module": "@jupyter-widgets/controls",
            "_model_module_version": "1.5.0",
            "_model_name": "DescriptionStyleModel",
            "_view_count": null,
            "_view_module": "@jupyter-widgets/base",
            "_view_module_version": "1.2.0",
            "_view_name": "StyleView",
            "description_width": ""
          }
        },
        "9f013ce8d2f94309b64a5991dd94cae5": {
          "model_module": "@jupyter-widgets/controls",
          "model_name": "HBoxModel",
          "model_module_version": "1.5.0",
          "state": {
            "_dom_classes": [],
            "_model_module": "@jupyter-widgets/controls",
            "_model_module_version": "1.5.0",
            "_model_name": "HBoxModel",
            "_view_count": null,
            "_view_module": "@jupyter-widgets/controls",
            "_view_module_version": "1.5.0",
            "_view_name": "HBoxView",
            "box_style": "",
            "children": [
              "IPY_MODEL_1a1e94b1bd204040b271640a1d5f07dd",
              "IPY_MODEL_e9cd7e6cb6c54caa8d3f4f497050b438",
              "IPY_MODEL_80639213a470440f840eea1b50351248"
            ],
            "layout": "IPY_MODEL_e850df3a9ae9427d899e24e495a3ef4f"
          }
        },
        "1a1e94b1bd204040b271640a1d5f07dd": {
          "model_module": "@jupyter-widgets/controls",
          "model_name": "HTMLModel",
          "model_module_version": "1.5.0",
          "state": {
            "_dom_classes": [],
            "_model_module": "@jupyter-widgets/controls",
            "_model_module_version": "1.5.0",
            "_model_name": "HTMLModel",
            "_view_count": null,
            "_view_module": "@jupyter-widgets/controls",
            "_view_module_version": "1.5.0",
            "_view_name": "HTMLView",
            "description": "",
            "description_tooltip": null,
            "layout": "IPY_MODEL_45ee796327804974b89aba2547a4dba2",
            "placeholder": "​",
            "style": "IPY_MODEL_1c3dd91af38b446c87061533cea99357",
            "value": "Downloading (…)lve/main/config.json: 100%"
          }
        },
        "e9cd7e6cb6c54caa8d3f4f497050b438": {
          "model_module": "@jupyter-widgets/controls",
          "model_name": "FloatProgressModel",
          "model_module_version": "1.5.0",
          "state": {
            "_dom_classes": [],
            "_model_module": "@jupyter-widgets/controls",
            "_model_module_version": "1.5.0",
            "_model_name": "FloatProgressModel",
            "_view_count": null,
            "_view_module": "@jupyter-widgets/controls",
            "_view_module_version": "1.5.0",
            "_view_name": "ProgressView",
            "bar_style": "success",
            "description": "",
            "description_tooltip": null,
            "layout": "IPY_MODEL_9cdf1cc094ba4b99b27506be8bba3f8f",
            "max": 570,
            "min": 0,
            "orientation": "horizontal",
            "style": "IPY_MODEL_68796f11098c47f4bedd6b253477d8d5",
            "value": 570
          }
        },
        "80639213a470440f840eea1b50351248": {
          "model_module": "@jupyter-widgets/controls",
          "model_name": "HTMLModel",
          "model_module_version": "1.5.0",
          "state": {
            "_dom_classes": [],
            "_model_module": "@jupyter-widgets/controls",
            "_model_module_version": "1.5.0",
            "_model_name": "HTMLModel",
            "_view_count": null,
            "_view_module": "@jupyter-widgets/controls",
            "_view_module_version": "1.5.0",
            "_view_name": "HTMLView",
            "description": "",
            "description_tooltip": null,
            "layout": "IPY_MODEL_708b48955bb24515a311a3ba5a1415b4",
            "placeholder": "​",
            "style": "IPY_MODEL_864af5e94caa4e15b6e3af4a95a819cc",
            "value": " 570/570 [00:00&lt;00:00, 13.0kB/s]"
          }
        },
        "e850df3a9ae9427d899e24e495a3ef4f": {
          "model_module": "@jupyter-widgets/base",
          "model_name": "LayoutModel",
          "model_module_version": "1.2.0",
          "state": {
            "_model_module": "@jupyter-widgets/base",
            "_model_module_version": "1.2.0",
            "_model_name": "LayoutModel",
            "_view_count": null,
            "_view_module": "@jupyter-widgets/base",
            "_view_module_version": "1.2.0",
            "_view_name": "LayoutView",
            "align_content": null,
            "align_items": null,
            "align_self": null,
            "border": null,
            "bottom": null,
            "display": null,
            "flex": null,
            "flex_flow": null,
            "grid_area": null,
            "grid_auto_columns": null,
            "grid_auto_flow": null,
            "grid_auto_rows": null,
            "grid_column": null,
            "grid_gap": null,
            "grid_row": null,
            "grid_template_areas": null,
            "grid_template_columns": null,
            "grid_template_rows": null,
            "height": null,
            "justify_content": null,
            "justify_items": null,
            "left": null,
            "margin": null,
            "max_height": null,
            "max_width": null,
            "min_height": null,
            "min_width": null,
            "object_fit": null,
            "object_position": null,
            "order": null,
            "overflow": null,
            "overflow_x": null,
            "overflow_y": null,
            "padding": null,
            "right": null,
            "top": null,
            "visibility": null,
            "width": null
          }
        },
        "45ee796327804974b89aba2547a4dba2": {
          "model_module": "@jupyter-widgets/base",
          "model_name": "LayoutModel",
          "model_module_version": "1.2.0",
          "state": {
            "_model_module": "@jupyter-widgets/base",
            "_model_module_version": "1.2.0",
            "_model_name": "LayoutModel",
            "_view_count": null,
            "_view_module": "@jupyter-widgets/base",
            "_view_module_version": "1.2.0",
            "_view_name": "LayoutView",
            "align_content": null,
            "align_items": null,
            "align_self": null,
            "border": null,
            "bottom": null,
            "display": null,
            "flex": null,
            "flex_flow": null,
            "grid_area": null,
            "grid_auto_columns": null,
            "grid_auto_flow": null,
            "grid_auto_rows": null,
            "grid_column": null,
            "grid_gap": null,
            "grid_row": null,
            "grid_template_areas": null,
            "grid_template_columns": null,
            "grid_template_rows": null,
            "height": null,
            "justify_content": null,
            "justify_items": null,
            "left": null,
            "margin": null,
            "max_height": null,
            "max_width": null,
            "min_height": null,
            "min_width": null,
            "object_fit": null,
            "object_position": null,
            "order": null,
            "overflow": null,
            "overflow_x": null,
            "overflow_y": null,
            "padding": null,
            "right": null,
            "top": null,
            "visibility": null,
            "width": null
          }
        },
        "1c3dd91af38b446c87061533cea99357": {
          "model_module": "@jupyter-widgets/controls",
          "model_name": "DescriptionStyleModel",
          "model_module_version": "1.5.0",
          "state": {
            "_model_module": "@jupyter-widgets/controls",
            "_model_module_version": "1.5.0",
            "_model_name": "DescriptionStyleModel",
            "_view_count": null,
            "_view_module": "@jupyter-widgets/base",
            "_view_module_version": "1.2.0",
            "_view_name": "StyleView",
            "description_width": ""
          }
        },
        "9cdf1cc094ba4b99b27506be8bba3f8f": {
          "model_module": "@jupyter-widgets/base",
          "model_name": "LayoutModel",
          "model_module_version": "1.2.0",
          "state": {
            "_model_module": "@jupyter-widgets/base",
            "_model_module_version": "1.2.0",
            "_model_name": "LayoutModel",
            "_view_count": null,
            "_view_module": "@jupyter-widgets/base",
            "_view_module_version": "1.2.0",
            "_view_name": "LayoutView",
            "align_content": null,
            "align_items": null,
            "align_self": null,
            "border": null,
            "bottom": null,
            "display": null,
            "flex": null,
            "flex_flow": null,
            "grid_area": null,
            "grid_auto_columns": null,
            "grid_auto_flow": null,
            "grid_auto_rows": null,
            "grid_column": null,
            "grid_gap": null,
            "grid_row": null,
            "grid_template_areas": null,
            "grid_template_columns": null,
            "grid_template_rows": null,
            "height": null,
            "justify_content": null,
            "justify_items": null,
            "left": null,
            "margin": null,
            "max_height": null,
            "max_width": null,
            "min_height": null,
            "min_width": null,
            "object_fit": null,
            "object_position": null,
            "order": null,
            "overflow": null,
            "overflow_x": null,
            "overflow_y": null,
            "padding": null,
            "right": null,
            "top": null,
            "visibility": null,
            "width": null
          }
        },
        "68796f11098c47f4bedd6b253477d8d5": {
          "model_module": "@jupyter-widgets/controls",
          "model_name": "ProgressStyleModel",
          "model_module_version": "1.5.0",
          "state": {
            "_model_module": "@jupyter-widgets/controls",
            "_model_module_version": "1.5.0",
            "_model_name": "ProgressStyleModel",
            "_view_count": null,
            "_view_module": "@jupyter-widgets/base",
            "_view_module_version": "1.2.0",
            "_view_name": "StyleView",
            "bar_color": null,
            "description_width": ""
          }
        },
        "708b48955bb24515a311a3ba5a1415b4": {
          "model_module": "@jupyter-widgets/base",
          "model_name": "LayoutModel",
          "model_module_version": "1.2.0",
          "state": {
            "_model_module": "@jupyter-widgets/base",
            "_model_module_version": "1.2.0",
            "_model_name": "LayoutModel",
            "_view_count": null,
            "_view_module": "@jupyter-widgets/base",
            "_view_module_version": "1.2.0",
            "_view_name": "LayoutView",
            "align_content": null,
            "align_items": null,
            "align_self": null,
            "border": null,
            "bottom": null,
            "display": null,
            "flex": null,
            "flex_flow": null,
            "grid_area": null,
            "grid_auto_columns": null,
            "grid_auto_flow": null,
            "grid_auto_rows": null,
            "grid_column": null,
            "grid_gap": null,
            "grid_row": null,
            "grid_template_areas": null,
            "grid_template_columns": null,
            "grid_template_rows": null,
            "height": null,
            "justify_content": null,
            "justify_items": null,
            "left": null,
            "margin": null,
            "max_height": null,
            "max_width": null,
            "min_height": null,
            "min_width": null,
            "object_fit": null,
            "object_position": null,
            "order": null,
            "overflow": null,
            "overflow_x": null,
            "overflow_y": null,
            "padding": null,
            "right": null,
            "top": null,
            "visibility": null,
            "width": null
          }
        },
        "864af5e94caa4e15b6e3af4a95a819cc": {
          "model_module": "@jupyter-widgets/controls",
          "model_name": "DescriptionStyleModel",
          "model_module_version": "1.5.0",
          "state": {
            "_model_module": "@jupyter-widgets/controls",
            "_model_module_version": "1.5.0",
            "_model_name": "DescriptionStyleModel",
            "_view_count": null,
            "_view_module": "@jupyter-widgets/base",
            "_view_module_version": "1.2.0",
            "_view_name": "StyleView",
            "description_width": ""
          }
        },
        "20d7636c95f049e19892052ea7a914c9": {
          "model_module": "@jupyter-widgets/controls",
          "model_name": "HBoxModel",
          "model_module_version": "1.5.0",
          "state": {
            "_dom_classes": [],
            "_model_module": "@jupyter-widgets/controls",
            "_model_module_version": "1.5.0",
            "_model_name": "HBoxModel",
            "_view_count": null,
            "_view_module": "@jupyter-widgets/controls",
            "_view_module_version": "1.5.0",
            "_view_name": "HBoxView",
            "box_style": "",
            "children": [
              "IPY_MODEL_3cae53bd426a4714b2b7fb53ec684c94",
              "IPY_MODEL_03438e5a84f043228fe12edb315d06cf",
              "IPY_MODEL_70fb05c341d9477c910a0e74fcdcfa8d"
            ],
            "layout": "IPY_MODEL_70146140854a4b0abce1f45588d22e91"
          }
        },
        "3cae53bd426a4714b2b7fb53ec684c94": {
          "model_module": "@jupyter-widgets/controls",
          "model_name": "HTMLModel",
          "model_module_version": "1.5.0",
          "state": {
            "_dom_classes": [],
            "_model_module": "@jupyter-widgets/controls",
            "_model_module_version": "1.5.0",
            "_model_name": "HTMLModel",
            "_view_count": null,
            "_view_module": "@jupyter-widgets/controls",
            "_view_module_version": "1.5.0",
            "_view_name": "HTMLView",
            "description": "",
            "description_tooltip": null,
            "layout": "IPY_MODEL_32850e54809e47ac91bdcae5dbfeb5d5",
            "placeholder": "​",
            "style": "IPY_MODEL_f014379606cd4c5180644687da123edb",
            "value": "Downloading (…)solve/main/vocab.txt: 100%"
          }
        },
        "03438e5a84f043228fe12edb315d06cf": {
          "model_module": "@jupyter-widgets/controls",
          "model_name": "FloatProgressModel",
          "model_module_version": "1.5.0",
          "state": {
            "_dom_classes": [],
            "_model_module": "@jupyter-widgets/controls",
            "_model_module_version": "1.5.0",
            "_model_name": "FloatProgressModel",
            "_view_count": null,
            "_view_module": "@jupyter-widgets/controls",
            "_view_module_version": "1.5.0",
            "_view_name": "ProgressView",
            "bar_style": "success",
            "description": "",
            "description_tooltip": null,
            "layout": "IPY_MODEL_4a077989189b418bab512e86a58c6df5",
            "max": 213450,
            "min": 0,
            "orientation": "horizontal",
            "style": "IPY_MODEL_f043d6f54e4b4446989b62903a1f3012",
            "value": 213450
          }
        },
        "70fb05c341d9477c910a0e74fcdcfa8d": {
          "model_module": "@jupyter-widgets/controls",
          "model_name": "HTMLModel",
          "model_module_version": "1.5.0",
          "state": {
            "_dom_classes": [],
            "_model_module": "@jupyter-widgets/controls",
            "_model_module_version": "1.5.0",
            "_model_name": "HTMLModel",
            "_view_count": null,
            "_view_module": "@jupyter-widgets/controls",
            "_view_module_version": "1.5.0",
            "_view_name": "HTMLView",
            "description": "",
            "description_tooltip": null,
            "layout": "IPY_MODEL_a92469c568704a6d97b9bd9e336758ad",
            "placeholder": "​",
            "style": "IPY_MODEL_dfc324d238504fdf9f5297200c800a36",
            "value": " 213k/213k [00:00&lt;00:00, 505kB/s]"
          }
        },
        "70146140854a4b0abce1f45588d22e91": {
          "model_module": "@jupyter-widgets/base",
          "model_name": "LayoutModel",
          "model_module_version": "1.2.0",
          "state": {
            "_model_module": "@jupyter-widgets/base",
            "_model_module_version": "1.2.0",
            "_model_name": "LayoutModel",
            "_view_count": null,
            "_view_module": "@jupyter-widgets/base",
            "_view_module_version": "1.2.0",
            "_view_name": "LayoutView",
            "align_content": null,
            "align_items": null,
            "align_self": null,
            "border": null,
            "bottom": null,
            "display": null,
            "flex": null,
            "flex_flow": null,
            "grid_area": null,
            "grid_auto_columns": null,
            "grid_auto_flow": null,
            "grid_auto_rows": null,
            "grid_column": null,
            "grid_gap": null,
            "grid_row": null,
            "grid_template_areas": null,
            "grid_template_columns": null,
            "grid_template_rows": null,
            "height": null,
            "justify_content": null,
            "justify_items": null,
            "left": null,
            "margin": null,
            "max_height": null,
            "max_width": null,
            "min_height": null,
            "min_width": null,
            "object_fit": null,
            "object_position": null,
            "order": null,
            "overflow": null,
            "overflow_x": null,
            "overflow_y": null,
            "padding": null,
            "right": null,
            "top": null,
            "visibility": null,
            "width": null
          }
        },
        "32850e54809e47ac91bdcae5dbfeb5d5": {
          "model_module": "@jupyter-widgets/base",
          "model_name": "LayoutModel",
          "model_module_version": "1.2.0",
          "state": {
            "_model_module": "@jupyter-widgets/base",
            "_model_module_version": "1.2.0",
            "_model_name": "LayoutModel",
            "_view_count": null,
            "_view_module": "@jupyter-widgets/base",
            "_view_module_version": "1.2.0",
            "_view_name": "LayoutView",
            "align_content": null,
            "align_items": null,
            "align_self": null,
            "border": null,
            "bottom": null,
            "display": null,
            "flex": null,
            "flex_flow": null,
            "grid_area": null,
            "grid_auto_columns": null,
            "grid_auto_flow": null,
            "grid_auto_rows": null,
            "grid_column": null,
            "grid_gap": null,
            "grid_row": null,
            "grid_template_areas": null,
            "grid_template_columns": null,
            "grid_template_rows": null,
            "height": null,
            "justify_content": null,
            "justify_items": null,
            "left": null,
            "margin": null,
            "max_height": null,
            "max_width": null,
            "min_height": null,
            "min_width": null,
            "object_fit": null,
            "object_position": null,
            "order": null,
            "overflow": null,
            "overflow_x": null,
            "overflow_y": null,
            "padding": null,
            "right": null,
            "top": null,
            "visibility": null,
            "width": null
          }
        },
        "f014379606cd4c5180644687da123edb": {
          "model_module": "@jupyter-widgets/controls",
          "model_name": "DescriptionStyleModel",
          "model_module_version": "1.5.0",
          "state": {
            "_model_module": "@jupyter-widgets/controls",
            "_model_module_version": "1.5.0",
            "_model_name": "DescriptionStyleModel",
            "_view_count": null,
            "_view_module": "@jupyter-widgets/base",
            "_view_module_version": "1.2.0",
            "_view_name": "StyleView",
            "description_width": ""
          }
        },
        "4a077989189b418bab512e86a58c6df5": {
          "model_module": "@jupyter-widgets/base",
          "model_name": "LayoutModel",
          "model_module_version": "1.2.0",
          "state": {
            "_model_module": "@jupyter-widgets/base",
            "_model_module_version": "1.2.0",
            "_model_name": "LayoutModel",
            "_view_count": null,
            "_view_module": "@jupyter-widgets/base",
            "_view_module_version": "1.2.0",
            "_view_name": "LayoutView",
            "align_content": null,
            "align_items": null,
            "align_self": null,
            "border": null,
            "bottom": null,
            "display": null,
            "flex": null,
            "flex_flow": null,
            "grid_area": null,
            "grid_auto_columns": null,
            "grid_auto_flow": null,
            "grid_auto_rows": null,
            "grid_column": null,
            "grid_gap": null,
            "grid_row": null,
            "grid_template_areas": null,
            "grid_template_columns": null,
            "grid_template_rows": null,
            "height": null,
            "justify_content": null,
            "justify_items": null,
            "left": null,
            "margin": null,
            "max_height": null,
            "max_width": null,
            "min_height": null,
            "min_width": null,
            "object_fit": null,
            "object_position": null,
            "order": null,
            "overflow": null,
            "overflow_x": null,
            "overflow_y": null,
            "padding": null,
            "right": null,
            "top": null,
            "visibility": null,
            "width": null
          }
        },
        "f043d6f54e4b4446989b62903a1f3012": {
          "model_module": "@jupyter-widgets/controls",
          "model_name": "ProgressStyleModel",
          "model_module_version": "1.5.0",
          "state": {
            "_model_module": "@jupyter-widgets/controls",
            "_model_module_version": "1.5.0",
            "_model_name": "ProgressStyleModel",
            "_view_count": null,
            "_view_module": "@jupyter-widgets/base",
            "_view_module_version": "1.2.0",
            "_view_name": "StyleView",
            "bar_color": null,
            "description_width": ""
          }
        },
        "a92469c568704a6d97b9bd9e336758ad": {
          "model_module": "@jupyter-widgets/base",
          "model_name": "LayoutModel",
          "model_module_version": "1.2.0",
          "state": {
            "_model_module": "@jupyter-widgets/base",
            "_model_module_version": "1.2.0",
            "_model_name": "LayoutModel",
            "_view_count": null,
            "_view_module": "@jupyter-widgets/base",
            "_view_module_version": "1.2.0",
            "_view_name": "LayoutView",
            "align_content": null,
            "align_items": null,
            "align_self": null,
            "border": null,
            "bottom": null,
            "display": null,
            "flex": null,
            "flex_flow": null,
            "grid_area": null,
            "grid_auto_columns": null,
            "grid_auto_flow": null,
            "grid_auto_rows": null,
            "grid_column": null,
            "grid_gap": null,
            "grid_row": null,
            "grid_template_areas": null,
            "grid_template_columns": null,
            "grid_template_rows": null,
            "height": null,
            "justify_content": null,
            "justify_items": null,
            "left": null,
            "margin": null,
            "max_height": null,
            "max_width": null,
            "min_height": null,
            "min_width": null,
            "object_fit": null,
            "object_position": null,
            "order": null,
            "overflow": null,
            "overflow_x": null,
            "overflow_y": null,
            "padding": null,
            "right": null,
            "top": null,
            "visibility": null,
            "width": null
          }
        },
        "dfc324d238504fdf9f5297200c800a36": {
          "model_module": "@jupyter-widgets/controls",
          "model_name": "DescriptionStyleModel",
          "model_module_version": "1.5.0",
          "state": {
            "_model_module": "@jupyter-widgets/controls",
            "_model_module_version": "1.5.0",
            "_model_name": "DescriptionStyleModel",
            "_view_count": null,
            "_view_module": "@jupyter-widgets/base",
            "_view_module_version": "1.2.0",
            "_view_name": "StyleView",
            "description_width": ""
          }
        },
        "0fd8dc31ffe14ec984e6089d739f03b1": {
          "model_module": "@jupyter-widgets/controls",
          "model_name": "HBoxModel",
          "model_module_version": "1.5.0",
          "state": {
            "_dom_classes": [],
            "_model_module": "@jupyter-widgets/controls",
            "_model_module_version": "1.5.0",
            "_model_name": "HBoxModel",
            "_view_count": null,
            "_view_module": "@jupyter-widgets/controls",
            "_view_module_version": "1.5.0",
            "_view_name": "HBoxView",
            "box_style": "",
            "children": [
              "IPY_MODEL_de22b54b81f64576aa56d7fdc0fcf8e4",
              "IPY_MODEL_0a30b5ba79cf48288c1561465f8b32d2",
              "IPY_MODEL_553c8e0a89834affb07aabf5a2e1f994"
            ],
            "layout": "IPY_MODEL_53de0a6a8da84c9ea4ea179bcf3e9980"
          }
        },
        "de22b54b81f64576aa56d7fdc0fcf8e4": {
          "model_module": "@jupyter-widgets/controls",
          "model_name": "HTMLModel",
          "model_module_version": "1.5.0",
          "state": {
            "_dom_classes": [],
            "_model_module": "@jupyter-widgets/controls",
            "_model_module_version": "1.5.0",
            "_model_name": "HTMLModel",
            "_view_count": null,
            "_view_module": "@jupyter-widgets/controls",
            "_view_module_version": "1.5.0",
            "_view_name": "HTMLView",
            "description": "",
            "description_tooltip": null,
            "layout": "IPY_MODEL_15786c21f41040bbbc508a4d605734a0",
            "placeholder": "​",
            "style": "IPY_MODEL_fe6930dfb4994add96ba6d32ca3cfe32",
            "value": "Downloading (…)/main/tokenizer.json: 100%"
          }
        },
        "0a30b5ba79cf48288c1561465f8b32d2": {
          "model_module": "@jupyter-widgets/controls",
          "model_name": "FloatProgressModel",
          "model_module_version": "1.5.0",
          "state": {
            "_dom_classes": [],
            "_model_module": "@jupyter-widgets/controls",
            "_model_module_version": "1.5.0",
            "_model_name": "FloatProgressModel",
            "_view_count": null,
            "_view_module": "@jupyter-widgets/controls",
            "_view_module_version": "1.5.0",
            "_view_name": "ProgressView",
            "bar_style": "success",
            "description": "",
            "description_tooltip": null,
            "layout": "IPY_MODEL_5de59c9082c24bc0baf3a81679196cdd",
            "max": 435797,
            "min": 0,
            "orientation": "horizontal",
            "style": "IPY_MODEL_eb9ba8fb696443f7b574a80d5df8c6ef",
            "value": 435797
          }
        },
        "553c8e0a89834affb07aabf5a2e1f994": {
          "model_module": "@jupyter-widgets/controls",
          "model_name": "HTMLModel",
          "model_module_version": "1.5.0",
          "state": {
            "_dom_classes": [],
            "_model_module": "@jupyter-widgets/controls",
            "_model_module_version": "1.5.0",
            "_model_name": "HTMLModel",
            "_view_count": null,
            "_view_module": "@jupyter-widgets/controls",
            "_view_module_version": "1.5.0",
            "_view_name": "HTMLView",
            "description": "",
            "description_tooltip": null,
            "layout": "IPY_MODEL_689b9ed2927e401bbdb9abfed6d6b4e0",
            "placeholder": "​",
            "style": "IPY_MODEL_d471884d4b4243faad662a7a1f2c91f1",
            "value": " 436k/436k [00:00&lt;00:00, 2.06MB/s]"
          }
        },
        "53de0a6a8da84c9ea4ea179bcf3e9980": {
          "model_module": "@jupyter-widgets/base",
          "model_name": "LayoutModel",
          "model_module_version": "1.2.0",
          "state": {
            "_model_module": "@jupyter-widgets/base",
            "_model_module_version": "1.2.0",
            "_model_name": "LayoutModel",
            "_view_count": null,
            "_view_module": "@jupyter-widgets/base",
            "_view_module_version": "1.2.0",
            "_view_name": "LayoutView",
            "align_content": null,
            "align_items": null,
            "align_self": null,
            "border": null,
            "bottom": null,
            "display": null,
            "flex": null,
            "flex_flow": null,
            "grid_area": null,
            "grid_auto_columns": null,
            "grid_auto_flow": null,
            "grid_auto_rows": null,
            "grid_column": null,
            "grid_gap": null,
            "grid_row": null,
            "grid_template_areas": null,
            "grid_template_columns": null,
            "grid_template_rows": null,
            "height": null,
            "justify_content": null,
            "justify_items": null,
            "left": null,
            "margin": null,
            "max_height": null,
            "max_width": null,
            "min_height": null,
            "min_width": null,
            "object_fit": null,
            "object_position": null,
            "order": null,
            "overflow": null,
            "overflow_x": null,
            "overflow_y": null,
            "padding": null,
            "right": null,
            "top": null,
            "visibility": null,
            "width": null
          }
        },
        "15786c21f41040bbbc508a4d605734a0": {
          "model_module": "@jupyter-widgets/base",
          "model_name": "LayoutModel",
          "model_module_version": "1.2.0",
          "state": {
            "_model_module": "@jupyter-widgets/base",
            "_model_module_version": "1.2.0",
            "_model_name": "LayoutModel",
            "_view_count": null,
            "_view_module": "@jupyter-widgets/base",
            "_view_module_version": "1.2.0",
            "_view_name": "LayoutView",
            "align_content": null,
            "align_items": null,
            "align_self": null,
            "border": null,
            "bottom": null,
            "display": null,
            "flex": null,
            "flex_flow": null,
            "grid_area": null,
            "grid_auto_columns": null,
            "grid_auto_flow": null,
            "grid_auto_rows": null,
            "grid_column": null,
            "grid_gap": null,
            "grid_row": null,
            "grid_template_areas": null,
            "grid_template_columns": null,
            "grid_template_rows": null,
            "height": null,
            "justify_content": null,
            "justify_items": null,
            "left": null,
            "margin": null,
            "max_height": null,
            "max_width": null,
            "min_height": null,
            "min_width": null,
            "object_fit": null,
            "object_position": null,
            "order": null,
            "overflow": null,
            "overflow_x": null,
            "overflow_y": null,
            "padding": null,
            "right": null,
            "top": null,
            "visibility": null,
            "width": null
          }
        },
        "fe6930dfb4994add96ba6d32ca3cfe32": {
          "model_module": "@jupyter-widgets/controls",
          "model_name": "DescriptionStyleModel",
          "model_module_version": "1.5.0",
          "state": {
            "_model_module": "@jupyter-widgets/controls",
            "_model_module_version": "1.5.0",
            "_model_name": "DescriptionStyleModel",
            "_view_count": null,
            "_view_module": "@jupyter-widgets/base",
            "_view_module_version": "1.2.0",
            "_view_name": "StyleView",
            "description_width": ""
          }
        },
        "5de59c9082c24bc0baf3a81679196cdd": {
          "model_module": "@jupyter-widgets/base",
          "model_name": "LayoutModel",
          "model_module_version": "1.2.0",
          "state": {
            "_model_module": "@jupyter-widgets/base",
            "_model_module_version": "1.2.0",
            "_model_name": "LayoutModel",
            "_view_count": null,
            "_view_module": "@jupyter-widgets/base",
            "_view_module_version": "1.2.0",
            "_view_name": "LayoutView",
            "align_content": null,
            "align_items": null,
            "align_self": null,
            "border": null,
            "bottom": null,
            "display": null,
            "flex": null,
            "flex_flow": null,
            "grid_area": null,
            "grid_auto_columns": null,
            "grid_auto_flow": null,
            "grid_auto_rows": null,
            "grid_column": null,
            "grid_gap": null,
            "grid_row": null,
            "grid_template_areas": null,
            "grid_template_columns": null,
            "grid_template_rows": null,
            "height": null,
            "justify_content": null,
            "justify_items": null,
            "left": null,
            "margin": null,
            "max_height": null,
            "max_width": null,
            "min_height": null,
            "min_width": null,
            "object_fit": null,
            "object_position": null,
            "order": null,
            "overflow": null,
            "overflow_x": null,
            "overflow_y": null,
            "padding": null,
            "right": null,
            "top": null,
            "visibility": null,
            "width": null
          }
        },
        "eb9ba8fb696443f7b574a80d5df8c6ef": {
          "model_module": "@jupyter-widgets/controls",
          "model_name": "ProgressStyleModel",
          "model_module_version": "1.5.0",
          "state": {
            "_model_module": "@jupyter-widgets/controls",
            "_model_module_version": "1.5.0",
            "_model_name": "ProgressStyleModel",
            "_view_count": null,
            "_view_module": "@jupyter-widgets/base",
            "_view_module_version": "1.2.0",
            "_view_name": "StyleView",
            "bar_color": null,
            "description_width": ""
          }
        },
        "689b9ed2927e401bbdb9abfed6d6b4e0": {
          "model_module": "@jupyter-widgets/base",
          "model_name": "LayoutModel",
          "model_module_version": "1.2.0",
          "state": {
            "_model_module": "@jupyter-widgets/base",
            "_model_module_version": "1.2.0",
            "_model_name": "LayoutModel",
            "_view_count": null,
            "_view_module": "@jupyter-widgets/base",
            "_view_module_version": "1.2.0",
            "_view_name": "LayoutView",
            "align_content": null,
            "align_items": null,
            "align_self": null,
            "border": null,
            "bottom": null,
            "display": null,
            "flex": null,
            "flex_flow": null,
            "grid_area": null,
            "grid_auto_columns": null,
            "grid_auto_flow": null,
            "grid_auto_rows": null,
            "grid_column": null,
            "grid_gap": null,
            "grid_row": null,
            "grid_template_areas": null,
            "grid_template_columns": null,
            "grid_template_rows": null,
            "height": null,
            "justify_content": null,
            "justify_items": null,
            "left": null,
            "margin": null,
            "max_height": null,
            "max_width": null,
            "min_height": null,
            "min_width": null,
            "object_fit": null,
            "object_position": null,
            "order": null,
            "overflow": null,
            "overflow_x": null,
            "overflow_y": null,
            "padding": null,
            "right": null,
            "top": null,
            "visibility": null,
            "width": null
          }
        },
        "d471884d4b4243faad662a7a1f2c91f1": {
          "model_module": "@jupyter-widgets/controls",
          "model_name": "DescriptionStyleModel",
          "model_module_version": "1.5.0",
          "state": {
            "_model_module": "@jupyter-widgets/controls",
            "_model_module_version": "1.5.0",
            "_model_name": "DescriptionStyleModel",
            "_view_count": null,
            "_view_module": "@jupyter-widgets/base",
            "_view_module_version": "1.2.0",
            "_view_name": "StyleView",
            "description_width": ""
          }
        },
        "037be19d00814b3eb7a2fcb802e46b09": {
          "model_module": "@jupyter-widgets/controls",
          "model_name": "HBoxModel",
          "model_module_version": "1.5.0",
          "state": {
            "_dom_classes": [],
            "_model_module": "@jupyter-widgets/controls",
            "_model_module_version": "1.5.0",
            "_model_name": "HBoxModel",
            "_view_count": null,
            "_view_module": "@jupyter-widgets/controls",
            "_view_module_version": "1.5.0",
            "_view_name": "HBoxView",
            "box_style": "",
            "children": [
              "IPY_MODEL_a53a5397c3e44268a90b8205e1484717",
              "IPY_MODEL_7b51823fcc8540de8ce5885b1da0c56d",
              "IPY_MODEL_14f412d839a1413f8de8dd5fa107d38b"
            ],
            "layout": "IPY_MODEL_c1ad4f0df96a40b2ab4319ed616dcf39"
          }
        },
        "a53a5397c3e44268a90b8205e1484717": {
          "model_module": "@jupyter-widgets/controls",
          "model_name": "HTMLModel",
          "model_module_version": "1.5.0",
          "state": {
            "_dom_classes": [],
            "_model_module": "@jupyter-widgets/controls",
            "_model_module_version": "1.5.0",
            "_model_name": "HTMLModel",
            "_view_count": null,
            "_view_module": "@jupyter-widgets/controls",
            "_view_module_version": "1.5.0",
            "_view_name": "HTMLView",
            "description": "",
            "description_tooltip": null,
            "layout": "IPY_MODEL_af97b0cc21a24925a7795071c2b2f2a5",
            "placeholder": "​",
            "style": "IPY_MODEL_6182ef0d13b04f4bbfc499862876b470",
            "value": "Downloading model.safetensors: 100%"
          }
        },
        "7b51823fcc8540de8ce5885b1da0c56d": {
          "model_module": "@jupyter-widgets/controls",
          "model_name": "FloatProgressModel",
          "model_module_version": "1.5.0",
          "state": {
            "_dom_classes": [],
            "_model_module": "@jupyter-widgets/controls",
            "_model_module_version": "1.5.0",
            "_model_name": "FloatProgressModel",
            "_view_count": null,
            "_view_module": "@jupyter-widgets/controls",
            "_view_module_version": "1.5.0",
            "_view_name": "ProgressView",
            "bar_style": "success",
            "description": "",
            "description_tooltip": null,
            "layout": "IPY_MODEL_06e76116e20340c5a6e582529a8239cb",
            "max": 435755784,
            "min": 0,
            "orientation": "horizontal",
            "style": "IPY_MODEL_40e3c56e99c948e2bddcaad62ced5e27",
            "value": 435755784
          }
        },
        "14f412d839a1413f8de8dd5fa107d38b": {
          "model_module": "@jupyter-widgets/controls",
          "model_name": "HTMLModel",
          "model_module_version": "1.5.0",
          "state": {
            "_dom_classes": [],
            "_model_module": "@jupyter-widgets/controls",
            "_model_module_version": "1.5.0",
            "_model_name": "HTMLModel",
            "_view_count": null,
            "_view_module": "@jupyter-widgets/controls",
            "_view_module_version": "1.5.0",
            "_view_name": "HTMLView",
            "description": "",
            "description_tooltip": null,
            "layout": "IPY_MODEL_178cdbf3af5a4200834c690c40522fa6",
            "placeholder": "​",
            "style": "IPY_MODEL_de720929966341cdbe09c86e5214f4f7",
            "value": " 436M/436M [00:02&lt;00:00, 173MB/s]"
          }
        },
        "c1ad4f0df96a40b2ab4319ed616dcf39": {
          "model_module": "@jupyter-widgets/base",
          "model_name": "LayoutModel",
          "model_module_version": "1.2.0",
          "state": {
            "_model_module": "@jupyter-widgets/base",
            "_model_module_version": "1.2.0",
            "_model_name": "LayoutModel",
            "_view_count": null,
            "_view_module": "@jupyter-widgets/base",
            "_view_module_version": "1.2.0",
            "_view_name": "LayoutView",
            "align_content": null,
            "align_items": null,
            "align_self": null,
            "border": null,
            "bottom": null,
            "display": null,
            "flex": null,
            "flex_flow": null,
            "grid_area": null,
            "grid_auto_columns": null,
            "grid_auto_flow": null,
            "grid_auto_rows": null,
            "grid_column": null,
            "grid_gap": null,
            "grid_row": null,
            "grid_template_areas": null,
            "grid_template_columns": null,
            "grid_template_rows": null,
            "height": null,
            "justify_content": null,
            "justify_items": null,
            "left": null,
            "margin": null,
            "max_height": null,
            "max_width": null,
            "min_height": null,
            "min_width": null,
            "object_fit": null,
            "object_position": null,
            "order": null,
            "overflow": null,
            "overflow_x": null,
            "overflow_y": null,
            "padding": null,
            "right": null,
            "top": null,
            "visibility": null,
            "width": null
          }
        },
        "af97b0cc21a24925a7795071c2b2f2a5": {
          "model_module": "@jupyter-widgets/base",
          "model_name": "LayoutModel",
          "model_module_version": "1.2.0",
          "state": {
            "_model_module": "@jupyter-widgets/base",
            "_model_module_version": "1.2.0",
            "_model_name": "LayoutModel",
            "_view_count": null,
            "_view_module": "@jupyter-widgets/base",
            "_view_module_version": "1.2.0",
            "_view_name": "LayoutView",
            "align_content": null,
            "align_items": null,
            "align_self": null,
            "border": null,
            "bottom": null,
            "display": null,
            "flex": null,
            "flex_flow": null,
            "grid_area": null,
            "grid_auto_columns": null,
            "grid_auto_flow": null,
            "grid_auto_rows": null,
            "grid_column": null,
            "grid_gap": null,
            "grid_row": null,
            "grid_template_areas": null,
            "grid_template_columns": null,
            "grid_template_rows": null,
            "height": null,
            "justify_content": null,
            "justify_items": null,
            "left": null,
            "margin": null,
            "max_height": null,
            "max_width": null,
            "min_height": null,
            "min_width": null,
            "object_fit": null,
            "object_position": null,
            "order": null,
            "overflow": null,
            "overflow_x": null,
            "overflow_y": null,
            "padding": null,
            "right": null,
            "top": null,
            "visibility": null,
            "width": null
          }
        },
        "6182ef0d13b04f4bbfc499862876b470": {
          "model_module": "@jupyter-widgets/controls",
          "model_name": "DescriptionStyleModel",
          "model_module_version": "1.5.0",
          "state": {
            "_model_module": "@jupyter-widgets/controls",
            "_model_module_version": "1.5.0",
            "_model_name": "DescriptionStyleModel",
            "_view_count": null,
            "_view_module": "@jupyter-widgets/base",
            "_view_module_version": "1.2.0",
            "_view_name": "StyleView",
            "description_width": ""
          }
        },
        "06e76116e20340c5a6e582529a8239cb": {
          "model_module": "@jupyter-widgets/base",
          "model_name": "LayoutModel",
          "model_module_version": "1.2.0",
          "state": {
            "_model_module": "@jupyter-widgets/base",
            "_model_module_version": "1.2.0",
            "_model_name": "LayoutModel",
            "_view_count": null,
            "_view_module": "@jupyter-widgets/base",
            "_view_module_version": "1.2.0",
            "_view_name": "LayoutView",
            "align_content": null,
            "align_items": null,
            "align_self": null,
            "border": null,
            "bottom": null,
            "display": null,
            "flex": null,
            "flex_flow": null,
            "grid_area": null,
            "grid_auto_columns": null,
            "grid_auto_flow": null,
            "grid_auto_rows": null,
            "grid_column": null,
            "grid_gap": null,
            "grid_row": null,
            "grid_template_areas": null,
            "grid_template_columns": null,
            "grid_template_rows": null,
            "height": null,
            "justify_content": null,
            "justify_items": null,
            "left": null,
            "margin": null,
            "max_height": null,
            "max_width": null,
            "min_height": null,
            "min_width": null,
            "object_fit": null,
            "object_position": null,
            "order": null,
            "overflow": null,
            "overflow_x": null,
            "overflow_y": null,
            "padding": null,
            "right": null,
            "top": null,
            "visibility": null,
            "width": null
          }
        },
        "40e3c56e99c948e2bddcaad62ced5e27": {
          "model_module": "@jupyter-widgets/controls",
          "model_name": "ProgressStyleModel",
          "model_module_version": "1.5.0",
          "state": {
            "_model_module": "@jupyter-widgets/controls",
            "_model_module_version": "1.5.0",
            "_model_name": "ProgressStyleModel",
            "_view_count": null,
            "_view_module": "@jupyter-widgets/base",
            "_view_module_version": "1.2.0",
            "_view_name": "StyleView",
            "bar_color": null,
            "description_width": ""
          }
        },
        "178cdbf3af5a4200834c690c40522fa6": {
          "model_module": "@jupyter-widgets/base",
          "model_name": "LayoutModel",
          "model_module_version": "1.2.0",
          "state": {
            "_model_module": "@jupyter-widgets/base",
            "_model_module_version": "1.2.0",
            "_model_name": "LayoutModel",
            "_view_count": null,
            "_view_module": "@jupyter-widgets/base",
            "_view_module_version": "1.2.0",
            "_view_name": "LayoutView",
            "align_content": null,
            "align_items": null,
            "align_self": null,
            "border": null,
            "bottom": null,
            "display": null,
            "flex": null,
            "flex_flow": null,
            "grid_area": null,
            "grid_auto_columns": null,
            "grid_auto_flow": null,
            "grid_auto_rows": null,
            "grid_column": null,
            "grid_gap": null,
            "grid_row": null,
            "grid_template_areas": null,
            "grid_template_columns": null,
            "grid_template_rows": null,
            "height": null,
            "justify_content": null,
            "justify_items": null,
            "left": null,
            "margin": null,
            "max_height": null,
            "max_width": null,
            "min_height": null,
            "min_width": null,
            "object_fit": null,
            "object_position": null,
            "order": null,
            "overflow": null,
            "overflow_x": null,
            "overflow_y": null,
            "padding": null,
            "right": null,
            "top": null,
            "visibility": null,
            "width": null
          }
        },
        "de720929966341cdbe09c86e5214f4f7": {
          "model_module": "@jupyter-widgets/controls",
          "model_name": "DescriptionStyleModel",
          "model_module_version": "1.5.0",
          "state": {
            "_model_module": "@jupyter-widgets/controls",
            "_model_module_version": "1.5.0",
            "_model_name": "DescriptionStyleModel",
            "_view_count": null,
            "_view_module": "@jupyter-widgets/base",
            "_view_module_version": "1.2.0",
            "_view_name": "StyleView",
            "description_width": ""
          }
        }
      }
    }
  },
  "cells": [
    {
      "cell_type": "code",
      "execution_count": null,
      "metadata": {
        "id": "FwXCNQHkRcsx",
        "colab": {
          "base_uri": "https://localhost:8080/"
        },
        "outputId": "1ce80bc8-be3d-4bdc-d2cc-580004faeb96"
      },
      "outputs": [
        {
          "output_type": "stream",
          "name": "stdout",
          "text": [
            "\u001b[2K     \u001b[90m━━━━━━━━━━━━━━━━━━━━━━━━━━━━━━━━━━━━━━━━\u001b[0m \u001b[32m1.8/1.8 MB\u001b[0m \u001b[31m39.0 MB/s\u001b[0m eta \u001b[36m0:00:00\u001b[0m\n",
            "\u001b[2K     \u001b[90m━━━━━━━━━━━━━━━━━━━━━━━━━━━━━━━━━━━━━━━━\u001b[0m \u001b[32m7.2/7.2 MB\u001b[0m \u001b[31m109.4 MB/s\u001b[0m eta \u001b[36m0:00:00\u001b[0m\n",
            "\u001b[2K     \u001b[90m━━━━━━━━━━━━━━━━━━━━━━━━━━━━━━━━━━━━━━━━\u001b[0m \u001b[32m66.4/66.4 kB\u001b[0m \u001b[31m7.4 MB/s\u001b[0m eta \u001b[36m0:00:00\u001b[0m\n",
            "\u001b[2K     \u001b[90m━━━━━━━━━━━━━━━━━━━━━━━━━━━━━━━━━━━━━━━━\u001b[0m \u001b[32m69.7/69.7 kB\u001b[0m \u001b[31m9.9 MB/s\u001b[0m eta \u001b[36m0:00:00\u001b[0m\n",
            "\u001b[2K     \u001b[90m━━━━━━━━━━━━━━━━━━━━━━━━━━━━━━━━━━━━━━━━\u001b[0m \u001b[32m55.5/55.5 kB\u001b[0m \u001b[31m7.6 MB/s\u001b[0m eta \u001b[36m0:00:00\u001b[0m\n",
            "\u001b[2K     \u001b[90m━━━━━━━━━━━━━━━━━━━━━━━━━━━━━━━━━━━━━━\u001b[0m \u001b[32m562.4/562.4 kB\u001b[0m \u001b[31m53.2 MB/s\u001b[0m eta \u001b[36m0:00:00\u001b[0m\n",
            "\u001b[2K     \u001b[90m━━━━━━━━━━━━━━━━━━━━━━━━━━━━━━━━━━━━━━━━\u001b[0m \u001b[32m45.7/45.7 kB\u001b[0m \u001b[31m6.1 MB/s\u001b[0m eta \u001b[36m0:00:00\u001b[0m\n",
            "\u001b[2K     \u001b[90m━━━━━━━━━━━━━━━━━━━━━━━━━━━━━━━━━━━━━━━━\u001b[0m \u001b[32m68.9/68.9 kB\u001b[0m \u001b[31m9.2 MB/s\u001b[0m eta \u001b[36m0:00:00\u001b[0m\n",
            "\u001b[2K     \u001b[90m━━━━━━━━━━━━━━━━━━━━━━━━━━━━━━━━━━━━━━\u001b[0m \u001b[32m519.2/519.2 kB\u001b[0m \u001b[31m41.1 MB/s\u001b[0m eta \u001b[36m0:00:00\u001b[0m\n",
            "\u001b[2K     \u001b[90m━━━━━━━━━━━━━━━━━━━━━━━━━━━━━━━━━━━━━━━━\u001b[0m \u001b[32m58.3/58.3 kB\u001b[0m \u001b[31m6.7 MB/s\u001b[0m eta \u001b[36m0:00:00\u001b[0m\n",
            "\u001b[2K     \u001b[90m━━━━━━━━━━━━━━━━━━━━━━━━━━━━━━━━━━━━━━\u001b[0m \u001b[32m129.9/129.9 kB\u001b[0m \u001b[31m15.5 MB/s\u001b[0m eta \u001b[36m0:00:00\u001b[0m\n",
            "\u001b[2K     \u001b[90m━━━━━━━━━━━━━━━━━━━━━━━━━━━━━━━━━━━━━━\u001b[0m \u001b[32m720.6/720.6 kB\u001b[0m \u001b[31m39.1 MB/s\u001b[0m eta \u001b[36m0:00:00\u001b[0m\n",
            "\u001b[2K     \u001b[90m━━━━━━━━━━━━━━━━━━━━━━━━━━━━━━━━━━━━━━\u001b[0m \u001b[32m236.8/236.8 kB\u001b[0m \u001b[31m28.0 MB/s\u001b[0m eta \u001b[36m0:00:00\u001b[0m\n",
            "\u001b[2K     \u001b[90m━━━━━━━━━━━━━━━━━━━━━━━━━━━━━━━━━━━━━━━━\u001b[0m \u001b[32m7.8/7.8 MB\u001b[0m \u001b[31m46.8 MB/s\u001b[0m eta \u001b[36m0:00:00\u001b[0m\n",
            "\u001b[2K     \u001b[90m━━━━━━━━━━━━━━━━━━━━━━━━━━━━━━━━━━━━━━━━\u001b[0m \u001b[32m1.3/1.3 MB\u001b[0m \u001b[31m68.7 MB/s\u001b[0m eta \u001b[36m0:00:00\u001b[0m\n",
            "\u001b[2K     \u001b[90m━━━━━━━━━━━━━━━━━━━━━━━━━━━━━━━━━━━━━━━━\u001b[0m \u001b[32m64.3/64.3 kB\u001b[0m \u001b[31m5.7 MB/s\u001b[0m eta \u001b[36m0:00:00\u001b[0m\n",
            "\u001b[2K     \u001b[90m━━━━━━━━━━━━━━━━━━━━━━━━━━━━━━━━━━━━━━━━\u001b[0m \u001b[32m1.0/1.0 MB\u001b[0m \u001b[31m21.9 MB/s\u001b[0m eta \u001b[36m0:00:00\u001b[0m\n",
            "\u001b[2K     \u001b[90m━━━━━━━━━━━━━━━━━━━━━━━━━━━━━━━━━━━━━━━━\u001b[0m \u001b[32m58.4/58.4 kB\u001b[0m \u001b[31m7.1 MB/s\u001b[0m eta \u001b[36m0:00:00\u001b[0m\n",
            "\u001b[2K     \u001b[90m━━━━━━━━━━━━━━━━━━━━━━━━━━━━━━━━━━━━━━━━\u001b[0m \u001b[32m58.3/58.3 kB\u001b[0m \u001b[31m7.3 MB/s\u001b[0m eta \u001b[36m0:00:00\u001b[0m\n",
            "\u001b[2K     \u001b[90m━━━━━━━━━━━━━━━━━━━━━━━━━━━━━━━━━━━━━━\u001b[0m \u001b[32m114.5/114.5 kB\u001b[0m \u001b[31m13.5 MB/s\u001b[0m eta \u001b[36m0:00:00\u001b[0m\n",
            "\u001b[2K     \u001b[90m━━━━━━━━━━━━━━━━━━━━━━━━━━━━━━━━━━━━━━\u001b[0m \u001b[32m268.8/268.8 kB\u001b[0m \u001b[31m29.6 MB/s\u001b[0m eta \u001b[36m0:00:00\u001b[0m\n",
            "\u001b[2K     \u001b[90m━━━━━━━━━━━━━━━━━━━━━━━━━━━━━━━━━━━━━━\u001b[0m \u001b[32m149.6/149.6 kB\u001b[0m \u001b[31m12.8 MB/s\u001b[0m eta \u001b[36m0:00:00\u001b[0m\n",
            "\u001b[?25h"
          ]
        }
      ],
      "source": [
        "!pip -q install lightning transformers"
      ]
    },
    {
      "cell_type": "code",
      "source": [
        "from google.colab import drive\n",
        "drive.mount('/content/gdrive')"
      ],
      "metadata": {
        "colab": {
          "base_uri": "https://localhost:8080/"
        },
        "id": "w_vqNUk5i5to",
        "outputId": "bc478987-866e-4cc6-fd74-baa8e04d8355"
      },
      "execution_count": null,
      "outputs": [
        {
          "output_type": "stream",
          "name": "stdout",
          "text": [
            "Mounted at /content/gdrive\n"
          ]
        }
      ]
    },
    {
      "cell_type": "code",
      "source": [
        "import transformers\n",
        "import lightning as pl\n",
        "import torch\n",
        "import pandas as pd\n",
        "import torch.nn.functional as F\n",
        "import itertools\n",
        "from torch.utils.data import DataLoader\n",
        "from typing import List\n",
        "from torch import nn\n",
        "from multiprocessing import Pool\n",
        "from tqdm import tqdm\n"
      ],
      "metadata": {
        "id": "myTWG5h9Vri3"
      },
      "execution_count": null,
      "outputs": []
    },
    {
      "cell_type": "markdown",
      "source": [
        "#DATA"
      ],
      "metadata": {
        "id": "g6M7nJezvBKO"
      }
    },
    {
      "cell_type": "code",
      "source": [
        "df_products = pd.read_json(\"https://raw.githubusercontent.com/anyoneai/e-commerce-open-data-set/master/products.json\")\n",
        "df_categories = pd.read_json(\"https://raw.githubusercontent.com/anyoneai/e-commerce-open-data-set/master/categories.json\")"
      ],
      "metadata": {
        "id": "KMf2EdjF4av2"
      },
      "execution_count": null,
      "outputs": []
    },
    {
      "cell_type": "code",
      "source": [
        "df_products = df_products[['name', 'category', 'description']]\n",
        "\n",
        "\n",
        "category_counts = df_products['category'].explode().apply(lambda x: x['name']).value_counts()\n",
        "\n",
        "\n",
        "threshold = 100\n",
        "filtered_category_counts = category_counts[category_counts >= threshold]\n",
        "filtered_categories = filtered_category_counts.index.tolist()\n",
        "df_products['category'] = df_products['category'].apply(\n",
        "    lambda x: [cat['name'] if cat['name'] in filtered_categories else 'Other' for cat in x]\n",
        ")\n"
      ],
      "metadata": {
        "id": "8sLVd76R4b5v"
      },
      "execution_count": null,
      "outputs": []
    },
    {
      "cell_type": "code",
      "source": [
        "for i in range(1, 7 + 1):\n",
        "    level_name = 'level_' + str(i)\n",
        "    df_products[level_name] = df_products['category'].apply(lambda x: x[i - 1] if len(x) >= i else 'NA')\n",
        "df_products.drop('category', axis=1, inplace=True)"
      ],
      "metadata": {
        "id": "oXpLmr4gHpFs"
      },
      "execution_count": null,
      "outputs": []
    },
    {
      "cell_type": "code",
      "source": [
        "categories = dict()\n",
        "for i in range(1,8):\n",
        "  cat = df_products[\"level_\"+str(i)].unique().tolist()  \n",
        "  categories[\"level_\"+str(i)] = dict(list(zip(cat, list(range(len(cat))))))"
      ],
      "metadata": {
        "id": "lVLeTzsELrew"
      },
      "execution_count": null,
      "outputs": []
    },
    {
      "cell_type": "code",
      "source": [
        "df_products[\"text\"]= df_products[\"name\"]+\" \"+df_products[\"description\"] "
      ],
      "metadata": {
        "id": "ZOEMjUNzNCvf"
      },
      "execution_count": null,
      "outputs": []
    },
    {
      "cell_type": "markdown",
      "source": [
        "#MODEL\n",
        "\n"
      ],
      "metadata": {
        "id": "9pWfstz-vDND"
      }
    },
    {
      "cell_type": "markdown",
      "source": [
        "##Definition"
      ],
      "metadata": {
        "id": "5e0u2Tj2XCrA"
      }
    },
    {
      "cell_type": "code",
      "source": [
        "BERT_EMBEDDING_SIZE= 768\n",
        "WORKERS=8\n",
        "NLP_MODEL_NAME = \"bert-base-cased\"\n",
        "TOKENIZER=TOKENIZER = transformers.AutoTokenizer.from_pretrained(NLP_MODEL_NAME)\n"
      ],
      "metadata": {
        "id": "jvNkQEoBZppP",
        "colab": {
          "base_uri": "https://localhost:8080/",
          "height": 145,
          "referenced_widgets": [
            "37869a6e7b064e99a8cb3f606f563487",
            "556004af57b540c3a88591dda591dbc3",
            "25b35050caea46e4a3f62c6de7526cf9",
            "3b6e855a820f49ab92f275fcf3128663",
            "79fd6e0e046944c0982b36cf3928e447",
            "f6b2848bbd4942c69c27ead32b22a4f5",
            "9a8b634d531343f49c134393e15a705b",
            "f956fd0fea724c278203ab3301866d2e",
            "7edea9efdfb944859d339e23d4a15528",
            "6093d07f9c2a47ceb5b245a7b6fbd7f4",
            "6502953bfe7a4a679e8588dc0ebe8e2e",
            "9f013ce8d2f94309b64a5991dd94cae5",
            "1a1e94b1bd204040b271640a1d5f07dd",
            "e9cd7e6cb6c54caa8d3f4f497050b438",
            "80639213a470440f840eea1b50351248",
            "e850df3a9ae9427d899e24e495a3ef4f",
            "45ee796327804974b89aba2547a4dba2",
            "1c3dd91af38b446c87061533cea99357",
            "9cdf1cc094ba4b99b27506be8bba3f8f",
            "68796f11098c47f4bedd6b253477d8d5",
            "708b48955bb24515a311a3ba5a1415b4",
            "864af5e94caa4e15b6e3af4a95a819cc",
            "20d7636c95f049e19892052ea7a914c9",
            "3cae53bd426a4714b2b7fb53ec684c94",
            "03438e5a84f043228fe12edb315d06cf",
            "70fb05c341d9477c910a0e74fcdcfa8d",
            "70146140854a4b0abce1f45588d22e91",
            "32850e54809e47ac91bdcae5dbfeb5d5",
            "f014379606cd4c5180644687da123edb",
            "4a077989189b418bab512e86a58c6df5",
            "f043d6f54e4b4446989b62903a1f3012",
            "a92469c568704a6d97b9bd9e336758ad",
            "dfc324d238504fdf9f5297200c800a36",
            "0fd8dc31ffe14ec984e6089d739f03b1",
            "de22b54b81f64576aa56d7fdc0fcf8e4",
            "0a30b5ba79cf48288c1561465f8b32d2",
            "553c8e0a89834affb07aabf5a2e1f994",
            "53de0a6a8da84c9ea4ea179bcf3e9980",
            "15786c21f41040bbbc508a4d605734a0",
            "fe6930dfb4994add96ba6d32ca3cfe32",
            "5de59c9082c24bc0baf3a81679196cdd",
            "eb9ba8fb696443f7b574a80d5df8c6ef",
            "689b9ed2927e401bbdb9abfed6d6b4e0",
            "d471884d4b4243faad662a7a1f2c91f1"
          ]
        },
        "outputId": "ded5537a-b8d5-4cc7-d247-dbd114df1fda"
      },
      "execution_count": null,
      "outputs": [
        {
          "output_type": "display_data",
          "data": {
            "text/plain": [
              "Downloading (…)okenizer_config.json:   0%|          | 0.00/29.0 [00:00<?, ?B/s]"
            ],
            "application/vnd.jupyter.widget-view+json": {
              "version_major": 2,
              "version_minor": 0,
              "model_id": "37869a6e7b064e99a8cb3f606f563487"
            }
          },
          "metadata": {}
        },
        {
          "output_type": "display_data",
          "data": {
            "text/plain": [
              "Downloading (…)lve/main/config.json:   0%|          | 0.00/570 [00:00<?, ?B/s]"
            ],
            "application/vnd.jupyter.widget-view+json": {
              "version_major": 2,
              "version_minor": 0,
              "model_id": "9f013ce8d2f94309b64a5991dd94cae5"
            }
          },
          "metadata": {}
        },
        {
          "output_type": "display_data",
          "data": {
            "text/plain": [
              "Downloading (…)solve/main/vocab.txt:   0%|          | 0.00/213k [00:00<?, ?B/s]"
            ],
            "application/vnd.jupyter.widget-view+json": {
              "version_major": 2,
              "version_minor": 0,
              "model_id": "20d7636c95f049e19892052ea7a914c9"
            }
          },
          "metadata": {}
        },
        {
          "output_type": "display_data",
          "data": {
            "text/plain": [
              "Downloading (…)/main/tokenizer.json:   0%|          | 0.00/436k [00:00<?, ?B/s]"
            ],
            "application/vnd.jupyter.widget-view+json": {
              "version_major": 2,
              "version_minor": 0,
              "model_id": "0fd8dc31ffe14ec984e6089d739f03b1"
            }
          },
          "metadata": {}
        }
      ]
    },
    {
      "cell_type": "code",
      "source": [
        "class BertModel(pl.LightningModule):\n",
        "    \"\"\"This model uses a BERT model for the text encoding.\n",
        "    And it has 3 classifiers for the 3 levels of the hierarchy.\n",
        "\n",
        "    Args:\n",
        "        pl (LightningModule): Base class for all Lightning modules.\n",
        "    \"\"\"\n",
        "\n",
        "    def __init__(\n",
        "        self,\n",
        "        nlp_model: str,\n",
        "        level_1_labels: int,\n",
        "        level_2_labels: int,\n",
        "        level_3_labels: int,\n",
        "        level_4_labels: int,\n",
        "        level_5_labels: int,\n",
        "        level_6_labels: int,\n",
        "        level_7_labels: int,\n",
        "    ):\n",
        "        super().__init__()\n",
        "\n",
        "        self.text_encoder = transformers.BertModel.from_pretrained(nlp_model)\n",
        "\n",
        "        self.level_1_classifier = nn.Sequential(\n",
        "            nn.Linear(BERT_EMBEDDING_SIZE, level_1_labels),\n",
        "        )\n",
        "        self.level_2_classifier = nn.Sequential(\n",
        "            nn.Linear(\n",
        "                BERT_EMBEDDING_SIZE + level_1_labels,\n",
        "                level_2_labels,\n",
        "            ),\n",
        "        )\n",
        "        self.level_3_classifier = nn.Sequential(\n",
        "            nn.Linear(\n",
        "                BERT_EMBEDDING_SIZE + level_2_labels,\n",
        "                level_3_labels,\n",
        "            ),\n",
        "        )\n",
        "\n",
        "        self.level_4_classifier = nn.Sequential(\n",
        "            nn.Linear(\n",
        "                BERT_EMBEDDING_SIZE + level_3_labels,\n",
        "                level_4_labels,\n",
        "            ),\n",
        "        )\n",
        "\n",
        "        self.level_5_classifier = nn.Sequential(\n",
        "            nn.Linear(\n",
        "                BERT_EMBEDDING_SIZE + level_4_labels,\n",
        "                level_5_labels,\n",
        "            ),\n",
        "        )\n",
        "\n",
        "        self.level_6_classifier = nn.Sequential(\n",
        "            nn.Linear(\n",
        "                BERT_EMBEDDING_SIZE + level_5_labels,\n",
        "                level_6_labels,\n",
        "            ),\n",
        "        )\n",
        "\n",
        "        self.level_7_classifier = nn.Sequential(\n",
        "            nn.Linear(\n",
        "                BERT_EMBEDDING_SIZE + level_6_labels,\n",
        "                level_7_labels,\n",
        "            ),\n",
        "        )\n",
        "\n",
        "        self.loss = nn.CrossEntropyLoss()\n",
        "\n",
        "    def forward(self, input_ids, attention_mask):\n",
        "        x = self.text_encoder(\n",
        "            input_ids=input_ids, attention_mask=attention_mask, return_dict=False\n",
        "        )[1]\n",
        "        level_1 = self.level_1_classifier(x)\n",
        "        x2 = torch.cat([x, F.softmax(level_1, dim=1)], dim=1)\n",
        "        level_2 = self.level_2_classifier(x2)\n",
        "        x3 = torch.cat([x, F.softmax(level_2, dim=1)], dim=1)\n",
        "        level_3 = self.level_3_classifier(x3)\n",
        "        x4 = torch.cat([x, F.softmax(level_3, dim=1)], dim=1)\n",
        "        level_4 = self.level_4_classifier(x4)\n",
        "        x5 = torch.cat([x, F.softmax(level_4, dim=1)], dim=1)\n",
        "        level_5 = self.level_5_classifier(x5)\n",
        "        x6 = torch.cat([x, F.softmax(level_5, dim=1)], dim=1)\n",
        "        level_6 = self.level_6_classifier(x6)\n",
        "        x7 = torch.cat([x, F.softmax(level_6, dim=1)], dim=1)\n",
        "        level_7 = self.level_7_classifier(x7)\n",
        "        return level_1, level_2, level_3, level_4, level_5, level_6, level_7\n",
        "\n",
        "    def training_step(self, batch, batch_idx):\n",
        "        (\n",
        "            input_ids,\n",
        "            attention_mask,\n",
        "            level_1_labels,\n",
        "            level_2_labels,\n",
        "            level_3_labels,\n",
        "            level_4_labels,\n",
        "            level_5_labels,\n",
        "            level_6_labels,\n",
        "            level_7_labels,\n",
        "        ) = batch\n",
        "        level_1, level_2, level_3, level_4, level_5, level_6, level_7 = self(input_ids, attention_mask)\n",
        "        loss = (\n",
        "            self.loss(level_1, level_1_labels)\n",
        "            + self.loss(level_2, level_2_labels)\n",
        "            + self.loss(level_3, level_3_labels)\n",
        "            + self.loss(level_4, level_4_labels)\n",
        "            + self.loss(level_5, level_5_labels)\n",
        "            + self.loss(level_6, level_6_labels)\n",
        "            + self.loss(level_7, level_7_labels)\n",
        "        )\n",
        "\n",
        "        # Calculate accuracy\n",
        "        level_1_pred = F.softmax(level_1, dim=1).argmax(dim=1)\n",
        "        level_2_pred = F.softmax(level_2, dim=1).argmax(dim=1)\n",
        "        level_3_pred = F.softmax(level_3, dim=1).argmax(dim=1)\n",
        "        level_4_pred = F.softmax(level_4, dim=1).argmax(dim=1)\n",
        "        level_5_pred = F.softmax(level_5, dim=1).argmax(dim=1)\n",
        "        level_6_pred = F.softmax(level_6, dim=1).argmax(dim=1)\n",
        "        level_7_pred = F.softmax(level_7, dim=1).argmax(dim=1)\n",
        "        level_1_acc = (level_1_pred == level_1_labels).float().mean()\n",
        "        level_2_acc = (level_2_pred == level_2_labels).float().mean()\n",
        "        level_3_acc = (level_3_pred == level_3_labels).float().mean()\n",
        "        level_4_acc = (level_4_pred == level_4_labels).float().mean()\n",
        "        level_5_acc = (level_5_pred == level_5_labels).float().mean()\n",
        "        level_6_acc = (level_6_pred == level_6_labels).float().mean()\n",
        "        level_7_acc = (level_7_pred == level_7_labels).float().mean()\n",
        "\n",
        "        # Log loss and accuracy\n",
        "        self.log(\"train_loss\", loss)\n",
        "        self.log(\n",
        "            \"l1_acc\",\n",
        "            level_1_acc,\n",
        "            prog_bar=True,\n",
        "            on_step=True,\n",
        "            on_epoch=False,\n",
        "        )\n",
        "        self.log(\n",
        "            \"l2_acc\",\n",
        "            level_2_acc,\n",
        "            prog_bar=True,\n",
        "            on_step=True,\n",
        "            on_epoch=False,\n",
        "        )\n",
        "        self.log(\n",
        "            \"l3_acc\",\n",
        "            level_3_acc,\n",
        "            prog_bar=True,\n",
        "            on_step=True,\n",
        "            on_epoch=False,\n",
        "        )\n",
        "\n",
        "        self.log(\n",
        "            \"l4_acc\",\n",
        "            level_4_acc,\n",
        "            prog_bar=True,\n",
        "            on_step=True,\n",
        "            on_epoch=False,\n",
        "        )\n",
        "\n",
        "        self.log(\n",
        "            \"l5_acc\",\n",
        "            level_5_acc,\n",
        "            prog_bar=True,\n",
        "            on_step=True,\n",
        "            on_epoch=False,\n",
        "        )\n",
        "\n",
        "        self.log(\n",
        "            \"l6_acc\",\n",
        "            level_6_acc,\n",
        "            prog_bar=True,\n",
        "            on_step=True,\n",
        "            on_epoch=False,\n",
        "        )\n",
        "\n",
        "        self.log(\n",
        "            \"l7_acc\",\n",
        "            level_7_acc,\n",
        "            prog_bar=True,\n",
        "            on_step=True,\n",
        "            on_epoch=False,\n",
        "        )\n",
        "\n",
        "        return loss\n",
        "\n",
        "    def configure_optimizers(self):\n",
        "        optimizer = torch.optim.AdamW(\n",
        "            self.parameters(),\n",
        "            lr=2e-5,\n",
        "            weight_decay=0.01,\n",
        "            eps=1e-8,\n",
        "        )\n",
        "\n",
        "        return optimizer"
      ],
      "metadata": {
        "id": "BPSqXlFYReYh"
      },
      "execution_count": null,
      "outputs": []
    },
    {
      "cell_type": "code",
      "source": [
        "class Dataset(torch.utils.data.Dataset):\n",
        "    \"\"\"Dataset for training the model.\"\"\"\n",
        "\n",
        "    def __init__(\n",
        "        self,\n",
        "        dataset,\n",
        "        categories_level_1,\n",
        "        categories_level_2,\n",
        "        categories_level_3,\n",
        "        categories_level_4,\n",
        "        categories_level_5,\n",
        "        categories_level_6,\n",
        "        categories_level_7\n",
        "    ):\n",
        "        self.dataset = dataset\n",
        "\n",
        "        self.categories_level_1 = categories_level_1\n",
        "        self.categories_level_2 = categories_level_2\n",
        "        self.categories_level_3 = categories_level_3\n",
        "        self.categories_level_4 = categories_level_4\n",
        "        self.categories_level_5 = categories_level_5\n",
        "        self.categories_level_6 = categories_level_6\n",
        "        self.categories_level_7 = categories_level_7\n",
        "\n",
        "    def __len__(self):\n",
        "        return len(self.dataset)\n",
        "\n",
        "    def __getitem__(self, idx):\n",
        "        row = self.dataset.iloc[idx]\n",
        "        input_ids = torch.tensor(row[\"input_ids\"])\n",
        "        attention_mask = torch.tensor(row[\"attention_mask\"])\n",
        "\n",
        "        level_1 = self.categories_level_1[row[\"level_1\"]]\n",
        "        level_2 = self.categories_level_2[row[\"level_2\"]]\n",
        "        level_3 = self.categories_level_3[row[\"level_3\"]]\n",
        "        level_4 = self.categories_level_4[row[\"level_4\"]]\n",
        "        level_5 = self.categories_level_5[row[\"level_5\"]]\n",
        "        level_6 = self.categories_level_6[row[\"level_6\"]]\n",
        "        level_7 = self.categories_level_7[row[\"level_7\"]]\n",
        "\n",
        "        return input_ids, attention_mask, level_1, level_2, level_3, level_4, level_5, level_6, level_7"
      ],
      "metadata": {
        "id": "ZRJf1AlER30o"
      },
      "execution_count": null,
      "outputs": []
    },
    {
      "cell_type": "code",
      "source": [
        "def tokenize_dataset(dataset: pd.DataFrame) -> pd.DataFrame:\n",
        "    \"\"\"Tokenize dataset. Add new column with encoded text.\n",
        "    text is a concatenation of name and description.\n",
        "\n",
        "    Args:\n",
        "        dataset (pd.DataFrame): dataset to tokenize\n",
        "\n",
        "    Returns:\n",
        "        pd.DataFrame: tokenized dataset with a new column \"encoded\"\n",
        "    \"\"\"\n",
        "    dataset = dataset[dataset.text.notna()]\n",
        "    with Pool(WORKERS) as p:\n",
        "        tokens_pairs = p.map(encode, dataset[\"text\"].to_list())\n",
        "\n",
        "    dataset[\"input_ids\"] = [x[0] for x in tokens_pairs]\n",
        "    dataset[\"attention_mask\"] = [x[1] for x in tokens_pairs] \n",
        "\n",
        "    return dataset"
      ],
      "metadata": {
        "id": "4EpO3k4aR7Bp"
      },
      "execution_count": null,
      "outputs": []
    },
    {
      "cell_type": "code",
      "source": [
        "def encode(text: str) -> List[int]:\n",
        "    \"\"\"Encode text using BERT tokenizer.\n",
        "\n",
        "    Args:\n",
        "        text (str): text to encode\n",
        "\n",
        "    Returns:\n",
        "        List[int]: encoded text\n",
        "    \"\"\"\n",
        "    tokens = TOKENIZER(\n",
        "        text, padding=\"max_length\", max_length=512, truncation=True, return_tensors=\"pt\"\n",
        "    )\n",
        "    del tokens[\"token_type_ids\"]\n",
        "\n",
        "    return tokens[\"input_ids\"][0].tolist(), tokens[\"attention_mask\"][0].tolist()"
      ],
      "metadata": {
        "id": "_l2Bmr3uSCzX"
      },
      "execution_count": null,
      "outputs": []
    },
    {
      "cell_type": "markdown",
      "source": [
        "##Train and load"
      ],
      "metadata": {
        "id": "4Qx9O2SIW_Ee"
      }
    },
    {
      "cell_type": "code",
      "source": [
        "df_products=tokenize_dataset(df_products)"
      ],
      "metadata": {
        "id": "-TRIZkik2-BP",
        "colab": {
          "base_uri": "https://localhost:8080/"
        },
        "outputId": "e9fec7aa-1e2c-4f00-8719-e08813214f44"
      },
      "execution_count": null,
      "outputs": [
        {
          "output_type": "stream",
          "name": "stderr",
          "text": [
            "<ipython-input-12-f71a95214855>:15: SettingWithCopyWarning: \n",
            "A value is trying to be set on a copy of a slice from a DataFrame.\n",
            "Try using .loc[row_indexer,col_indexer] = value instead\n",
            "\n",
            "See the caveats in the documentation: https://pandas.pydata.org/pandas-docs/stable/user_guide/indexing.html#returning-a-view-versus-a-copy\n",
            "  dataset[\"input_ids\"] = [x[0] for x in tokens_pairs]\n",
            "<ipython-input-12-f71a95214855>:16: SettingWithCopyWarning: \n",
            "A value is trying to be set on a copy of a slice from a DataFrame.\n",
            "Try using .loc[row_indexer,col_indexer] = value instead\n",
            "\n",
            "See the caveats in the documentation: https://pandas.pydata.org/pandas-docs/stable/user_guide/indexing.html#returning-a-view-versus-a-copy\n",
            "  dataset[\"attention_mask\"] = [x[1] for x in tokens_pairs]\n"
          ]
        }
      ]
    },
    {
      "cell_type": "code",
      "source": [
        "model = BertModel(NLP_MODEL_NAME, len(categories[\"level_1\"]),len(categories[\"level_2\"]),len(categories[\"level_3\"]),len(categories[\"level_4\"]),\n",
        "                   len(categories[\"level_5\"]),len(categories[\"level_6\"]),len(categories[\"level_7\"])).cuda()"
      ],
      "metadata": {
        "colab": {
          "base_uri": "https://localhost:8080/",
          "height": 121,
          "referenced_widgets": [
            "037be19d00814b3eb7a2fcb802e46b09",
            "a53a5397c3e44268a90b8205e1484717",
            "7b51823fcc8540de8ce5885b1da0c56d",
            "14f412d839a1413f8de8dd5fa107d38b",
            "c1ad4f0df96a40b2ab4319ed616dcf39",
            "af97b0cc21a24925a7795071c2b2f2a5",
            "6182ef0d13b04f4bbfc499862876b470",
            "06e76116e20340c5a6e582529a8239cb",
            "40e3c56e99c948e2bddcaad62ced5e27",
            "178cdbf3af5a4200834c690c40522fa6",
            "de720929966341cdbe09c86e5214f4f7"
          ]
        },
        "id": "b_qaqyi-QiIF",
        "outputId": "30827408-f629-498b-9fe0-b493eebeec62"
      },
      "execution_count": null,
      "outputs": [
        {
          "output_type": "display_data",
          "data": {
            "text/plain": [
              "Downloading model.safetensors:   0%|          | 0.00/436M [00:00<?, ?B/s]"
            ],
            "application/vnd.jupyter.widget-view+json": {
              "version_major": 2,
              "version_minor": 0,
              "model_id": "037be19d00814b3eb7a2fcb802e46b09"
            }
          },
          "metadata": {}
        },
        {
          "output_type": "stream",
          "name": "stderr",
          "text": [
            "Some weights of the model checkpoint at bert-base-cased were not used when initializing BertModel: ['cls.predictions.transform.LayerNorm.weight', 'cls.seq_relationship.weight', 'cls.predictions.transform.dense.weight', 'cls.predictions.transform.dense.bias', 'cls.seq_relationship.bias', 'cls.predictions.bias', 'cls.predictions.transform.LayerNorm.bias']\n",
            "- This IS expected if you are initializing BertModel from the checkpoint of a model trained on another task or with another architecture (e.g. initializing a BertForSequenceClassification model from a BertForPreTraining model).\n",
            "- This IS NOT expected if you are initializing BertModel from the checkpoint of a model that you expect to be exactly identical (initializing a BertForSequenceClassification model from a BertForSequenceClassification model).\n"
          ]
        }
      ]
    },
    {
      "cell_type": "code",
      "source": [
        "df_train= df_products.iloc[:48000]\n",
        "df_test= df_products.iloc[48000:]"
      ],
      "metadata": {
        "id": "KFGD5H4DTAXd"
      },
      "execution_count": null,
      "outputs": []
    },
    {
      "cell_type": "code",
      "source": [
        "dataset_train = Dataset(df_train, categories[\"level_1\"],categories[\"level_2\"],categories[\"level_3\"],categories[\"level_4\"],categories[\"level_5\"]\n",
        "                  ,categories[\"level_6\"],categories[\"level_7\"])\n",
        "dataset_test = Dataset(df_test, categories[\"level_1\"],categories[\"level_2\"],categories[\"level_3\"],categories[\"level_4\"],categories[\"level_5\"]\n",
        "                  ,categories[\"level_6\"],categories[\"level_7\"])"
      ],
      "metadata": {
        "id": "SEMu1gjGUzDi"
      },
      "execution_count": null,
      "outputs": []
    },
    {
      "cell_type": "code",
      "source": [
        "dataloader_train = DataLoader(dataset_train, batch_size=8, shuffle=True)\n",
        "dataloader_test = DataLoader(dataset_test, batch_size=8, shuffle=False)"
      ],
      "metadata": {
        "id": "65R_ep6QVXXn"
      },
      "execution_count": null,
      "outputs": []
    },
    {
      "cell_type": "code",
      "source": [
        "%%script false --no-raise-error\n",
        "trainer = pl.Trainer(\n",
        "        max_epochs=3,  # Train for 3 epochs\n",
        "    )\n",
        "\n",
        "# Train the model\n",
        "trainer.fit(model, dataloader_train)"
      ],
      "metadata": {
        "id": "v0qcf0yaVfuJ"
      },
      "execution_count": null,
      "outputs": []
    },
    {
      "cell_type": "code",
      "source": [
        "model_path=\"/content/gdrive/MyDrive/AnyoneAI/Proyecto final grupo 1/bert_model_v1.pt\""
      ],
      "metadata": {
        "id": "fd9LM_GOVS4P"
      },
      "execution_count": null,
      "outputs": []
    },
    {
      "cell_type": "code",
      "source": [
        "%%script false --no-raise-error\n",
        "torch.save(model.state_dict(), model_path)"
      ],
      "metadata": {
        "id": "FAVI1jcYWH2r"
      },
      "execution_count": null,
      "outputs": []
    },
    {
      "cell_type": "code",
      "source": [
        "model.load_state_dict(torch.load(model_path))"
      ],
      "metadata": {
        "colab": {
          "base_uri": "https://localhost:8080/",
          "height": 311
        },
        "id": "ObUd9L4GU6QP",
        "outputId": "62c9cb28-ede0-4465-d8e9-c912d44eba8e"
      },
      "execution_count": null,
      "outputs": [
        {
          "output_type": "error",
          "ename": "FileNotFoundError",
          "evalue": "ignored",
          "traceback": [
            "\u001b[0;31m---------------------------------------------------------------------------\u001b[0m",
            "\u001b[0;31mFileNotFoundError\u001b[0m                         Traceback (most recent call last)",
            "\u001b[0;32m<ipython-input-22-10f2805df5d4>\u001b[0m in \u001b[0;36m<cell line: 1>\u001b[0;34m()\u001b[0m\n\u001b[0;32m----> 1\u001b[0;31m \u001b[0mmodel\u001b[0m\u001b[0;34m.\u001b[0m\u001b[0mload_state_dict\u001b[0m\u001b[0;34m(\u001b[0m\u001b[0mtorch\u001b[0m\u001b[0;34m.\u001b[0m\u001b[0mload\u001b[0m\u001b[0;34m(\u001b[0m\u001b[0mmodel_path\u001b[0m\u001b[0;34m)\u001b[0m\u001b[0;34m)\u001b[0m\u001b[0;34m\u001b[0m\u001b[0;34m\u001b[0m\u001b[0m\n\u001b[0m",
            "\u001b[0;32m/usr/local/lib/python3.10/dist-packages/torch/serialization.py\u001b[0m in \u001b[0;36mload\u001b[0;34m(f, map_location, pickle_module, weights_only, **pickle_load_args)\u001b[0m\n\u001b[1;32m    789\u001b[0m         \u001b[0mpickle_load_args\u001b[0m\u001b[0;34m[\u001b[0m\u001b[0;34m'encoding'\u001b[0m\u001b[0;34m]\u001b[0m \u001b[0;34m=\u001b[0m \u001b[0;34m'utf-8'\u001b[0m\u001b[0;34m\u001b[0m\u001b[0;34m\u001b[0m\u001b[0m\n\u001b[1;32m    790\u001b[0m \u001b[0;34m\u001b[0m\u001b[0m\n\u001b[0;32m--> 791\u001b[0;31m     \u001b[0;32mwith\u001b[0m \u001b[0m_open_file_like\u001b[0m\u001b[0;34m(\u001b[0m\u001b[0mf\u001b[0m\u001b[0;34m,\u001b[0m \u001b[0;34m'rb'\u001b[0m\u001b[0;34m)\u001b[0m \u001b[0;32mas\u001b[0m \u001b[0mopened_file\u001b[0m\u001b[0;34m:\u001b[0m\u001b[0;34m\u001b[0m\u001b[0;34m\u001b[0m\u001b[0m\n\u001b[0m\u001b[1;32m    792\u001b[0m         \u001b[0;32mif\u001b[0m \u001b[0m_is_zipfile\u001b[0m\u001b[0;34m(\u001b[0m\u001b[0mopened_file\u001b[0m\u001b[0;34m)\u001b[0m\u001b[0;34m:\u001b[0m\u001b[0;34m\u001b[0m\u001b[0;34m\u001b[0m\u001b[0m\n\u001b[1;32m    793\u001b[0m             \u001b[0;31m# The zipfile reader is going to advance the current file position.\u001b[0m\u001b[0;34m\u001b[0m\u001b[0;34m\u001b[0m\u001b[0m\n",
            "\u001b[0;32m/usr/local/lib/python3.10/dist-packages/torch/serialization.py\u001b[0m in \u001b[0;36m_open_file_like\u001b[0;34m(name_or_buffer, mode)\u001b[0m\n\u001b[1;32m    269\u001b[0m \u001b[0;32mdef\u001b[0m \u001b[0m_open_file_like\u001b[0m\u001b[0;34m(\u001b[0m\u001b[0mname_or_buffer\u001b[0m\u001b[0;34m,\u001b[0m \u001b[0mmode\u001b[0m\u001b[0;34m)\u001b[0m\u001b[0;34m:\u001b[0m\u001b[0;34m\u001b[0m\u001b[0;34m\u001b[0m\u001b[0m\n\u001b[1;32m    270\u001b[0m     \u001b[0;32mif\u001b[0m \u001b[0m_is_path\u001b[0m\u001b[0;34m(\u001b[0m\u001b[0mname_or_buffer\u001b[0m\u001b[0;34m)\u001b[0m\u001b[0;34m:\u001b[0m\u001b[0;34m\u001b[0m\u001b[0;34m\u001b[0m\u001b[0m\n\u001b[0;32m--> 271\u001b[0;31m         \u001b[0;32mreturn\u001b[0m \u001b[0m_open_file\u001b[0m\u001b[0;34m(\u001b[0m\u001b[0mname_or_buffer\u001b[0m\u001b[0;34m,\u001b[0m \u001b[0mmode\u001b[0m\u001b[0;34m)\u001b[0m\u001b[0;34m\u001b[0m\u001b[0;34m\u001b[0m\u001b[0m\n\u001b[0m\u001b[1;32m    272\u001b[0m     \u001b[0;32melse\u001b[0m\u001b[0;34m:\u001b[0m\u001b[0;34m\u001b[0m\u001b[0;34m\u001b[0m\u001b[0m\n\u001b[1;32m    273\u001b[0m         \u001b[0;32mif\u001b[0m \u001b[0;34m'w'\u001b[0m \u001b[0;32min\u001b[0m \u001b[0mmode\u001b[0m\u001b[0;34m:\u001b[0m\u001b[0;34m\u001b[0m\u001b[0;34m\u001b[0m\u001b[0m\n",
            "\u001b[0;32m/usr/local/lib/python3.10/dist-packages/torch/serialization.py\u001b[0m in \u001b[0;36m__init__\u001b[0;34m(self, name, mode)\u001b[0m\n\u001b[1;32m    250\u001b[0m \u001b[0;32mclass\u001b[0m \u001b[0m_open_file\u001b[0m\u001b[0;34m(\u001b[0m\u001b[0m_opener\u001b[0m\u001b[0;34m)\u001b[0m\u001b[0;34m:\u001b[0m\u001b[0;34m\u001b[0m\u001b[0;34m\u001b[0m\u001b[0m\n\u001b[1;32m    251\u001b[0m     \u001b[0;32mdef\u001b[0m \u001b[0m__init__\u001b[0m\u001b[0;34m(\u001b[0m\u001b[0mself\u001b[0m\u001b[0;34m,\u001b[0m \u001b[0mname\u001b[0m\u001b[0;34m,\u001b[0m \u001b[0mmode\u001b[0m\u001b[0;34m)\u001b[0m\u001b[0;34m:\u001b[0m\u001b[0;34m\u001b[0m\u001b[0;34m\u001b[0m\u001b[0m\n\u001b[0;32m--> 252\u001b[0;31m         \u001b[0msuper\u001b[0m\u001b[0;34m(\u001b[0m\u001b[0;34m)\u001b[0m\u001b[0;34m.\u001b[0m\u001b[0m__init__\u001b[0m\u001b[0;34m(\u001b[0m\u001b[0mopen\u001b[0m\u001b[0;34m(\u001b[0m\u001b[0mname\u001b[0m\u001b[0;34m,\u001b[0m \u001b[0mmode\u001b[0m\u001b[0;34m)\u001b[0m\u001b[0;34m)\u001b[0m\u001b[0;34m\u001b[0m\u001b[0;34m\u001b[0m\u001b[0m\n\u001b[0m\u001b[1;32m    253\u001b[0m \u001b[0;34m\u001b[0m\u001b[0m\n\u001b[1;32m    254\u001b[0m     \u001b[0;32mdef\u001b[0m \u001b[0m__exit__\u001b[0m\u001b[0;34m(\u001b[0m\u001b[0mself\u001b[0m\u001b[0;34m,\u001b[0m \u001b[0;34m*\u001b[0m\u001b[0margs\u001b[0m\u001b[0;34m)\u001b[0m\u001b[0;34m:\u001b[0m\u001b[0;34m\u001b[0m\u001b[0;34m\u001b[0m\u001b[0m\n",
            "\u001b[0;31mFileNotFoundError\u001b[0m: [Errno 2] No such file or directory: '/content/gdrive/MyDrive/AnyoneAI/Proyecto final grupo 1/bert_model_v1.pt'"
          ]
        }
      ]
    },
    {
      "cell_type": "code",
      "source": [
        "DEVICE=\"cuda:0\""
      ],
      "metadata": {
        "id": "lMJvObBAwKRi"
      },
      "execution_count": null,
      "outputs": []
    },
    {
      "cell_type": "code",
      "source": [
        "def eval_model(model, dataloader):\n",
        "    size = len(dataloader.dataset)\n",
        "    model.eval()\n",
        "\n",
        "    level_1_predictions = []\n",
        "    level_2_predictions = []\n",
        "    level_3_predictions = []\n",
        "    level_4_predictions = []\n",
        "    level_5_predictions = []\n",
        "    level_6_predictions = []\n",
        "    level_7_predictions = []\n",
        "\n",
        "    level_1_probas = []\n",
        "    level_2_probas = []\n",
        "    level_3_probas = []\n",
        "    level_4_probas = []\n",
        "    level_5_probas = []\n",
        "    level_6_probas = []\n",
        "    level_7_probas = []\n",
        "\n",
        "    with torch.no_grad():        \n",
        "        for input_ids, attention_mask, level_1, level_2, level_3, level_4, level_5, level_6, level_7 in tqdm(dataloader):\n",
        "            input_ids, attention_mask, level_1, level_2, level_3, level_4, level_5, level_6, level_7 = (\n",
        "            input_ids.to(DEVICE),\n",
        "            attention_mask.to(DEVICE),\n",
        "            level_1.to(DEVICE),\n",
        "            level_2.to(DEVICE),\n",
        "            level_3.to(DEVICE),\n",
        "            level_4.to(DEVICE),\n",
        "            level_5.to(DEVICE),\n",
        "            level_6.to(DEVICE),\n",
        "            level_7.to(DEVICE),\n",
        "            )\n",
        "            level_1_linear_output, level_2_linear_output, level_3_linear_output, level_4_linear_output, level_5_linear_output, level_6_linear_output,level_7_linear_output = model(\n",
        "                input_ids, attention_mask\n",
        "            )\n",
        "\n",
        "            level_1_pred = level_1_linear_output.argmax(1)\n",
        "            level_2_pred = level_2_linear_output.argmax(1)\n",
        "            level_3_pred = level_3_linear_output.argmax(1)\n",
        "            level_4_pred = level_4_linear_output.argmax(1)\n",
        "            level_5_pred = level_5_linear_output.argmax(1)\n",
        "            level_6_pred = level_6_linear_output.argmax(1)\n",
        "            level_7_pred = level_7_linear_output.argmax(1)\n",
        "\n",
        "            level_1_predictions.extend(level_1_pred.tolist())\n",
        "            level_2_predictions.extend(level_2_pred.tolist())\n",
        "            level_3_predictions.extend(level_3_pred.tolist())\n",
        "            level_4_predictions.extend(level_4_pred.tolist())\n",
        "            level_5_predictions.extend(level_5_pred.tolist())\n",
        "            level_6_predictions.extend(level_6_pred.tolist())\n",
        "            level_7_predictions.extend(level_7_pred.tolist())\n",
        "\n",
        "            # Use softmax to get probabilities\n",
        "            level_1_probas.extend(torch.softmax(level_1_linear_output, dim=1).tolist())\n",
        "            level_2_probas.extend(torch.softmax(level_2_linear_output, dim=1).tolist())\n",
        "            level_3_probas.extend(torch.softmax(level_3_linear_output, dim=1).tolist())\n",
        "            level_4_probas.extend(torch.softmax(level_4_linear_output, dim=1).tolist())\n",
        "            level_5_probas.extend(torch.softmax(level_5_linear_output, dim=1).tolist())\n",
        "            level_6_probas.extend(torch.softmax(level_6_linear_output, dim=1).tolist())\n",
        "            level_7_probas.extend(torch.softmax(level_7_linear_output, dim=1).tolist())\n",
        "\n",
        "    return (\n",
        "        level_1_predictions,\n",
        "        level_2_predictions,\n",
        "        level_3_predictions,\n",
        "        level_4_predictions,\n",
        "        level_5_predictions,\n",
        "        level_6_predictions,\n",
        "        level_7_predictions,\n",
        "        level_1_probas,\n",
        "        level_2_probas,\n",
        "        level_3_probas,\n",
        "        level_4_probas,\n",
        "        level_5_probas,\n",
        "        level_6_probas,\n",
        "        level_7_probas,\n",
        "    )"
      ],
      "metadata": {
        "id": "8wgtlt8luG08"
      },
      "execution_count": null,
      "outputs": []
    },
    {
      "cell_type": "code",
      "source": [
        "evaluation= eval_model(model, dataloader_test)"
      ],
      "metadata": {
        "id": "6EjTBZDLx1Jw"
      },
      "execution_count": null,
      "outputs": []
    },
    {
      "cell_type": "code",
      "source": [
        "(level_1_predictions,\n",
        "level_2_predictions,\n",
        "level_3_predictions,\n",
        "level_4_predictions,\n",
        "level_5_predictions,\n",
        "level_6_predictions,\n",
        "level_7_predictions,\n",
        "level_1_probas,\n",
        "level_2_probas,\n",
        "level_3_probas,\n",
        "level_4_probas,\n",
        "level_5_probas,\n",
        "level_6_probas,\n",
        "level_7_probas)= evaluation"
      ],
      "metadata": {
        "id": "QisI5bjPx_cM"
      },
      "execution_count": null,
      "outputs": []
    },
    {
      "cell_type": "code",
      "source": [
        "# iterate rows of the dataframe\n",
        "labels_level_1 = []\n",
        "labels_level_2 = []\n",
        "labels_level_3 = []\n",
        "labels_level_4 = []\n",
        "labels_level_5 = []\n",
        "labels_level_6 = []\n",
        "labels_level_7 = []\n",
        "for index, row in dataset_test.dataset.iterrows():\n",
        "    labels_level_1.append(categories[\"level_1\"][row[\"level_1\"]])\n",
        "    labels_level_2.append(categories[\"level_2\"][row[\"level_2\"]])\n",
        "    labels_level_3.append(categories[\"level_3\"][row[\"level_3\"]])\n",
        "    labels_level_4.append(categories[\"level_4\"][row[\"level_4\"]])\n",
        "    labels_level_5.append(categories[\"level_5\"][row[\"level_5\"]])\n",
        "    labels_level_6.append(categories[\"level_6\"][row[\"level_6\"]])\n",
        "    labels_level_7.append(categories[\"level_7\"][row[\"level_7\"]])"
      ],
      "metadata": {
        "id": "a9BhbjChytlW"
      },
      "execution_count": null,
      "outputs": []
    },
    {
      "cell_type": "code",
      "source": [
        "def invert_dict(dictionary):\n",
        "    inverted_dict = {}\n",
        "    for key, value in dictionary.items():\n",
        "        for sub_key, sub_value in value.items():\n",
        "            if sub_value not in inverted_dict:\n",
        "                inverted_dict[sub_value] = {}\n",
        "            inverted_dict[sub_value][key] = sub_key\n",
        "    return inverted_dict"
      ],
      "metadata": {
        "id": "pfDjfvx-M_5R"
      },
      "execution_count": null,
      "outputs": []
    },
    {
      "cell_type": "code",
      "source": [
        "search_categories=invert_dict(categories)"
      ],
      "metadata": {
        "id": "TocGNkstOLJ4"
      },
      "execution_count": null,
      "outputs": []
    },
    {
      "cell_type": "code",
      "source": [
        "result = []\n",
        "i=450\n",
        "result.append(search_categories[labels_level_1[i]][\"level_1\"])\n",
        "result.append(search_categories[labels_level_2[i]][\"level_2\"])\n",
        "result.append(search_categories[labels_level_3[i]][\"level_3\"])\n",
        "result.append(search_categories[labels_level_4[i]][\"level_4\"])\n",
        "result.append(search_categories[labels_level_5[i]][\"level_5\"])\n",
        "result.append(search_categories[labels_level_6[i]][\"level_6\"])\n",
        "result.append(search_categories[labels_level_7[i]][\"level_7\"])\n",
        "result = list(filter(lambda x: x != 'NA', result))\n",
        "result"
      ],
      "metadata": {
        "id": "jjAnb9ZXMzBV"
      },
      "execution_count": null,
      "outputs": []
    },
    {
      "cell_type": "markdown",
      "source": [
        "#METRICS"
      ],
      "metadata": {
        "id": "_sNuK4hzW1cg"
      }
    },
    {
      "cell_type": "code",
      "source": [
        "from sklearn.metrics import accuracy_score, f1_score, recall_score"
      ],
      "metadata": {
        "id": "okqGS-32zvwp"
      },
      "execution_count": null,
      "outputs": []
    },
    {
      "cell_type": "code",
      "source": [
        "print(\"Model 1 Level 1 Accuracy: {:.2f}\".format(accuracy_score(labels_level_1, level_1_predictions)))\n",
        "print(\"Model 1 Level 2 Accuracy: {:.2f}\".format(accuracy_score(labels_level_2, level_2_predictions)))\n",
        "print(\"Model 1 Level 3 Accuracy: {:.2f}\".format(accuracy_score(labels_level_3, level_3_predictions)))\n",
        "print(\"Model 1 Level 4 Accuracy: {:.2f}\".format(accuracy_score(labels_level_4, level_4_predictions)))\n",
        "print(\"Model 1 Level 5 Accuracy: {:.2f}\".format(accuracy_score(labels_level_5, level_5_predictions)))\n",
        "print(\"Model 1 Level 6 Accuracy: {:.2f}\".format(accuracy_score(labels_level_6, level_6_predictions)))\n",
        "print(\"Model 1 Level 7 Accuracy: {:.2f}\".format(accuracy_score(labels_level_7, level_7_predictions)))"
      ],
      "metadata": {
        "id": "lYj5UT1Mz5UU"
      },
      "execution_count": null,
      "outputs": []
    },
    {
      "cell_type": "code",
      "source": [
        "print(\"Model 1 Level 1 Accuracy: {:.2f}\".format(f1_score(labels_level_1, level_1_predictions, average=\"weighted\")))\n",
        "print(\"Model 1 Level 2 Accuracy: {:.2f}\".format(f1_score(labels_level_2, level_2_predictions, average=\"weighted\")))\n",
        "print(\"Model 1 Level 3 Accuracy: {:.2f}\".format(f1_score(labels_level_3, level_3_predictions, average=\"weighted\")))\n",
        "print(\"Model 1 Level 4 Accuracy: {:.2f}\".format(f1_score(labels_level_4, level_4_predictions, average=\"weighted\")))\n",
        "print(\"Model 1 Level 5 Accuracy: {:.2f}\".format(f1_score(labels_level_5, level_5_predictions, average=\"weighted\")))\n",
        "print(\"Model 1 Level 6 Accuracy: {:.2f}\".format(f1_score(labels_level_6, level_6_predictions, average=\"weighted\")))\n",
        "print(\"Model 1 Level 7 Accuracy: {:.2f}\".format(f1_score(labels_level_7, level_7_predictions, average=\"weighted\")))"
      ],
      "metadata": {
        "id": "755cmecZ0M8a"
      },
      "execution_count": null,
      "outputs": []
    },
    {
      "cell_type": "code",
      "source": [
        "print(\"Model 1 Level 1 Accuracy: {:.2f}\".format(recall_score(labels_level_1, level_1_predictions, average=\"micro\")))\n",
        "print(\"Model 1 Level 2 Accuracy: {:.2f}\".format(recall_score(labels_level_2, level_2_predictions, average=\"micro\")))\n",
        "print(\"Model 1 Level 3 Accuracy: {:.2f}\".format(recall_score(labels_level_3, level_3_predictions, average=\"micro\")))\n",
        "print(\"Model 1 Level 4 Accuracy: {:.2f}\".format(recall_score(labels_level_4, level_4_predictions, average=\"micro\")))\n",
        "print(\"Model 1 Level 5 Accuracy: {:.2f}\".format(recall_score(labels_level_5, level_5_predictions, average=\"micro\")))\n",
        "print(\"Model 1 Level 6 Accuracy: {:.2f}\".format(recall_score(labels_level_6, level_6_predictions, average=\"micro\")))\n",
        "print(\"Model 1 Level 7 Accuracy: {:.2f}\".format(recall_score(labels_level_7, level_7_predictions, average=\"micro\")))"
      ],
      "metadata": {
        "id": "h_dXKuyBFFon"
      },
      "execution_count": null,
      "outputs": []
    },
    {
      "cell_type": "markdown",
      "source": [
        "#Predict"
      ],
      "metadata": {
        "id": "b80W7Efp8Bdf"
      }
    },
    {
      "cell_type": "code",
      "source": [
        "def predict(input):\n",
        "  model.eval()\n",
        "  data_pred = pd.DataFrame.from_dict({\"text\":[input]})\n",
        "  data=tokenize_dataset(data_pred)\n",
        "  input_ids=torch.tensor(data.iloc[0][\"input_ids\"])\n",
        "  attention_mask=torch.tensor(data.iloc[0][\"attention_mask\"])\n",
        "  l1,l2,l3,l4,l5,l6,l7 = model(input_ids.unsqueeze(0).cuda(), attention_mask.unsqueeze(0).cuda())\n",
        "  return l1,l2,l3,l4,l5,l6,l7"
      ],
      "metadata": {
        "id": "bit5L6YL_BWk"
      },
      "execution_count": null,
      "outputs": []
    },
    {
      "cell_type": "code",
      "source": [
        "def parse_predictions(l1,l2,l3,l4,l5,l6,l7):\n",
        "  search_categories=invert_dict(categories)\n",
        "  result = []\n",
        "  result.append(search_categories[l1.argmax(1).item()][\"level_1\"])\n",
        "  result.append(search_categories[l2.argmax(1).item()][\"level_2\"])\n",
        "  result.append(search_categories[l3.argmax(1).item()][\"level_3\"])\n",
        "  result.append(search_categories[l4.argmax(1).item()][\"level_4\"])\n",
        "  result.append(search_categories[l5.argmax(1).item()][\"level_5\"])\n",
        "  result.append(search_categories[l6.argmax(1).item()][\"level_6\"])\n",
        "  result.append(search_categories[l7.argmax(1).item()][\"level_7\"])\n",
        "  result = list(set(filter(lambda x: x != 'NA', result)))\n",
        "  return result"
      ],
      "metadata": {
        "id": "gv0mz0YuLhsM"
      },
      "execution_count": null,
      "outputs": []
    },
    {
      "cell_type": "code",
      "source": [
        "def parse_probabilities(l1,l2,l3,l4,l5,l6,l7):\n",
        "  search_categories=invert_dict(categories)\n",
        "  result = []\n",
        "  levels = [l1,l2,l3,l4,l5,l6,l7]\n",
        "  for level in levels:\n",
        "    max = F.softmax(level, dim=1).max(1)\n",
        "    if max.indices.item() != 0:\n",
        "      result.append(round(max.values.item(),2))\n",
        "  return result"
      ],
      "metadata": {
        "id": "Lovs5PWFc_aB"
      },
      "execution_count": null,
      "outputs": []
    },
    {
      "cell_type": "code",
      "source": [
        "def combine_labels_with_probabilities(labels, probabilities):\n",
        "    combined = [f'{label} {prob:.2f}%' for label, prob in zip(labels, probabilities)]\n",
        "    return combined"
      ],
      "metadata": {
        "id": "yxw5q8mohG18"
      },
      "execution_count": null,
      "outputs": []
    },
    {
      "cell_type": "code",
      "source": [
        "input=\"home theatre sound system for tv\" "
      ],
      "metadata": {
        "id": "11ALK_X_7SCh"
      },
      "execution_count": null,
      "outputs": []
    },
    {
      "cell_type": "code",
      "source": [
        "l1,l2,l3,l4,l5,l6,l7=predict(input)"
      ],
      "metadata": {
        "id": "pvCpoHzqOADt"
      },
      "execution_count": null,
      "outputs": []
    },
    {
      "cell_type": "code",
      "source": [
        "labels =parse_predictions(l1,l2,l3,l4,l5,l6,l7)"
      ],
      "metadata": {
        "id": "6eLOzc_GKb0m"
      },
      "execution_count": null,
      "outputs": []
    },
    {
      "cell_type": "code",
      "source": [
        "probabilities=parse_probabilities(l1,l2,l3,l4,l5,l6,l7)"
      ],
      "metadata": {
        "id": "lw0eXfpua3NB"
      },
      "execution_count": null,
      "outputs": []
    },
    {
      "cell_type": "code",
      "source": [
        "combine_labels_with_probabilities(labels, probabilities)"
      ],
      "metadata": {
        "id": "J8iNkWYtd702"
      },
      "execution_count": null,
      "outputs": []
    },
    {
      "cell_type": "code",
      "source": [],
      "metadata": {
        "id": "uQBgTQgihX8H"
      },
      "execution_count": null,
      "outputs": []
    },
    {
      "cell_type": "code",
      "source": [
        "import matplotlib.pyplot as plt\n",
        "\n",
        "def plot_metric(levels, metric_values, metric_name):\n",
        "    plt.figure(figsize=(10,6))\n",
        "    plt.bar(levels, metric_values, color='steelblue')\n",
        "    for i in range(len(metric_values)):\n",
        "        plt.text(i, metric_values[i], f'{metric_values[i]:.2f}', ha = 'center')\n",
        "    plt.xlabel('Levels')\n",
        "    plt.ylabel(metric_name)\n",
        "    plt.title(f'Model 1 {metric_name} Across Levels')\n",
        "    plt.show()\n"
      ],
      "metadata": {
        "id": "O1ysUOlvU8nX"
      },
      "execution_count": null,
      "outputs": []
    },
    {
      "cell_type": "markdown",
      "source": [
        "Lista de etiquetas de nivel"
      ],
      "metadata": {
        "id": "_mLeLVmlVUWX"
      }
    },
    {
      "cell_type": "code",
      "source": [
        "level_labels = ['Level 1', 'Level 2', 'Level 3', 'Level 4', 'Level 5', 'Level 6', 'Level 7']"
      ],
      "metadata": {
        "id": "VAOYdpFVVXnd"
      },
      "execution_count": null,
      "outputs": []
    },
    {
      "cell_type": "markdown",
      "source": [
        "Lista de precisión de nivel"
      ],
      "metadata": {
        "id": "eSfxRpiSVcy5"
      }
    },
    {
      "cell_type": "code",
      "source": [
        "accuracy_scores = [accuracy_score(labels_level_1, level_1_predictions),\n",
        "                   accuracy_score(labels_level_2, level_2_predictions),\n",
        "                   accuracy_score(labels_level_3, level_3_predictions),\n",
        "                   accuracy_score(labels_level_4, level_4_predictions),\n",
        "                   accuracy_score(labels_level_5, level_5_predictions),\n",
        "                   accuracy_score(labels_level_6, level_6_predictions),\n",
        "                   accuracy_score(labels_level_7, level_7_predictions)]"
      ],
      "metadata": {
        "id": "0gB2JkahVcPV"
      },
      "execution_count": null,
      "outputs": []
    },
    {
      "cell_type": "markdown",
      "source": [
        "Crear el gráfico de barras"
      ],
      "metadata": {
        "id": "O4aaxQzXVhfu"
      }
    },
    {
      "cell_type": "code",
      "source": [
        "plt.bar(level_labels, accuracy_scores)"
      ],
      "metadata": {
        "id": "H0o_d4w6VhMk"
      },
      "execution_count": null,
      "outputs": []
    },
    {
      "cell_type": "markdown",
      "source": [
        "Etiquetas y título del gráfico"
      ],
      "metadata": {
        "id": "GHibXC8rVoIB"
      }
    },
    {
      "cell_type": "code",
      "source": [
        "import matplotlib.pyplot as plt\n",
        "\n",
        "levels = ['Level 1', 'Level 2', 'Level 3', 'Level 4', 'Level 5', 'Level 6', 'Level 7']\n",
        "\n",
        "#Accuracy values\n",
        "accuracy_values = [\n",
        "    recall_score(labels_level_1, level_1_predictions, average=\"micro\"),\n",
        "    recall_score(labels_level_2, level_2_predictions, average=\"micro\"),\n",
        "    recall_score(labels_level_3, level_3_predictions, average=\"micro\"),\n",
        "    recall_score(labels_level_4, level_4_predictions, average=\"micro\"),\n",
        "    recall_score(labels_level_5, level_5_predictions, average=\"micro\"),\n",
        "    recall_score(labels_level_6, level_6_predictions, average=\"micro\"),\n",
        "    recall_score(labels_level_7, level_7_predictions, average=\"micro\")\n",
        "]\n",
        "plt.figure(figsize=(8, 5))\n",
        "plt.bar(levels, accuracy_values)\n",
        "plt.xlabel('Level')\n",
        "plt.ylabel('Accuracy')\n",
        "plt.title('Model Accuracy per Level')\n",
        "plt.show()\n",
        "\n",
        "#F1 score values\n",
        "f1_values = [\n",
        "    recall_score(labels_level_1, level_1_predictions, average=\"micro\"),\n",
        "    recall_score(labels_level_2, level_2_predictions, average=\"micro\"),\n",
        "    recall_score(labels_level_3, level_3_predictions, average=\"micro\"),\n",
        "    recall_score(labels_level_4, level_4_predictions, average=\"micro\"),\n",
        "    recall_score(labels_level_5, level_5_predictions, average=\"micro\"),\n",
        "    recall_score(labels_level_6, level_6_predictions, average=\"micro\"),\n",
        "    recall_score(labels_level_7, level_7_predictions, average=\"micro\")\n",
        "]\n",
        "plt.figure(figsize=(8, 5))\n",
        "plt.bar(levels, f1_values)\n",
        "plt.xlabel('Level')\n",
        "plt.ylabel('F1 Score')\n",
        "plt.title('Model F1 Score per Level')\n",
        "plt.show()\n",
        "\n",
        "#Recall values\n",
        "recall_values = [\n",
        "    recall_score(labels_level_1, level_1_predictions, average=\"micro\"),\n",
        "    recall_score(labels_level_2, level_2_predictions, average=\"micro\"),\n",
        "    recall_score(labels_level_3, level_3_predictions, average=\"micro\"),\n",
        "    recall_score(labels_level_4, level_4_predictions, average=\"micro\"),\n",
        "    recall_score(labels_level_5, level_5_predictions, average=\"micro\"),\n",
        "    recall_score(labels_level_6, level_6_predictions, average=\"micro\"),\n",
        "    recall_score(labels_level_7, level_7_predictions, average=\"micro\")\n",
        "]\n",
        "plt.figure(figsize=(8, 5))\n",
        "plt.bar(levels, recall_values)\n",
        "plt.xlabel('Level')\n",
        "plt.ylabel('Recall')\n",
        "plt.title('Model Recall per Level')\n",
        "plt.show()"
      ],
      "metadata": {
        "id": "UEg0mD0CV3iN"
      },
      "execution_count": null,
      "outputs": []
    },
    {
      "cell_type": "code",
      "source": [
        "import numpy as np\n",
        "\n",
        "# Define the metrics\n",
        "levels = ['Level 1', 'Level 2', 'Level 3', 'Level 4', 'Level 5', 'Level 6', 'Level 7']\n",
        "accuracy_values = [accuracy_score(labels_level_1, level_1_predictions), \n",
        "                   accuracy_score(labels_level_2, level_2_predictions),\n",
        "                   accuracy_score(labels_level_3, level_3_predictions),\n",
        "                   accuracy_score(labels_level_4, level_4_predictions),\n",
        "                   accuracy_score(labels_level_5, level_5_predictions),\n",
        "                   accuracy_score(labels_level_6, level_6_predictions),\n",
        "                   accuracy_score(labels_level_7, level_7_predictions)]\n",
        "\n",
        "f1_values = [f1_score(labels_level_1, level_1_predictions, average=\"micro\"), \n",
        "             f1_score(labels_level_2, level_2_predictions, average=\"micro\"),\n",
        "             f1_score(labels_level_3, level_3_predictions, average=\"micro\"),\n",
        "             f1_score(labels_level_4, level_4_predictions, average=\"micro\"),\n",
        "             f1_score(labels_level_5, level_5_predictions, average=\"micro\"),\n",
        "             f1_score(labels_level_6, level_6_predictions, average=\"micro\"),\n",
        "             f1_score(labels_level_7, level_7_predictions, average=\"micro\")]\n",
        "\n",
        "recall_values = [recall_score(labels_level_1, level_1_predictions, average=\"micro\"), \n",
        "                 recall_score(labels_level_2, level_2_predictions, average=\"micro\"),\n",
        "                 recall_score(labels_level_3, level_3_predictions, average=\"micro\"),\n",
        "                 recall_score(labels_level_4, level_4_predictions, average=\"micro\"),\n",
        "                 recall_score(labels_level_5, level_5_predictions, average=\"micro\"),\n",
        "                 recall_score(labels_level_6, level_6_predictions, average=\"micro\"),\n",
        "                 recall_score(labels_level_7, level_7_predictions, average=\"micro\")]\n",
        "\n",
        "# Set bar width and positions\n",
        "barWidth = 0.25\n",
        "r1 = np.arange(len(accuracy_values))\n",
        "r2 = [x + barWidth for x in r1]\n",
        "r3 = [x + barWidth for x in r2]\n",
        "\n",
        "# Start the plot\n",
        "plt.figure(figsize=(10,6))\n",
        "\n",
        "# Add bars for each metric\n",
        "plt.bar(r1, accuracy_values, color='b', width=barWidth, edgecolor='grey', label='Accuracy')\n",
        "plt.bar(r2, f1_values, color='r', width=barWidth, edgecolor='grey', label='F1 Score')\n",
        "plt.bar(r3, recall_values, color='g', width=barWidth, edgecolor='grey', label='Recall')\n",
        "\n",
        "# Add xticks in the middle of the group bars\n",
        "plt.xlabel('Levels')\n",
        "plt.xticks([r + barWidth for r in range(len(accuracy_values))], levels)\n",
        "\n",
        "# Add labels and title\n",
        "plt.ylabel('Score')\n",
        "plt.title('Model Performance Metrics per Level')\n",
        "\n",
        "# Create legend & Show graphic\n",
        "plt.legend()\n",
        "plt.show()\n"
      ],
      "metadata": {
        "id": "WNDt9qxeaYvs"
      },
      "execution_count": null,
      "outputs": []
    },
    {
      "cell_type": "code",
      "source": [
        "import matplotlib.pyplot as plt\n",
        "from sklearn.metrics import roc_curve, auc\n",
        "\n",
        "# Definir las etiquetas de nivel\n",
        "levels = ['Level 1', 'Level 2', 'Level 3', 'Level 4', 'Level 5', 'Level 6', 'Level 7']\n",
        "\n",
        "# Definir las métricas de recall\n",
        "recall_values = [recall_score(labels_level_1, level_1_predictions, average=\"micro\"),\n",
        "                 recall_score(labels_level_2, level_2_predictions, average=\"micro\"),\n",
        "                 recall_score(labels_level_3, level_3_predictions, average=\"micro\"),\n",
        "                 recall_score(labels_level_4, level_4_predictions, average=\"micro\"),\n",
        "                 recall_score(labels_level_5, level_5_predictions, average=\"micro\"),\n",
        "                 recall_score(labels_level_6, level_6_predictions, average=\"micro\"),\n",
        "                 recall_score(labels_level_7, level_7_predictions, average=\"micro\")]\n",
        "\n",
        "# Calcular la curva ROC para cada nivel\n",
        "fpr, tpr, thresholds = roc_curve(levels, recall_values)\n",
        "\n",
        "# Calcular el área bajo la curva (AUC)\n",
        "roc_auc = auc(fpr, tpr)\n",
        "\n",
        "# Crear el gráfico de la curva ROC\n",
        "plt.figure()\n",
        "plt.plot(fpr, tpr, label='ROC curve (area = {:.2f})'.format(roc_auc))\n",
        "plt.plot([0, 1], [0, 1], 'k--')  # Línea de referencia diagonal\n",
        "plt.xlim([0.0, 1.0])\n",
        "plt.ylim([0.0, 1.05])\n",
        "plt.xlabel('False Positive Rate')\n",
        "plt.ylabel('True Positive Rate')\n",
        "plt.title('Receiver Operating Characteristic')\n",
        "plt.legend(loc=\"lower right\")\n",
        "\n",
        "# Mostrar el gráfico\n",
        "plt.show()\n"
      ],
      "metadata": {
        "id": "g6-Q9DEczTQk"
      },
      "execution_count": null,
      "outputs": []
    }
  ]
}